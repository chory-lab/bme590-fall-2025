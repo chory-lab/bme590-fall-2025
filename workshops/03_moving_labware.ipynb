{
 "cells": [
  {
   "cell_type": "markdown",
   "id": "db55abda",
   "metadata": {},
   "source": [
    "# BME 590 - Workshop 3 - Moving Labware\n",
    "**Professor:** Emma Chory, Ph.D.\n",
    "\n",
    "**Authors:** \n",
    "Rick Wierenga, Joe Laforet, Stefan Golas, Ben Perry\n",
    "\n",
    "---\n",
    "\n",
    "### Usage Note\n",
    "**Reminder** - You should be running this notebook **locally** on **VS Code** not navigating it through **GitHub**.\n",
    "\n",
    "**Reminder 2** - Remember to run `git pull` before copying this notebook so you get the most recent class updates. See [Section 6 of the class README](https://github.com/chory-lab/bme590-fall-2025#step-6-updating-to-the-latest-version)\n",
    "\n",
    "---"
   ]
  },
  {
   "cell_type": "markdown",
   "id": "bcf6949f",
   "metadata": {},
   "source": [
    "### Moving Labware\n",
    "Now that we have covered moving liquids around on the liquid handling apparatus, we hit a bottleneck: we are limited by the labware we can place on a given deck! If only there were a way to be able to automatically move labware to and from the liquid handling deck, we could:\n",
    "\n",
    "- Replace tip racks when they run out of tips with a fresh box.\n",
    "\n",
    "- Throw used plates into the trash.\n",
    "\n",
    "- Rotate labware\n",
    "\n",
    "- Move plates to/from specific locations on the deck that may contain specialized modules, such as heater-shakers, strong magnets, etc.\n",
    "\n",
    "- Move plates to another piece of equipment outside the deck, such as a refrigerator, plate reader, or even another liquid handling deck (2nd robot).\n",
    "\n",
    "To actually move labware, things get a bit free-form, since there isn't a singular way to do it. Some robotic platforms, such as [Hamilton Microlab STAR platform](https://www.hamiltoncompany.com/microlab-star?srsltid=AfmBOor9rRfwPDsMrefQ3RGW64R1prQ03U29WxRBeRFfOGEDS3UAVOk3) or [OpenTrons-2](https://opentrons.com/products/opentrons-flex-gripper-gen1?kw=&cpn=21988025885&utm_term=&utm_source=google&utm_medium=cpc&utm_campaign=NAMER_Pmax_Brand_Plus_Emea&hsa_cam=21776817541&hsa_grp=&hsa_mt=&hsa_src=x&hsa_ad=&hsa_acc=2303351826&hsa_net=adwords&hsa_kw=&hsa_tgt=&hsa_ver=3&gad_source=1&gad_campaignid=21981643080&gbraid=0AAAAADemOsUxn_dtGtEETQnNTZDQP95mg&gclid=Cj0KCQjw3OjGBhDYARIsADd-uX5NmfCoeBmgGsdW_Vi9PovGUjK89S0KfF5dOU00o2EUQ4l_zZeNuucaAug4EALw_wcB) have grippers that are built in or can be attached to perform **intra-deck moves**, meaning moving labware from one spot on the deck to another.\n",
    "\n",
    "For even more flexibiility, there are **robot arm** systems which can move plates among **different lab equipment**, such as moving a plate to a plate reader, PCR machine, refrigerator, or other equipment, such as the Peak Robotics [KX2-500](https://peakrobotics.com/product/kx2-500/). Sometimes, these arms may be attached to **linear rail** systems, like [this one](https://peakrobotics.com/product/linear-rail-500mm/) to even more the arm around.\n",
    "\n",
    "Even more flexible are humanoid robots such as [Figure](https://www.figure.ai/) or [Unitree](https://www.unitree.com/R1) that can perform many tasks in a lab, especially when powered with open source robotic world models like [LeRobot](https://github.com/huggingface/lerobot) and NVIDIA [Isaac GROOT](https://github.com/NVIDIA/Isaac-GR00T).\n",
    "\n",
    "For this tutorial, we will focus on **intra-deck grippers** since they are the simplest to conceptually understand. While there are some implementations of control over gripper functions in [PLR](https://docs.pylabrobot.org/user_guide/00_liquid-handling/hamilton-star/iswap-module.html#rotations), for the most part we will be implementing **custom classes to siimulate gripper function**.\n",
    "\n",
    "If you are using an extenral arm, robot, or other device, you will ultimately **integrate the code to control that device** with your liquid handling code, and this notebook will give you good practice at that.\n",
    "\n",
    "In this notebook we will:\n",
    "\n",
    "- Set up an OpenTrons-2 Deck with a custom Gripper class that we implement from scratch.\n",
    "\n",
    "- Demonstrate examples of using this gripper class to move plates around and add/remoe a custom **plate lid** to each piece of labware.\n",
    "\n",
    "- Task you with several exercises at implementing your own Gripper and functionalities."
   ]
  },
  {
   "cell_type": "markdown",
   "id": "958e47cc",
   "metadata": {},
   "source": [
    "### Initial OT-2 Deck Setup & Imports\n",
    "\n",
    "First, let's go ahead and import the equipment we need."
   ]
  },
  {
   "cell_type": "code",
   "execution_count": null,
   "id": "76bb9b1c",
   "metadata": {},
   "outputs": [],
   "source": [
    "# standard imports\n",
    "from pylabrobot.liquid_handling.backends.backend import LiquidHandlerBackend\n",
    "from pylabrobot.liquid_handling import LiquidHandler\n",
    "from pylabrobot.liquid_handling.backends import LiquidHandlerChatterboxBackend\n",
    "from pylabrobot.resources.opentrons import OTDeck\n",
    "from pylabrobot.visualizer.visualizer import Visualizer\n",
    "\n",
    "import time\n",
    "\n",
    "# resources for deck setup\n",
    "from pylabrobot.resources import (\n",
    "    Deck,\n",
    "    Resource,\n",
    "    set_tip_tracking,\n",
    "    set_volume_tracking,\n",
    "    set_cross_contamination_tracking,\n",
    "    corning_96_wellplate_360ul_flat,\n",
    "    opentrons_24_tuberack_eppendorf_2ml_safelock_snapcap_acrylic,\n",
    "    opentrons_96_tiprack_1000ul\n",
    ")"
   ]
  },
  {
   "cell_type": "markdown",
   "id": "b57a6510",
   "metadata": {},
   "source": [
    "Enable trackers for error catching"
   ]
  },
  {
   "cell_type": "code",
   "execution_count": null,
   "id": "5ec41032",
   "metadata": {},
   "outputs": [],
   "source": [
    "set_tip_tracking(enabled = True)\n",
    "set_volume_tracking(enabled = True)\n",
    "set_cross_contamination_tracking(enabled = True)"
   ]
  },
  {
   "cell_type": "markdown",
   "id": "60d8d69d",
   "metadata": {},
   "source": [
    "Define the `visualize_deck` function"
   ]
  },
  {
   "cell_type": "code",
   "execution_count": null,
   "id": "94e3d09b",
   "metadata": {},
   "outputs": [],
   "source": [
    "async def visualize_deck(deck: Deck,\n",
    "                         backend: LiquidHandlerBackend):\n",
    "    # try setting up the deck with error-catching\n",
    "    try:\n",
    "        lh = LiquidHandler(backend=backend, deck=deck)\n",
    "        vis = Visualizer(resource = lh)\n",
    "        await lh.setup()\n",
    "        await vis.setup()\n",
    "        return lh\n",
    "    except Exception as e:\n",
    "        print(f\"Error! Got excpetion: {e}\")"
   ]
  },
  {
   "cell_type": "markdown",
   "id": "f561a11f",
   "metadata": {},
   "source": [
    "Create the OT-2 Deck"
   ]
  },
  {
   "cell_type": "code",
   "execution_count": null,
   "id": "0eca2922",
   "metadata": {},
   "outputs": [],
   "source": [
    "async def make_same_ot2():\n",
    "\n",
    "    # instantiate deck\n",
    "    deck = OTDeck()\n",
    "\n",
    "    # add tip racks\n",
    "    tip_rack_slots = [10, 11]\n",
    "    for i, tip_rack_slot in enumerate(tip_rack_slots):\n",
    "        deck.assign_child_at_slot(opentrons_96_tiprack_1000ul(name = f\"tip_rack_{i}\"), tip_rack_slot)\n",
    "    \n",
    "    # add 96 well plate and tube rack\n",
    "    deck.assign_child_at_slot(corning_96_wellplate_360ul_flat(name = f\"plate\"), 5)\n",
    "    tube_rack = opentrons_24_tuberack_eppendorf_2ml_safelock_snapcap_acrylic(name = \"tube_rack\")\n",
    "    deck.assign_child_at_slot(tube_rack, 2)\n",
    "\n",
    "    # fill tube rack diagonals with liquid\n",
    "    dye = (\"Red Dye\", 2_000)\n",
    "    for i, well_batch in enumerate(tube_rack.traverse(batch_size = 1, start = \"top_left\", direction = \"snake_down\")):\n",
    "        if i % 2 == 0:\n",
    "            for well in well_batch:\n",
    "                well.tracker.set_liquids([dye])\n",
    "    return deck\n",
    "\n",
    "# call function\n",
    "deck = await make_same_ot2()\n",
    "lh = await visualize_deck(deck, LiquidHandlerChatterboxBackend())"
   ]
  },
  {
   "cell_type": "markdown",
   "id": "4240e357",
   "metadata": {},
   "source": [
    "Let's print the deck summary"
   ]
  },
  {
   "cell_type": "code",
   "execution_count": null,
   "id": "af6cc032",
   "metadata": {},
   "outputs": [],
   "source": [
    "print(deck.summary())"
   ]
  },
  {
   "cell_type": "markdown",
   "id": "2a434267",
   "metadata": {},
   "source": [
    "### Introducing the OT-2 Gripper!\n",
    "\n",
    "Various liquid handling robots have a part called a Gripper. It is essentially an arm that you can program to move labware around the deck as your protocol progresses. The OpenTrons OT2 does not have one of these, but the OpenTrons Flex does. For this tutorial, we will be using a simulated Gripper class that implements the methods we need to demonstrate how you would use this feature in a real experiment.\n",
    "\n",
    "To do this, we will implement a Python class with two methods:\n",
    "\n",
    "- `__init__()`: This function is a special python **dunder** method which tells Python how to **instantiate the class**.\n",
    "\n",
    "- `move_labware()`: This function will simply take in a certain labware on the deck and move it to a target desination spot.\n",
    "\n",
    "Let's code it below!"
   ]
  },
  {
   "cell_type": "code",
   "execution_count": null,
   "id": "33041d0a",
   "metadata": {},
   "outputs": [],
   "source": [
    "# to dfine a class, use class <class_name>: format\n",
    "class Gripper:\n",
    "\n",
    "    def __init__(self, lh: LiquidHandler):\n",
    "        \"\"\"\n",
    "        Constructor, this function instantiates our Gripper, given only one input argument, the liquid handler head.\n",
    "        \n",
    "        self - Argument required by Python class, signals a method is part of a class and has all atributes of self\n",
    "        lh - Liquid handler object, to be stored in self.lh, which is accessible by all class methods\n",
    "        \"\"\"\n",
    "        self.lh = lh # assign a property of the class, which will be accessible by all methods of the class\n",
    "\n",
    "    def move_labware(self, labware: Resource, dest_spot: int):\n",
    "        \"\"\"\n",
    "        Basic move labware function for OT-2, which will move a labware from its curent spot to a new spot.\n",
    "\n",
    "        self - Argument required by all methods in Python class, signals method is part of the class.\n",
    "        labware - The specific labware to move on the OT-2 deck. Must exist on deck\n",
    "        dest_spot - The target destination spot on the OT-2 deck to move the labware to.\n",
    "        \"\"\"\n",
    "        self.lh.deck.unassign_child_resource(labware)\n",
    "        self.lh.deck.assign_child_at_slot(labware, dest_spot)\n",
    "        print(f\"Moving {labware.name} to spot {dest_spot}\")"
   ]
  },
  {
   "cell_type": "markdown",
   "id": "62d3101c",
   "metadata": {},
   "source": [
    "Ok great, now let's try instantiating the class with out existing liquid handler object."
   ]
  },
  {
   "cell_type": "code",
   "execution_count": null,
   "id": "8abab4b9",
   "metadata": {},
   "outputs": [],
   "source": [
    "ot_gripper = Gripper(lh)"
   ]
  },
  {
   "cell_type": "markdown",
   "id": "a40f4ba6",
   "metadata": {},
   "source": [
    "Great! Now let's try to use it to move the tube rack to spot 1. First get the tube rack"
   ]
  },
  {
   "cell_type": "code",
   "execution_count": null,
   "id": "a8515bdd",
   "metadata": {},
   "outputs": [],
   "source": [
    "tube_rack = deck.get_resource(\"tube_rack\")"
   ]
  },
  {
   "cell_type": "markdown",
   "id": "03c10661",
   "metadata": {},
   "source": [
    "Move it using the pre-defined `move_labware` function"
   ]
  },
  {
   "cell_type": "code",
   "execution_count": null,
   "id": "b5f2e4ce",
   "metadata": {},
   "outputs": [],
   "source": [
    "ot_gripper.move_labware(tube_rack, dest_spot = 1)"
   ]
  },
  {
   "cell_type": "markdown",
   "id": "326aee3d",
   "metadata": {},
   "source": [
    "Let's print the deck summary. **You should see that the tube rack has moved**.\n",
    "\n",
    "Check the visualizer too!"
   ]
  },
  {
   "cell_type": "code",
   "execution_count": null,
   "id": "4f144518",
   "metadata": {},
   "outputs": [],
   "source": [
    "print(deck.summary())"
   ]
  },
  {
   "cell_type": "markdown",
   "id": "5d93683b",
   "metadata": {},
   "source": [
    "We can even write a for loop to move the tube rack up in a vertical column. Let's try that"
   ]
  },
  {
   "cell_type": "code",
   "execution_count": null,
   "id": "68439151",
   "metadata": {},
   "outputs": [],
   "source": [
    "# for each slot available\n",
    "for i in range(4, 11, 3):\n",
    "    # check to see if the deck slot in occupied\n",
    "    if deck.slots[i - 1] is None:\n",
    "        ot_gripper.move_labware(tube_rack, dest_spot = i)\n",
    "        print(deck.summary())\n",
    "        time.sleep(0.5)"
   ]
  },
  {
   "cell_type": "markdown",
   "id": "9e317e5b",
   "metadata": {},
   "source": [
    "We can make this more general by adding a start_slot number to move up a column. Let's reset where the tube rack is and try again."
   ]
  },
  {
   "cell_type": "code",
   "execution_count": null,
   "id": "86752352",
   "metadata": {},
   "outputs": [],
   "source": [
    "# define a start slot so we can start from anywhere on the deck\n",
    "start_slot = 4\n",
    "ot_gripper.move_labware(tube_rack, dest_spot = start_slot) # move the labware to start slot, if it elsewhere. for visualization\n",
    "\n",
    "# delay -> switch to visualizer here\n",
    "time.sleep(0.5)\n",
    "\n",
    "# for each slot in a column\n",
    "for i in range(start_slot + 3, 12, 3):\n",
    "    if deck.slots[i - 1] is None:\n",
    "        ot_gripper.move_labware(tube_rack, dest_spot = i)\n",
    "        print(deck.summary())\n",
    "        time.sleep(0.5)"
   ]
  },
  {
   "cell_type": "markdown",
   "id": "f35ea3a2",
   "metadata": {},
   "source": [
    "Great! Turns out, we can also figure out, based on the labware, what the **start slot** is!"
   ]
  },
  {
   "cell_type": "code",
   "execution_count": null,
   "id": "25bfcecd",
   "metadata": {},
   "outputs": [],
   "source": [
    "# show that can can determine whether start slot is 4\n",
    "ot_gripper.move_labware(tube_rack, dest_spot = 4)\n",
    "start_slot = deck.slots.index(tube_rack) + 1\n",
    "print(f\"Start slot is: {start_slot}\")\n",
    "\n",
    "# or whether it is 1\n",
    "ot_gripper.move_labware(tube_rack, dest_spot = 1)\n",
    "start_slot = deck.slots.index(tube_rack) + 1\n",
    "print(f\"Start slot is: {start_slot}\")"
   ]
  },
  {
   "cell_type": "markdown",
   "id": "916ecf5f",
   "metadata": {},
   "source": [
    "We can now replace our start_slot variable with this one to enable referencing by labware only."
   ]
  },
  {
   "cell_type": "code",
   "execution_count": null,
   "id": "fc54bcc0",
   "metadata": {},
   "outputs": [],
   "source": [
    "# Now determine the start slot automatically, given the labware\n",
    "start_slot = deck.slots.index(tube_rack) + 1\n",
    "ot_gripper.move_labware(tube_rack, dest_spot = 1)\n",
    "\n",
    "# delay -> switch to visualizer here\n",
    "time.sleep(0.5)\n",
    "\n",
    "# same as before. iterate over column slots\n",
    "for i in range(start_slot + 3, 12, 3):\n",
    "    print(i)\n",
    "    if deck.slots[i - 1] is None:\n",
    "        ot_gripper.move_labware(tube_rack, dest_spot = i)\n",
    "        print(deck.summary())\n",
    "        time.sleep(0.5)"
   ]
  },
  {
   "cell_type": "markdown",
   "id": "e77066c6",
   "metadata": {},
   "source": [
    "Let's now turn this into a **function** so we don't have to keep copy/pasting this code!"
   ]
  },
  {
   "cell_type": "code",
   "execution_count": null,
   "id": "a16aa551",
   "metadata": {},
   "outputs": [],
   "source": [
    "# define function version of our column code\n",
    "def move_labware_column_up(labware: Resource):\n",
    "\n",
    "    # find start index\n",
    "    start_slot = deck.slots.index(labware) + 1\n",
    "    ot_gripper.move_labware(labware, dest_spot = 1)\n",
    "\n",
    "    # delay to swap to visualizer\n",
    "    time.sleep(0.5)\n",
    "\n",
    "    # iterate over slots and move labware\n",
    "    for i in range(start_slot + 3, 12, 3):\n",
    "        print(i)\n",
    "\n",
    "        # make sure target slot is not already occupied\n",
    "        if deck.slots[i - 1] is None:\n",
    "            ot_gripper.move_labware(labware, dest_spot = i)\n",
    "            print(deck.summary())\n",
    "            time.sleep(0.5)"
   ]
  },
  {
   "cell_type": "markdown",
   "id": "4d21552f",
   "metadata": {},
   "source": [
    "Now we can call the function to move the plate again. Let's reset the plate position to 1."
   ]
  },
  {
   "cell_type": "markdown",
   "id": "160b3149",
   "metadata": {},
   "source": [
    "Call our new function to move the plate up to the last unoccupied spot."
   ]
  },
  {
   "cell_type": "code",
   "execution_count": null,
   "id": "836401d3",
   "metadata": {},
   "outputs": [],
   "source": [
    "move_labware_column_up(tube_rack)"
   ]
  },
  {
   "cell_type": "markdown",
   "id": "54fc0c3e",
   "metadata": {},
   "source": [
    "This seems like a useful utility to add to our OT-2 gripper. Let's add it as a class method.\n",
    "\n",
    "By **defining the function** within the class, we can **use it later by just initializing the class**"
   ]
  },
  {
   "cell_type": "code",
   "execution_count": null,
   "id": "d2744332",
   "metadata": {},
   "outputs": [],
   "source": [
    "class NewGripper:\n",
    "\n",
    "    def __init__(self, lh: LiquidHandler):\n",
    "        \"\"\"\n",
    "        Constructor, this function instantiates our Gripper, given only one input argument, the liquid handler head.\n",
    "        \n",
    "        self - Argument required by Python class, signals a method is part of a class and has all atributes of self\n",
    "        lh - Liquid handler object, to be stored in self.lh, which is accessible by all class methods\n",
    "        \"\"\"\n",
    "        self.lh = lh # assign a property of the class, which will be accessible by all methods of the class\n",
    "\n",
    "    def move_labware(self, labware: Resource, dest_spot: int):\n",
    "        \"\"\"\n",
    "        Basic move labware function for OT-2, which will move a labware from its curent spot to a new spot.\n",
    "\n",
    "        self - Argument required by all methods in Python class, signals method is part of the class.\n",
    "        labware - The specific labware to move on the OT-2 deck. Must exist on deck\n",
    "        dest_spot - The target destination spot on the OT-2 deck to move the labware to.\n",
    "        \"\"\"\n",
    "        self.lh.deck.unassign_child_resource(labware)\n",
    "        self.lh.deck.assign_child_at_slot(labware, dest_spot)\n",
    "        print(f\"Moving {labware.name} to spot {dest_spot}\")\n",
    "\n",
    "    def move_labware_column_up(self, labware: Resource):\n",
    "        \"\"\"\n",
    "        Move function to move a given labware up a column\n",
    "\n",
    "        self - Argument required by all methods in Python class, signals method is part of the class.\n",
    "        labware - The specific labware to move on the OT-2 deck. Must exist on deck\n",
    "        \"\"\"\n",
    "        start_slot = self.lh.deck.slots.index(labware) + 1\n",
    "        for i in range(start_slot + 3, 12, 3):\n",
    "            print(f\"Moving {labware.name} to spot {i}\")\n",
    "            if deck.slots[i - 1] is None:\n",
    "                self.move_labware(labware, dest_spot = i) # NOTICE - See how we can use the method already defined by the class to move the labware? This means we don't have to re-write the code.\n",
    "                time.sleep(0.5)\n",
    "            else:\n",
    "                print(f\"Spot {i} occupied! Skipping...\")"
   ]
  },
  {
   "cell_type": "markdown",
   "id": "90b5ca95",
   "metadata": {},
   "source": [
    "Great, now let's do the same move again, but with our new class."
   ]
  },
  {
   "cell_type": "code",
   "execution_count": null,
   "id": "fae36f07",
   "metadata": {},
   "outputs": [],
   "source": [
    "deck = await make_same_ot2()\n",
    "lh = await visualize_deck(deck, LiquidHandlerChatterboxBackend())\n",
    "\n",
    "tube_rack = deck.get_resource(\"tube_rack\")"
   ]
  },
  {
   "cell_type": "code",
   "execution_count": null,
   "id": "f1bad3f8",
   "metadata": {},
   "outputs": [],
   "source": [
    "# define new gripper and use it to move in a column upwards.\n",
    "ot_new_gripper = NewGripper(lh)\n",
    "ot_new_gripper.move_labware(tube_rack, 1)\n",
    "ot_new_gripper.move_labware_column_up(tube_rack)"
   ]
  },
  {
   "cell_type": "markdown",
   "id": "de734845",
   "metadata": {},
   "source": [
    "Great, now experiment a bit by using the following cell to try and move labware around the deck:\n",
    "\n",
    "- Try to move the plate to slot 3 then move it up to slot 9 only in two function calls.\n",
    "\n",
    "- Try to move the tube rack to slot 1 then slot 5 then slot 7 with a for loop"
   ]
  },
  {
   "cell_type": "code",
   "execution_count": null,
   "id": "cb3cb1b7",
   "metadata": {},
   "outputs": [],
   "source": [
    "# Test code here\n",
    "labware_to_move = ...\n",
    "ot_new_gripper.move_labware(...)"
   ]
  },
  {
   "cell_type": "markdown",
   "id": "6490248e",
   "metadata": {},
   "source": [
    "### Adding Functions - Moving Labware by Name\n",
    "\n",
    "Notice how we still have to **first define the labware we are moving** by using `get_resoorce()`? That seems a bit annoying. Perhaps we can add it as a class method to our existing class and replace the old functions so they can access things by labware name alone. Let's try."
   ]
  },
  {
   "cell_type": "code",
   "execution_count": null,
   "id": "e62334bb",
   "metadata": {},
   "outputs": [],
   "source": [
    "class NewNamedGripper:\n",
    "\n",
    "    def __init__(self, lh: LiquidHandler):\n",
    "        \"\"\"\n",
    "        Constructor, this function instantiates our Gripper, given only one input argument, the liquid handler head.\n",
    "        \n",
    "        self - Argument required by Python class, signals a method is part of a class and has all atributes of self\n",
    "        lh - Liquid handler object, to be stored in self.lh, which is accessible by all class methods\n",
    "        \"\"\"\n",
    "        self.lh = lh # assign a property of the class, which will be accessible by all methods of the class\n",
    "\n",
    "    def move_labware(self, labware: Resource, dest_spot: int):\n",
    "        \"\"\"\n",
    "        Basic move labware function for OT-2, which will move a labware from its curent spot to a new spot.\n",
    "\n",
    "        self - Argument required by all methods in Python class, signals method is part of the class.\n",
    "        labware - The specific labware to move on the OT-2 deck. Must exist on deck\n",
    "        dest_spot - The target destination spot on the OT-2 deck to move the labware to.\n",
    "        \"\"\"\n",
    "        self.lh.deck.unassign_child_resource(labware)\n",
    "        time.sleep(0.5)\n",
    "        self.lh.deck.assign_child_at_slot(labware, dest_spot)\n",
    "        print(f\"Moving {labware.name} to spot {dest_spot}\")\n",
    "\n",
    "    def move_labware_column_up(self, labware: Resource):\n",
    "        \"\"\"\n",
    "        Move function to move a given labware up a column\n",
    "\n",
    "        self - Argument required by all methods in Python class, signals method is part of the class.\n",
    "        labware - The specific labware to move on the OT-2 deck. Must exist on deck\n",
    "        \"\"\"\n",
    "        start_slot = self.lh.deck.slots.index(labware) + 1\n",
    "        for i in range(start_slot + 3, 12, 3):\n",
    "            print(f\"Moving {labware.name} to spot {i}\")\n",
    "            if self.lh.deck.slots[i - 1] is None:\n",
    "                self.move_labware(labware, dest_spot = i) # NOTICE - See how we can use the method already defined by the class to move the labware? This means we don't have to re-write the code.\n",
    "                time.sleep(0.5)\n",
    "            else:\n",
    "                print(f\"Spot {i} occupied! Skipping...\")\n",
    "    \n",
    "    def get_labware_by_name(self, name: str):\n",
    "        \"\"\"\n",
    "        Function to retrieve labware on the deck by the resource name\n",
    "\n",
    "        self - Argument required by all methods in Python class, signals method is part of the class.\n",
    "        name - The specific labware name to retrieve.\n",
    "        \"\"\"\n",
    "        return self.lh.deck.get_resource(name)\n",
    "\n",
    "    def move_labware_by_name(self, labware_name: str, dest_spot: int):\n",
    "        \"\"\"\n",
    "        Move function to move a given labware to a destination spot, by name.\n",
    "\n",
    "        self - Argument required by all methods in Python class, signals method is part of the class.\n",
    "        labware_name - The specific name of the labware to move on the OT-2 deck. Must exist on deck\n",
    "        dest_spot - The target destination spot on the OT-2 deck to move the labware to.\n",
    "        \"\"\"\n",
    "        labware = self.get_labware_by_name(labware_name)\n",
    "        self.move_labware(labware = labware, dest_spot = dest_spot)\n",
    "\n",
    "    def move_labware_column_up_by_name(self, labware_name: str):\n",
    "        \"\"\"\n",
    "        Move function to move a given labware up a column by labware name.\n",
    "\n",
    "        self - Argument required by all methods in Python class, signals method is part of the class.\n",
    "        labware_name - The specific name of the labware to move on the OT-2 deck. Must exist on deck\n",
    "        \"\"\"\n",
    "        labware = self.get_labware_by_name(labware_name)\n",
    "        self.move_labware_column_up(labware = labware)"
   ]
  },
  {
   "cell_type": "markdown",
   "id": "2b1067f9",
   "metadata": {},
   "source": [
    "Great, now let's try using this new gripper that can access things by name alone!"
   ]
  },
  {
   "cell_type": "code",
   "execution_count": null,
   "id": "b20d72c1",
   "metadata": {},
   "outputs": [],
   "source": [
    "deck = await make_same_ot2()\n",
    "lh = await visualize_deck(deck, LiquidHandlerChatterboxBackend())\n",
    "\n",
    "# define new gripper\n",
    "named_gripper = NewNamedGripper(lh)\n",
    "named_gripper.move_labware_by_name(\"tube_rack\", 1)\n",
    "named_gripper.move_labware_column_up_by_name(\"tube_rack\")"
   ]
  },
  {
   "cell_type": "markdown",
   "id": "b8803b8c",
   "metadata": {},
   "source": [
    "This does seem a bit tedious, redefining the class each time we want to add functionality.\n",
    "\n",
    "Luckily, in Python, we can implement `subclasses` that **inherit the methods of the previous class**. For example, we could define the same gripper as above by the following code:"
   ]
  },
  {
   "cell_type": "code",
   "execution_count": null,
   "id": "d4e76cb7",
   "metadata": {},
   "outputs": [],
   "source": [
    "class NewNamedGripperInherited(NewGripper): # NOTICE - See how we inherit by simply calling ChildClass(ParentClass)? Now we don't have to re-define all the old methods!\n",
    "\n",
    "    # By inheriting the NewGripper class, we get all the following methods:\n",
    "    # __init__\n",
    "    # move_labware\n",
    "    # move_labware_column_up\n",
    "    # See how the functions below don't need to re-define these ones? That's the power of inheritance\n",
    "\n",
    "    def get_labware_by_name(self, name: str):\n",
    "        \"\"\"\n",
    "        Function to retrieve labware on the deck by the resource name\n",
    "        \"\"\"\n",
    "        return self.lh.deck.get_resource(name)\n",
    "\n",
    "    def move_labware_by_name(self, labware_name: str, dest_spot: int):\n",
    "        \"\"\"\n",
    "        Move function to move a given labware to a destination spot, by name.\n",
    "        \"\"\"\n",
    "        labware = self.get_labware_by_name(labware_name)\n",
    "        self.move_labware(labware = labware, dest_spot = dest_spot)\n",
    "\n",
    "    def move_labware_column_up_by_name(self, labware_name: str):\n",
    "        \"\"\"\n",
    "        Move function to move a given labware up a column by labware name.\n",
    "        \"\"\"\n",
    "        labware = self.get_labware_by_name(labware_name)\n",
    "        self.move_labware_column_up(labware = labware)"
   ]
  },
  {
   "cell_type": "markdown",
   "id": "0cb170fa",
   "metadata": {},
   "source": [
    "This is a lot more concise, but let's check that it can achieve the **same functionality** as before."
   ]
  },
  {
   "cell_type": "code",
   "execution_count": null,
   "id": "fa768bcf",
   "metadata": {},
   "outputs": [],
   "source": [
    "deck = await make_same_ot2()\n",
    "lh = await visualize_deck(deck, LiquidHandlerChatterboxBackend())\n",
    "\n",
    "# define new gripper with inheritance\n",
    "named_gripper = NewNamedGripperInherited(lh)\n",
    "named_gripper.move_labware_by_name(\"tube_rack\", 1)\n",
    "named_gripper.move_labware_column_up_by_name(\"tube_rack\")"
   ]
  },
  {
   "cell_type": "markdown",
   "id": "a744113c",
   "metadata": {},
   "source": [
    "### Adding Functions - Checking if Labware exists\n",
    "What happens if we call the `move_labware_by_name()` function with a name of an item that does not exist on the deck?"
   ]
  },
  {
   "cell_type": "code",
   "execution_count": null,
   "id": "bafe242f",
   "metadata": {},
   "outputs": [],
   "source": [
    "# this should throw an error if name incorrect\n",
    "named_gripper.move_labware_by_name(\"bad_name\", dest_spot = 3)"
   ]
  },
  {
   "cell_type": "markdown",
   "id": "9d3796d2",
   "metadata": {},
   "source": [
    "We should get an error here! We should probably update the `get_labware_by_name()` function to include a check for if the labware exists on the deck in the first place and print it to the console with some more information to help us de-bug better.\n",
    "\n",
    "Ideally, we could print the current deck layout if a given labware name isn't found, so we can see what is on the deck.\n",
    "\n",
    "Fortunately, we don't have to **re-define** the entire class, we can simply inherit the class above, and **override** the function of interest by re-defining it with the same name. Let's try this below."
   ]
  },
  {
   "cell_type": "code",
   "execution_count": null,
   "id": "c7ebec49",
   "metadata": {},
   "outputs": [],
   "source": [
    "class FixedGripper(NewNamedGripperInherited): # NOTICE - See how we inherit by simply calling ChildClass(ParentClass)? Now we don't have to re-define all the old methods!\n",
    "\n",
    "    # By inheriting the NewGripper class, we get all the following methods:\n",
    "    # __init__\n",
    "    # move_labware\n",
    "    # move_labware_column_up\n",
    "    # move_labware_by_name\n",
    "    # move_labware_column_up_by_name\n",
    "    # and, importantly, get_labware_by_name\n",
    "\n",
    "    # let's re-define this function with our corrected code.\n",
    "    def get_labware_by_name(self, name: str):\n",
    "        \"\"\"\n",
    "        Function to retrieve labware on the deck by the resource name\n",
    "        \"\"\"\n",
    "        if not self.lh.deck.has_resource(name):\n",
    "            raise ValueError(F\"Resource: {name} not found on deck! See deck sumamry below: \\n\\n {self.lh.deck.summary()}\")\n",
    "        else:\n",
    "            return self.lh.deck.get_resource(name)"
   ]
  },
  {
   "cell_type": "markdown",
   "id": "31168e02",
   "metadata": {},
   "source": [
    "Let's make sure it still works"
   ]
  },
  {
   "cell_type": "code",
   "execution_count": null,
   "id": "089bd9b3",
   "metadata": {},
   "outputs": [],
   "source": [
    "# define new gripper with inheritance\n",
    "fixed_gripper = FixedGripper(lh)\n",
    "fixed_gripper.move_labware_by_name(\"tube_rack\", 1)\n",
    "fixed_gripper.move_labware_column_up_by_name(\"tube_rack\")"
   ]
  },
  {
   "cell_type": "markdown",
   "id": "b3bb7c62",
   "metadata": {},
   "source": [
    "Now let's try that erroneous code earlier and see what happens now."
   ]
  },
  {
   "cell_type": "code",
   "execution_count": null,
   "id": "09dbce3a",
   "metadata": {},
   "outputs": [],
   "source": [
    "# this should throw our better error -> remember you can use this to do other actions if errors would occur!\n",
    "fixed_gripper.move_labware_by_name(\"bad_name\", dest_spot = 3)"
   ]
  },
  {
   "cell_type": "markdown",
   "id": "7eedca67",
   "metadata": {},
   "source": [
    "Now our new error\n",
    "\n",
    "```txt\n",
    "alueError: Resource: bad_name not found on deck! See deck sumamry below: \n",
    "\n",
    " \n",
    "Deck: 624.3mm x 565.2mm\n",
    "\n",
    "+-----------------+-----------------+-----------------+\n",
    "|                 |                 |                 |\n",
    "| 10: tip_rack_0  | 11: tip_rack_1  | 12: trash_co... |\n",
    "|                 |                 |                 |\n",
    "+-----------------+-----------------+-----------------+\n",
    "|                 |                 |                 |\n",
    "|  7: tube_rack   |  8: Empty       |  9: Empty       |\n",
    "|                 |                 |                 |\n",
    "+-----------------+-----------------+-----------------+\n",
    "|                 |                 |                 |\n",
    "|  4: Empty       |  5: plate       |  6: Empty       |\n",
    "|                 |                 |                 |\n",
    "+-----------------+-----------------+-----------------+\n",
    "|                 |                 |                 |\n",
    "|  1: Empty       |  2: Empty       |  3: Empty       |\n",
    "|                 |                 |                 |\n",
    "+-----------------+-----------------+-----------------+\n",
    "```\n",
    "\n",
    "is more interpretable!"
   ]
  },
  {
   "cell_type": "markdown",
   "id": "b424515e",
   "metadata": {},
   "source": [
    "### Introducing the Lid!"
   ]
  },
  {
   "cell_type": "markdown",
   "id": "0fc16d59",
   "metadata": {},
   "source": [
    "Some plates in molecular biology research are sold with [lids](https://www.celltreat.com/product/229590/?srsltid=AfmBOoqa9Yomsz66CAb_Z2hs2oeQ7s8MMfNr-brQlm15lLeJ4FGTj10j) and these are actually supported in PLR. For example, this particular plate has a lid modeled in the [source code](https://github.com/PyLabRobot/pylabrobot/blob/7234de0ae521c8be9cd7b52cdc881eb3bdb82254/pylabrobot/resources/celltreat/plates.py#L76)\n",
    "\n",
    "The lids are described by the `Lid` class in PLR [source](https://github.com/PyLabRobot/pylabrobot/blob/7234de0ae521c8be9cd7b52cdc881eb3bdb82254/pylabrobot/resources/plate.py#L26) and are simply assigned to a plate via the following code in the [source](https://github.com/PyLabRobot/pylabrobot/blob/7234de0ae521c8be9cd7b52cdc881eb3bdb82254/pylabrobot/resources/plate.py#L106):\n",
    "\n",
    "```python\n",
    "if lid is not None:\n",
    "    self.assign_child_resource(lid)\n",
    "```\n",
    "\n",
    "What if had a gripper that was able to **add and remove lids** through some separate code (Python or otherwise)? We could actually write some methods for our gripper that **add or remove the lid** and then **tell PLR about it**\n",
    "\n",
    "This is getting a bit into the nuance of PLR, but the basic gist is:\n",
    "\n",
    "- If you are doing an operation on a liquid handling deck that **is not covered in PLR** you need to tell **PLR about it**.\n",
    "\n",
    "- You have actually already done this with setting up liquid reservoirs. The act of manually filling a reservoir with solvent or dye and placing on the deck is **not tracked automatically by PLR**; however, once it is placed on the deck, you tell PLR about it, then **PLR can track it with the standard liquid handling protocols, volume/cross-contamination checking, etc.**\n",
    "\n",
    "- The same thing is true for plate lids. If we have a gripper or piece of equipment not covered by PLR but accessible, we should **tell PLR about the lid being present or not**\n",
    "\n",
    "Let's go ahead and define a custom plate lid for the OpenTrons plate.\n",
    "\n",
    "**Note** - The units are in millimeters (mm) and can often be found on **vendor websites** for a given plate."
   ]
  },
  {
   "cell_type": "code",
   "execution_count": null,
   "id": "351c38a7",
   "metadata": {},
   "outputs": [],
   "source": [
    "from pylabrobot.resources.plate import Lid\n",
    "\n",
    "# define a lid compatible with the 96-well plate on OT-2\n",
    "plate_lid = Lid(name = \"Lid\", # name - needs to be unique on a given deck\n",
    "                size_x = 127.0, # mm\n",
    "                size_y = 86.0, # mm\n",
    "                size_z = 0, # z height of lid itself -> default to 0\n",
    "                nesting_z_height = 1, # added height to overall plate, when covered by lid\n",
    "                model = \"Cos_96_FL_Lid\")"
   ]
  },
  {
   "cell_type": "markdown",
   "id": "cab15965",
   "metadata": {},
   "source": [
    "Now, let's take our `FixedGripper` and add some functionalities to tell PLR that we have added or removed a lid from the plate in question."
   ]
  },
  {
   "cell_type": "code",
   "execution_count": null,
   "id": "2378c8b4",
   "metadata": {},
   "outputs": [],
   "source": [
    "class LidGripper(FixedGripper): # NOTICE - See how we inherit by simply calling ChildClass(ParentClass)? Now we don't have to re-define all the old methods!\n",
    "\n",
    "    # function to add lid from an external source\n",
    "    def add_external_lid(self, plate_name: str, lid: Lid): \n",
    "        plate = self.get_labware_by_name(plate_name)\n",
    "        plate.assign_child_resource(lid)\n",
    "        print(f\"Adding lid {lid.name} to plate {plate.name}\")\n",
    "\n",
    "    # function to simulate throwing lid away to external trash can\n",
    "    def remove_lid_to_trash(self, plate_name: str):\n",
    "        plate = self.get_labware_by_name(plate_name)\n",
    "        assert plate.has_lid(), \"Plate doesn't have a lid!\"\n",
    "        lid = plate.lid\n",
    "        print(f\"Removing lid from {plate.name}\")\n",
    "        plate.unassign_child_resource(lid)"
   ]
  },
  {
   "cell_type": "markdown",
   "id": "c3f74161",
   "metadata": {},
   "source": [
    "Try adding the plate_lid"
   ]
  },
  {
   "cell_type": "code",
   "execution_count": null,
   "id": "a75ab4e6",
   "metadata": {},
   "outputs": [],
   "source": [
    "deck = await make_same_ot2()\n",
    "lh = await visualize_deck(deck, LiquidHandlerChatterboxBackend())\n",
    "\n",
    "# define lid gripper\n",
    "lid_gripper = LidGripper(lh)\n",
    "\n",
    "# add lid\n",
    "lid_gripper.add_external_lid(plate_name = \"plate\", lid = plate_lid)\n",
    "\n",
    "# go look at visualizer!"
   ]
  },
  {
   "cell_type": "markdown",
   "id": "18a59073",
   "metadata": {},
   "source": [
    "Now let's simulate removing the lid and moving it to the trash."
   ]
  },
  {
   "cell_type": "code",
   "execution_count": null,
   "id": "33d1945a",
   "metadata": {},
   "outputs": [],
   "source": [
    "# add lid\n",
    "lid_gripper.remove_lid_to_trash(plate_name = \"plate\")"
   ]
  },
  {
   "cell_type": "markdown",
   "id": "2bd44ede",
   "metadata": {},
   "source": [
    "What do you think happens if we try to add a lid to plate that already has a lid?"
   ]
  },
  {
   "cell_type": "code",
   "execution_count": null,
   "id": "335273cd",
   "metadata": {},
   "outputs": [],
   "source": [
    "lid_gripper.add_external_lid(plate_name = \"plate\", lid = plate_lid)\n",
    "lid_gripper.add_external_lid(plate_name = \"plate\", lid = plate_lid)"
   ]
  },
  {
   "cell_type": "markdown",
   "id": "c83a74e8",
   "metadata": {},
   "source": [
    "This demonstrates the functionality of PLR tracking lids works when you tell it a lid is present!"
   ]
  },
  {
   "cell_type": "markdown",
   "id": "095b383c",
   "metadata": {},
   "source": [
    "### Exercises\n",
    "\n",
    "---\n",
    "\n",
    "**TO-DO:** For each of the following exercses, since they are a bit different from each other, we will require submission of one or more of the following:\n",
    "\n",
    "- a `.txt` file containing your code.\n",
    "\n",
    "- a `.gif` file containing a GIF animation of your protocol running\n",
    "\n",
    "- a `.png` or `.jpg` image of your deck setup, if needed.\n",
    "\n",
    "We will explicitly tell you for each exercise and sub-exercise, which items to submit. There will be a **sample submission format** for each exercise.\n",
    "\n",
    "---\n",
    "\n",
    "Some exercises below will ask you to define your own **functions or classes**. We will provide the **function or class name** and sometimes the **input argument names** for you, but in gneeral, the body of the functions is up to you.\n",
    "\n",
    "You should include `time.sleep(x)` calls between every step so you have time to visualize the protocol as it runs. At a minimum, `x = 0.1` for 0.1 s delay. Experiment with this value for one that works for you.\n",
    "\n",
    "Once you get your protocol working as intended for each problem, you will need to **record a GIF** of your protocol running for each exercise, as directed\n",
    "\n",
    "**IMPORTANT** - You should be judiciously commenting your code to explain its function. We will grade every problem by **quality of code**. Excessively long code or lack of comments will be subject to **point deduction**\n",
    "\n",
    "Furthermore, you can write the code how you see fit. However, **do not change function names** and make sure to **include your imports** at the top of your .txt file submission.\n",
    "\n",
    "---"
   ]
  },
  {
   "cell_type": "markdown",
   "id": "65c39586",
   "metadata": {},
   "source": [
    "### **Exercise 1.** Enhancing Exising Gripper for OT-2 Operations (40 pts)\n"
   ]
  },
  {
   "cell_type": "markdown",
   "id": "2f73e5cc",
   "metadata": {},
   "source": [
    "**1.A.** Add Plate\n",
    "\n",
    "First, let's set up an empty OT-2 Deck and a base `Exercise_1_Gripper` class."
   ]
  },
  {
   "cell_type": "code",
   "execution_count": null,
   "id": "2774db66",
   "metadata": {},
   "outputs": [],
   "source": [
    "# DO NOT MODIFY\n",
    "deck = OTDeck()\n",
    "lh = await visualize_deck(deck, LiquidHandlerChatterboxBackend())\n",
    "\n",
    "\n",
    "class Exercise_1_Gripper:\n",
    "\n",
    "    def __init__(self, lh: LiquidHandler):\n",
    "        \"\"\"\n",
    "        Constructor, this function instantiates our Gripper, given only one input argument, the liquid handler head.\n",
    "        \n",
    "        self - Argument required by Python class, signals a method is part of a class and has all atributes of self\n",
    "        lh - Liquid handler object, to be stored in self.lh, which is accessible by all class methods\n",
    "        \"\"\"\n",
    "        self.lh = lh # assign a property of the class, which will be accessible by all methods of the class\n",
    "\n",
    "    def move_labware(self, labware: Resource, dest_spot: int):\n",
    "        \"\"\"\n",
    "        Basic move labware function for OT-2, which will move a labware from its curent spot to a new spot.\n",
    "\n",
    "        self - Argument required by all methods in Python class, signals method is part of the class.\n",
    "        labware - The specific labware to move on the OT-2 deck. Must exist on deck\n",
    "        dest_spot - The target destination spot on the OT-2 deck to move the labware to.\n",
    "        \"\"\"\n",
    "        self.lh.deck.unassign_child_resource(labware)\n",
    "        self.lh.deck.assign_child_at_slot(labware, dest_spot)\n",
    "        print(f\"Moving {labware.name} to spot {dest_spot}\")\n",
    "\n",
    "    def get_labware_by_name(self, name: str):\n",
    "        \"\"\"\n",
    "        Function to retrieve labware on the deck by the resource name\n",
    "        \"\"\"\n",
    "        return self.lh.deck.get_resource(name)\n",
    "\n",
    "    def move_labware_by_name(self, labware_name: str, dest_spot: int):\n",
    "        \"\"\"\n",
    "        Move function to move a given labware to a destination spot, by name.\n",
    "        \"\"\"\n",
    "        labware = self.get_labware_by_name(labware_name)\n",
    "        self.move_labware(labware = labware, dest_spot = dest_spot)"
   ]
  },
  {
   "cell_type": "markdown",
   "id": "96f42f9b",
   "metadata": {},
   "source": [
    "Now, implement the `add_plate()` function which should input a `slot` number and a `plate_name` and add it to the deck. For this exercise, use only `corning_96_wellplate_360ul_flat` plates\n",
    "\n",
    "Comment your code"
   ]
  },
  {
   "cell_type": "code",
   "execution_count": null,
   "id": "95a39a2c",
   "metadata": {},
   "outputs": [],
   "source": [
    "# imports\n",
    "from pylabrobot.resources import ... # YOUR CODE HERE\n",
    "\n",
    "class Exercise_1A_Gripper(Exercise_1_Gripper):\n",
    "    def add_plate(self, slot: int, plate_name: str):\n",
    "        ... # YOUR CODE HERE"
   ]
  },
  {
   "cell_type": "markdown",
   "id": "c84d172b",
   "metadata": {},
   "source": [
    "Now using `add_plate()` add three plates to the OT-2 deck using **4 lines of Python or less (excluding comments and blank lines)**:\n",
    "\n",
    "1. Name = \"plate_1\", Slot = 1\n",
    "\n",
    "2. Name = \"plate_2\", Slot = 4\n",
    "\n",
    "3. Name = \"plate_3\", Slot = 7\n",
    "\n",
    "4. Name = \"plate_X\", Slot = 10\n",
    "\n",
    "Comment your code"
   ]
  },
  {
   "cell_type": "code",
   "execution_count": null,
   "id": "c8ff0b3d",
   "metadata": {},
   "outputs": [],
   "source": [
    "gripper = Exercise_1A_Gripper(lh = lh)\n",
    "\n",
    "# YOUR CODE HERE"
   ]
  },
  {
   "cell_type": "markdown",
   "id": "dd7b4f73",
   "metadata": {},
   "source": [
    "**1.B.** Add Reservoir\n",
    "\n",
    "Great! Now we need a function to add a reservoir to the deck. Create a class method called `add_reservoir` that inputs:\n",
    "\n",
    "- `slot` - The slot for the reservoir\n",
    "\n",
    "- `reservoir_name` - The name of the reservoir\n",
    "\n",
    "- `liquid_name` - The name of the liquid in the reservoir\n",
    "\n",
    "- `liquid_vol` - The volume of liquid in the reservoir, in microliters\n",
    "\n",
    "For this function, use `axygen_1_reservoir_90ml` and assume we are not using a pre-defined `Liquid` class.\n",
    "\n",
    "**Note -** The plates are often characterized by vendor name; for example, this one refers to the [Axygen reservoir](https://www.avantorsciences.com/ca/en/product/4694740/axygen-single-and-multi-well-reservoirs-corning)\n",
    "\n",
    "To get you used to navigating resources in PLR, **find another reservoir that can server the purpose below (90+ mL)** and put it's import in the spot dubbed `## YOUR RESERVOIR IMPORT HERE`\n",
    "\n",
    "You should have **two imports** - one for the Axygen reservoir that you will use, and one other appropriate reservoir. Use the axygen one in your method.\n",
    "\n",
    "Comment your code."
   ]
  },
  {
   "cell_type": "code",
   "execution_count": null,
   "id": "85d6c01a",
   "metadata": {},
   "outputs": [],
   "source": [
    "# imports\n",
    "from pylabrobot.resources import ... # YOUR CODE HERE\n",
    "\n",
    "# other import should have at least 90 mL\n",
    "from pylabrobot.resources import ... ## YOUR RESERVOIR IMPORT HERE\n",
    "\n",
    "\n",
    "class Exercise_1B_Gripper(Exercise_1_Gripper):\n",
    "    def add_reservoir(self,\n",
    "                      slot: int, \n",
    "                      reservoir_name: str,\n",
    "                      liquid_name: str,\n",
    "                      liquid_vol: str):\n",
    "        ... # YOUR CODE HERE"
   ]
  },
  {
   "cell_type": "markdown",
   "id": "0833efe6",
   "metadata": {},
   "source": [
    "Great! Now use your function to add reservoirs of the following liquids to the deck:\n",
    "\n",
    "- Slot = 2, Reservoir Name = \"water_reservoir\", Liquid = \"water\", Volume = 10 mL\n",
    "\n",
    "- Slot = 5, Reservoir Name = \"ethanol_reservoir\", Liquid = \"ethanol\", Volume = 20.211 mL\n",
    "\n",
    "- Slot = 8, Reservoir Name = \"bleach_reservoir\", Liquid = \"bleach\", Volume = 80 mL\n",
    "\n",
    "Do it in **6 lines of code or less (excluding comments and blank spaces).** Comment your code"
   ]
  },
  {
   "cell_type": "code",
   "execution_count": null,
   "id": "ecba184b",
   "metadata": {},
   "outputs": [],
   "source": [
    "gripper = Exercise_1B_Gripper(lh = lh)\n",
    "... # YOUR CODE HERE"
   ]
  },
  {
   "cell_type": "markdown",
   "id": "7cbcc0f3",
   "metadata": {},
   "source": [
    "**1.C** Move Plate Row-Wise\n",
    "\n",
    "Great! Now remember that function we wrote earlier to move labware by columns? You should now implement a function that moves plates row-wise that takes in e following arguments:\n",
    "\n",
    "- `labware_name` - Name of labware to move\n",
    "\n",
    "- `direction` - Either `left` or `right`, represents the direction to move the plates \n",
    "\n",
    "Remember, the function should skip over any plates that are in the way. **Note -** You should check that your function works from **any starting slot number**. The row version may not be as simple as the column version.\n",
    "\n",
    "Comment your code"
   ]
  },
  {
   "cell_type": "code",
   "execution_count": null,
   "id": "fbdc0e99",
   "metadata": {},
   "outputs": [],
   "source": [
    "class Exercise_1C_Gripper(Exercise_1_Gripper):\n",
    "    def move_labware_row_wise(self,\n",
    "                            labware_name: str,\n",
    "                            direction: str):\n",
    "        ... # YOUR CODE HERE"
   ]
  },
  {
   "cell_type": "markdown",
   "id": "f0d29e94",
   "metadata": {},
   "source": [
    "Great! Now use that function to move all the **96-well plates** to the right first, then all the **reservoirs** to the left after that.\n",
    "\n",
    "Do it in **six lines of code or less (excluding comments and blank spaces)**\n",
    "\n",
    "Comment your code"
   ]
  },
  {
   "cell_type": "code",
   "execution_count": null,
   "id": "55e54e80",
   "metadata": {},
   "outputs": [],
   "source": [
    "gripper = Exercise_1C_Gripper(lh = lh)\n",
    "... # YOUR CODE HERE"
   ]
  },
  {
   "cell_type": "markdown",
   "id": "d03de704",
   "metadata": {},
   "source": [
    "---\n",
    "\n",
    "**TO-DO:** Submission Instructions. In the cell below, we provide a template for your .txt file submission. Please copy-paste the relevant parts of your code into the designated sections below and submit as a .txt file named `exercise_1.txt`\n",
    "\n",
    "**TO-DO:** Please run your code, starting from the **blank deck** all the way through the movement of the 96-well plates to the right and reservoirs to the left, record the GIF, and submit as a .gif file named `exercise_1.gif`\n",
    "\n",
    "---"
   ]
  },
  {
   "cell_type": "code",
   "execution_count": null,
   "id": "87962f51",
   "metadata": {},
   "outputs": [],
   "source": [
    "# Exercise 1. All Imports\n",
    "# --- YOUR CODE HERE ---\n",
    "\n",
    "## Exercise 1.B. Reservoir Import\n",
    "## YOUR RESERVOIR IMPORT HERE\n",
    "\n",
    "\n",
    "# CLASS METHODS SECTION\n",
    "# Exercise 1.A. Add Plate\n",
    "class Exercise_1A_Gripper(Exercise_1_Gripper):\n",
    "    def add_plate(self, slot: int, plate_name: str):\n",
    "        ... # YOUR CODE HERE\n",
    "\n",
    "# Exercise 1.B. Add Reservoir\n",
    "class Exercise_1B_Gripper(Exercise_1_Gripper):\n",
    "    def add_reservoir(self,\n",
    "                      slot: int, \n",
    "                      reservoir_name: str,\n",
    "                      liquid_name: str,\n",
    "                      liquid_vol: str):\n",
    "        ... # YOUR CODE HERE\n",
    "\n",
    "# Exercise 1.C. Move Labware Row-wise\n",
    "class Exercise_1C_Gripper(Exercise_1_Gripper):\n",
    "    def move_labware_row_wise(self,\n",
    "                            labware_name: str,\n",
    "                            direction: str):\n",
    "        labware = self.get_labware_by_name(labware_name)\n",
    "\n",
    "# CODE BLOCKS SECTION\n",
    "# Exercise 1.A. Add Plate\n",
    "gripper = Exercise_1A_Gripper(lh = lh)\n",
    "... # YOUR CODE HERE\n",
    "\n",
    "# Exercise 1.B. Add Reservoir\n",
    "gripper = Exercise_1B_Gripper(lh = lh)\n",
    "... # YOUR CODE HERE\n",
    "\n",
    "# Exercise 1.C. Move Labware Row-wise\n",
    "gripper = Exercise_1C_Gripper(lh = lh)\n",
    "... # YOUR CODE HERE\n",
    "\n",
    "# Save as exercise_1.txt and submit. Don't forget to submit exercise_1.gif as well."
   ]
  },
  {
   "cell_type": "markdown",
   "id": "39467674",
   "metadata": {},
   "source": [
    "### **Exercise 2.** Create a new Gripper for the Hamilton STAR (60 pts)\n",
    "\n",
    "Now that you have seen the functionality for a custom Gripper on the OpenTrons-2 deck, you will now create your own custom gripper for the Hamilton STAR deck. Let's start with a simple deck layout"
   ]
  },
  {
   "cell_type": "code",
   "execution_count": null,
   "id": "00534993",
   "metadata": {},
   "outputs": [],
   "source": [
    "# DO NOT MODIFY\n",
    "\n",
    "# imports\n",
    "from pylabrobot.resources import STARDeck, PLT_CAR_L5AC_A00, corning_96_wellplate_360ul_flat\n",
    "\n",
    "# function to define custom deck\n",
    "def make_deck():\n",
    "\n",
    "    # initialize deck\n",
    "    deck = STARDeck()\n",
    "\n",
    "    # add plates carriers and plates\n",
    "    plate_carrier_0 = PLT_CAR_L5AC_A00(\"plate_carrier_0\")\n",
    "    plate_carrier_1 = PLT_CAR_L5AC_A00(\"plate_carrier_1\")\n",
    "    for i in range(5):\n",
    "        plate_carrier_0[i] = corning_96_wellplate_360ul_flat(name = f\"plate_{i}\")\n",
    "    \n",
    "    # add carriers to deck\n",
    "    deck.assign_child_resource(plate_carrier_0, rails = 7)\n",
    "    deck.assign_child_resource(plate_carrier_1, rails = 14)\n",
    "\n",
    "    return deck\n",
    "\n",
    "# create deck\n",
    "deck = make_deck()\n",
    "lh = await visualize_deck(deck, LiquidHandlerChatterboxBackend())"
   ]
  },
  {
   "cell_type": "markdown",
   "id": "dfd28875",
   "metadata": {},
   "source": [
    "**2.A.** Initial Gripper Class\n",
    "\n",
    "Now let's go ahead and define a base class with an `__init__` function and a function to `get_labware_by_name()`\n",
    "\n",
    "Comment your code"
   ]
  },
  {
   "cell_type": "code",
   "execution_count": null,
   "id": "f99a622d",
   "metadata": {},
   "outputs": [],
   "source": [
    "class Exercise_2A_Gripper:\n",
    "    def __init__(self, lh: LiquidHandler):\n",
    "        ... # YOUR CODE HERE\n",
    "\n",
    "    def get_labware_by_name(self, name: str):\n",
    "        ... # YOUR CODE HERE"
   ]
  },
  {
   "cell_type": "markdown",
   "id": "c13c5e79",
   "metadata": {},
   "source": [
    "**2.B.** Plate Mover\n",
    "\n",
    "Implement a function named `move_plates()` that takes the following arguments:\n",
    "\n",
    "- `input_carrier_name` - String identifier for the carrier containing the plate to move.\n",
    "\n",
    "- `plate_name` - String identifier of the plate to move.\n",
    "\n",
    "- `target_carrier_name` - String identifier of the target plate carrier to move the plate to.\n",
    "\n",
    "- `target_plate_slot` - The plate slot on the carrier to move the tip box to.\n",
    "\n",
    "- Include a **0.5s delay**\n",
    "\n",
    "**Hint:** You may find assigning/unassigning resources from the STAR carriers a bit different. You should check out their documentation for [assigning](https://github.com/PyLabRobot/pylabrobot/blob/7234de0ae521c8be9cd7b52cdc881eb3bdb82254/pylabrobot/resources/carrier.py#L78) and [unassigning](https://github.com/PyLabRobot/pylabrobot/blob/7234de0ae521c8be9cd7b52cdc881eb3bdb82254/pylabrobot/resources/carrier.py#L83) resources\n",
    "\n",
    "Comment your code"
   ]
  },
  {
   "cell_type": "code",
   "execution_count": null,
   "id": "b1a0183b",
   "metadata": {},
   "outputs": [],
   "source": [
    "class Exercise_2B_Gripper(Exercise_2A_Gripper):\n",
    "    def move_plate(self,\n",
    "                    input_carrier_name: str,\n",
    "                    plate_name: str,\n",
    "                    target_carrier_name: str,\n",
    "                    target_plate_slot: int):\n",
    "        ... # YOUR CODE HERE"
   ]
  },
  {
   "cell_type": "markdown",
   "id": "17443040",
   "metadata": {},
   "source": [
    "Great, now use the gripper you just implemented to move every plate from the first carrier to the second in **three lines of code or less (excluding comments and blank lines)**\n",
    "\n",
    "Comment your code"
   ]
  },
  {
   "cell_type": "code",
   "execution_count": null,
   "id": "d0cbf67e",
   "metadata": {},
   "outputs": [],
   "source": [
    "# define gripper\n",
    "gripper = Exercise_2B_Gripper(lh)\n",
    "\n",
    "... # YOUR CODE HERE"
   ]
  },
  {
   "cell_type": "markdown",
   "id": "b375d274",
   "metadata": {},
   "source": [
    "**2.C.** Rail Gripper\n",
    "\n",
    "Great. Now we need a functionality to **add or move** plate carriers to different rails on the deck. Implement two functions:\n",
    "\n",
    "1. `move_carrier_to_rails()`\n",
    "\n",
    "    - `carrier_name` - String name of the carrier to move.\n",
    "\n",
    "    - `target_rail` - Integer of the target rails to move the carrier to.\n",
    "\n",
    "2. `add_carrier()`\n",
    "\n",
    "    - `type` - Either `tip_carrier`, `plate_carrier`, or `trough_carrier` to add to the deck.\n",
    "    \n",
    "    - `carrier_name` - Name of the carrier being added.\n",
    "\n",
    "    - `target_rail` - Integer of the target rails to add the carrier to.\n",
    "\n",
    "Comment your code"
   ]
  },
  {
   "cell_type": "code",
   "execution_count": null,
   "id": "f9da6d20",
   "metadata": {},
   "outputs": [],
   "source": [
    "# imports\n",
    "from pylabrobot.resources import ... # YOUR CODE HEREA\n",
    "\n",
    "class Exercise_2C_Gripper(Exercise_2B_Gripper):\n",
    "    def move_carrier_to_rails(self,\n",
    "                              carrier_name: str,\n",
    "                              target_rails: int\n",
    "    ):\n",
    "        ... # YOUR CODE HERE\n",
    "    \n",
    "    def add_carrier(self,\n",
    "                    carrier_type: str,\n",
    "                    carrier_name: str,\n",
    "                    target_rails: int):\n",
    "        ... # YOUR CODE HERE"
   ]
  },
  {
   "cell_type": "markdown",
   "id": "20436e0d",
   "metadata": {},
   "source": [
    "Now use your new gripper to move the tip rack on the left to the **farthest possible rails on the right it will fit without running into the trash**.\n",
    "\n",
    "Also, add a new tip carrier to rails 5. Do this in **three lines or less (excluding comments and empty lines)**\n",
    "\n",
    "Comment your code"
   ]
  },
  {
   "cell_type": "code",
   "execution_count": null,
   "id": "00ef3426",
   "metadata": {},
   "outputs": [],
   "source": [
    "# define gripper\n",
    "gripper = Exercise_2C_Gripper(lh)\n",
    "\n",
    "... # YOUR CODE HERE"
   ]
  },
  {
   "cell_type": "markdown",
   "id": "943823e5",
   "metadata": {},
   "source": [
    "**2.D.** Add Lids\n",
    "\n",
    "Finally, let's write a function that will add lids **from the bottom plate upwards** given an input **carrier** and **number of plates to add lids to**. Specifically it should input:\n",
    "\n",
    "- `carrier_name` - The carrier name to add lids to plates on.\n",
    "\n",
    "- `num_lids` - The number of plates to add lids to. Must be less than or equal to the number of plates on the carrier.\n",
    "\n",
    "Comment your code"
   ]
  },
  {
   "cell_type": "code",
   "execution_count": null,
   "id": "15e48b91",
   "metadata": {},
   "outputs": [],
   "source": [
    "class Exercise_2D_Gripper(Exercise_2C_Gripper):\n",
    "    def add_lids(self,\n",
    "                 carrier_name: str,\n",
    "                 num_lids: int):\n",
    "\n",
    "        ... # YOUR CODE HERE"
   ]
  },
  {
   "cell_type": "markdown",
   "id": "ded38382",
   "metadata": {},
   "source": [
    "Using this code, go ahead and add lids to the first 4 plates on the carrier currently with the plates. Then move only the plates with lids over to the other carrier.\n",
    "\n",
    "Comment your code."
   ]
  },
  {
   "cell_type": "code",
   "execution_count": null,
   "id": "adaeb5ca",
   "metadata": {},
   "outputs": [],
   "source": [
    "# define a gripper class\n",
    "gripper = Exercise_2D_Gripper(lh)\n",
    "... # YOUR CODE HERE"
   ]
  },
  {
   "cell_type": "markdown",
   "id": "ae1665ee",
   "metadata": {},
   "source": [
    "**2.E.** Plate Staircase 2.0\n",
    "\n",
    "Remember the plate staircase exercise from workshop 1? We are going to try to do it again, this time with our custom gripper and some unique constraints:\n",
    "\n",
    "- You are **not allowed** to add plates or tip boxes to the deck via any method. You will need to add extra carriers.\n",
    "\n",
    "- You must make all operations on the deck via **gripper class methods** (i.e. only method calls should be of the form `gripper.method_name()`). You are still allowed to use external lists for names and moves.\n",
    "\n",
    "- You are **not allowed** to remove **ANY** labware once added to the deck.\n",
    "\n",
    "Given the following incomplete deck:"
   ]
  },
  {
   "cell_type": "code",
   "execution_count": null,
   "id": "28fed3ff",
   "metadata": {},
   "outputs": [],
   "source": [
    "# DO NOT MODIFY\n",
    "from pylabrobot.resources import PLT_CAR_L5AC_A00, TIP_CAR_480_A00, HTF\n",
    "\n",
    "def make_incomplete_staircase():\n",
    "    deck = STARDeck()\n",
    "    plate_rails = [0, 7]\n",
    "    plate_plates = [4, 5]\n",
    "    tip_rails = [39, 48]\n",
    "    for i, (plate_rails, plate_plates) in enumerate(zip(plate_rails, plate_plates)):\n",
    "        plate_carrier = PLT_CAR_L5AC_A00(f\"plate_carrier_{i}\")\n",
    "        for j in range(plate_plates):\n",
    "            plate_carrier[j] = corning_96_wellplate_360ul_flat(name = f\"plate_{i}_{j}\")\n",
    "        deck.assign_child_resource(plate_carrier, rails = plate_rails)\n",
    "    for i, tip_rails in enumerate(tip_rails):\n",
    "        tip_carrier = TIP_CAR_480_A00(f\"tip_carrier_{i}\")\n",
    "        for j in range(3):\n",
    "            tip_carrier[j] = HTF(f\"tip_rack_{i}_{j}\")\n",
    "        deck.assign_child_resource(tip_carrier, rails = tip_rails)\n",
    "    return deck\n",
    "    \n",
    "deck = make_incomplete_staircase()\n",
    "lh = await visualize_deck(deck, LiquidHandlerChatterboxBackend())"
   ]
  },
  {
   "cell_type": "markdown",
   "id": "72a70c88",
   "metadata": {},
   "source": [
    "You should create a protocol in `exercise_2e_protocol()` that takes in your `gripper` alone and is able to create a plate staircase such that:\n",
    "\n",
    "- Plate and tip carriers should alternate, starting with a tip carrier at rail 7\n",
    "    \n",
    "    - To put it explicitly, carriers should be in order of T-P-T-P-T-P where T is a tip carrier and P is a plate carrier.\n",
    "\n",
    "- There should be a gap of at least 1 rail between each carrier.\n",
    "\n",
    "- The leftmost plate staircase should be a tip carrier with 0 tip racks.\n",
    "\n",
    "- The rightmorst plate staircase should be a plate carrier with 5 plates.\n",
    "\n",
    "    - To put it explictly, you should have 0-1-2-3-4-5 items on the 6 carriers.\n",
    "\n",
    "- Progressively more plates should be added as you move left to right, creating a \"staircase\" shape.\n",
    "\n",
    "- Every plate carrier should have lids on **all plates but the topmost plate**. (i.e. a carrier with 4 plates should have the bottom 3 covered with lids)\n",
    "\n",
    "- You should be able to achieve this in **16 lines of code or less (excluding empty lines and comments)**\n",
    "\n",
    "- Comment your code."
   ]
  },
  {
   "cell_type": "code",
   "execution_count": null,
   "id": "3474bcb8",
   "metadata": {},
   "outputs": [],
   "source": [
    "# define gripper\n",
    "gripper = Exercise_2D_Gripper(lh)\n",
    "\n",
    "def exercise_2e_protocol(gripper):\n",
    "    ... # YOUR CODE HERE\n",
    "\n",
    "# run protocol\n",
    "exercise_2e_protocol(gripper)"
   ]
  },
  {
   "cell_type": "markdown",
   "id": "ff1e05ea",
   "metadata": {},
   "source": [
    "---\n",
    "\n",
    "**TO-DO:** Submission Instructions. In the cell below, we provide a template for your .txt file submission. Please copy-paste the relevant parts of your code into the designated sections below and submit as a .txt file named `exercise_2.txt`\n",
    "\n",
    "**TO-DO:** Please run your code, starting from the **blank deck** all the way through the addition of lids to the plates and final deck layout up to, but not including part E, record the GIF, and submit as a .gif file named `exercise_2.gif`\n",
    "\n",
    "**TO-DO:** Please run your code, starting from the **mis-configured staircase deck** all the way through the solution of the staircase with lids, record the GIF, and submiit as a .gif file named `exercise_2_part_e.gif`\n",
    "\n",
    "---"
   ]
  },
  {
   "cell_type": "code",
   "execution_count": null,
   "id": "51b77674",
   "metadata": {},
   "outputs": [],
   "source": [
    "# Exercise 2. All Imports\n",
    "# --- YOUR CODE HERE ---\n",
    "\n",
    "# CLASS METHODS SECTION\n",
    "# Exercise 2.A. Initial Gripper\n",
    "class Exercise_2A_Gripper:\n",
    "    def __init__(self, lh: LiquidHandler):\n",
    "        ... # YOUR CODE HERE\n",
    "\n",
    "    def get_labware_by_name(self, name: str):\n",
    "        ... # YOUR CODE HERE\n",
    "\n",
    "# Exercise 2.B. Move Labware\n",
    "class Exercise_2B_Gripper(Exercise_2A_Gripper):\n",
    "    def move_labware(self,\n",
    "                    input_carrier_name: str,\n",
    "                    labware_name: str,\n",
    "                    target_carrier_name: str,\n",
    "                    target_labware_slot: int):\n",
    "        ... # YOUR CODE HERE\n",
    "\n",
    "# Exercise 2.C. Carrier Movement\n",
    "class Exercise_2C_Gripper(Exercise_2B_Gripper):\n",
    "    def move_carrier_to_rails(self,\n",
    "                              carrier_name: str,\n",
    "                              target_rails: int\n",
    "    ):\n",
    "        ... # YOUR CODE HERE\n",
    "\n",
    "    def add_carrier(self,\n",
    "                    carrier_type: str,\n",
    "                    carrier_name: str,\n",
    "                    target_rails: int):\n",
    "        ... # YOUR CODE HERE\n",
    "\n",
    "# Exercise 2.D. Add Lids\n",
    "class Exercise_2D_Gripper(Exercise_2C_Gripper):\n",
    "    def add_lids(self,\n",
    "                 carrier_name: str,\n",
    "                 num_lids: int):\n",
    "        ... # YOUR CODE HERE\n",
    "\n",
    "# CODE BLOCKS SECTION\n",
    "# Exercise 2.B. Move Plates\n",
    "gripper = Exercise_2B_Gripper(lh = lh)\n",
    "... # YOUR CODE HERE\n",
    "\n",
    "# Exercise 2.C. Move/Add Carriers\n",
    "gripper = Exercise_2C_Gripper(lh = lh)\n",
    "... # YOUR CODE HERE\n",
    "\n",
    "# Exercise 2.D. Add Lids\n",
    "gripper = Exercise_2D_Gripper(lh = lh)\n",
    "... # YOUR CODE HERE\n",
    "\n",
    "# Exercise 2.E. Staircase Fixing\n",
    "gripper = Exercise_2D_Gripper(lh)\n",
    "time.sleep(1)\n",
    "\n",
    "def exercise_2e_protocol(gripper):\n",
    "\n",
    "    ... # YOUR CODE HERE\n",
    "\n",
    "exercise_2e_protocol(gripper)\n",
    "\n",
    "# Save as exercise_2.txt and submit. Don't forget to submit exercise_2.gif AND exercise_2_part_2.gif as well."
   ]
  },
  {
   "cell_type": "markdown",
   "id": "9c1ccf3f",
   "metadata": {},
   "source": [
    "---\n",
    "\n",
    "#### Conclusion\n",
    "\n",
    "That's all for workshop 3! Double check that you have submitted a `.gif` file and `.txt` file for each exercise. You should have submitted:\n",
    "\n",
    "- `exercise_1.txt` following the schema shown above\n",
    "\n",
    "- `exercise_2.txt` following the schema shown above\n",
    "\n",
    "- `exercise_1.gif` showing the full protocol in exercise 1, starting with the blank OT-2 deck.\n",
    "\n",
    "- `exercise_2.gif` showing the full protocol in exercise 2, except part E, starting with the blank STAR deck.\n",
    "\n",
    "- `exercise_2_part_e.gif` showing the Protocol in exercise 2, PART E ONLY, starting with the misconfigured staircase deck.\n",
    "\n",
    "**EVERY CODE BLOCK SHOULD HAVE WELL-WRITTEN COMMENTS**\n",
    "\n",
    "If you are still feeling unsure on deck setup, please **reach out to the teaching team**, contact info for whom can be found in the .`README.md` file on the [class GitHub](https://github.com/chory-lab/bme590-fall-2025)\n",
    "\n",
    "---"
   ]
  }
 ],
 "metadata": {
  "kernelspec": {
   "display_name": "lab-automation",
   "language": "python",
   "name": "python3"
  },
  "language_info": {
   "codemirror_mode": {
    "name": "ipython",
    "version": 3
   },
   "file_extension": ".py",
   "mimetype": "text/x-python",
   "name": "python",
   "nbconvert_exporter": "python",
   "pygments_lexer": "ipython3",
   "version": "3.11.13"
  }
 },
 "nbformat": 4,
 "nbformat_minor": 5
}
