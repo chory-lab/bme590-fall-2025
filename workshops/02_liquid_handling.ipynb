{
 "cells": [
  {
   "cell_type": "markdown",
   "id": "ff012ab2",
   "metadata": {},
   "source": [
    "# BME 590 - Workshop 2 - Liquid Handling\n",
    "**Professor:** Emma Chory, Ph.D.\n",
    "\n",
    "**Authors:** \n",
    "Rick Wierenga, Joe Laforet, Stefan Golas, Ben Perry\n",
    "\n",
    "---\n",
    "\n",
    "### Usage Note\n",
    "**Reminder** - You should be running this notebook **locally** on **VS Code** not navigating it through **GitHub**.\n",
    "\n",
    "**Reminder 2** - Remember to run `git pull` before copying this notebook so you get the most recent class updates. See [Section 6 of the class README](https://github.com/chory-lab/bme590-fall-2025#step-6-updating-to-the-latest-version)\n",
    "\n",
    "---"
   ]
  },
  {
   "cell_type": "markdown",
   "id": "1389bdaf",
   "metadata": {},
   "source": [
    "## Liquid Handling Basics\n",
    "Now that you have gotten an introduction to setting up a deck in PyLabRobot, this second lesson is going to cover everything liquids! From setting their inintial levels to moving them around to managing tips and cross-contamination!\n",
    "\n",
    "\n",
    "### Adding Liquids to Lab Objects\n",
    "Usually when you start an automated protocol, you will have reservoirs of liquid somewhere on the deck. In fancier setups, this liquid can be moved to the deck from a pump system or a robotic arm carrying a reservoir from temperature control. For these exercises we will assume the liquid was placed manually by the user (such as manual preparation of reagents or usage of a kit, as is common in many experiments)\n",
    "\n",
    "Therefore, to begin, we will need to **set the state** of liquids in a starting set of wells or a reservoir.\n",
    "\n",
    "To start, let's go ahead and set up a basic HamiltonSTAR deck with:\n",
    "\n",
    "- 1 reservoir\n",
    "\n",
    "- 1 12 tube rack\n",
    "\n",
    "- 2 96 well plates\n",
    "\n",
    "- 1 384 well plate\n",
    "\n",
    "- 1 1000 uL tip rack\n",
    "\n",
    "- 1 300 uL tip rack\n",
    "\n",
    "- 1 10 uL tip rack\n",
    "\n",
    "We will start with a function that will set up this deck for us. Run the code below and you should get a deck that looks like this!\n",
    "\n",
    "<div>\n",
    "<img src=\"../figs/liquid_deck.png\" width=\"850\"/>\n",
    "</div>"
   ]
  },
  {
   "cell_type": "markdown",
   "id": "1e13ddfe",
   "metadata": {},
   "source": [
    "First, let's import the relevant resources"
   ]
  },
  {
   "cell_type": "code",
   "execution_count": null,
   "id": "e4936dab",
   "metadata": {},
   "outputs": [],
   "source": [
    "from pylabrobot.resources import Deck\n",
    "from pylabrobot.liquid_handling.backends.backend import LiquidHandlerBackend\n",
    "from pylabrobot.liquid_handling import LiquidHandler\n",
    "from pylabrobot.liquid_handling.backends import LiquidHandlerChatterboxBackend\n",
    "from pylabrobot.resources.hamilton import STARDeck\n",
    "from pylabrobot.visualizer.visualizer import Visualizer\n",
    "\n",
    "from pylabrobot.resources import (\n",
    "    set_tip_tracking,\n",
    "    set_volume_tracking,\n",
    "    TIP_CAR_480_A00,\n",
    "    PLT_CAR_L5AC_A00,\n",
    "    corning_96_wellplate_360ul_flat,\n",
    "    corning_384_wellplate_112ul_flat,\n",
    "    nest_1_reservoir_195ml,\n",
    "    corning_12_wellplate_6point9ml_flat,\n",
    "    HTF,\n",
    "    LTF,\n",
    "    STF\n",
    ")"
   ]
  },
  {
   "cell_type": "markdown",
   "id": "9c33c3fe",
   "metadata": {},
   "source": [
    "We will also now enable tip and volume tracking so thte code will **throw errors** if something goes wrong."
   ]
  },
  {
   "cell_type": "code",
   "execution_count": null,
   "id": "cd783c51",
   "metadata": {},
   "outputs": [],
   "source": [
    "# enable tracking of tip status and volumes\n",
    "set_volume_tracking(enabled=True)\n",
    "set_tip_tracking(enabled=True)"
   ]
  },
  {
   "cell_type": "markdown",
   "id": "72bde7f2",
   "metadata": {},
   "source": [
    "Let's go ahead and define a function to visualize the deck and also set up the deck."
   ]
  },
  {
   "cell_type": "code",
   "execution_count": null,
   "id": "6b293089",
   "metadata": {},
   "outputs": [],
   "source": [
    "async def visualize_deck(deck: Deck,\n",
    "                         backend: LiquidHandlerBackend):\n",
    "    try:\n",
    "        lh = LiquidHandler(backend=backend, deck=deck)\n",
    "        vis = Visualizer(resource = lh)\n",
    "        await lh.setup()\n",
    "        await vis.setup()\n",
    "        return lh\n",
    "    except Exception as e:\n",
    "        print(f\"Error! Got excpetion: {e}\")\n",
    "\n",
    "async def make_liquid_handling_deck():\n",
    "    deck = STARDeck()\n",
    "    tip_carrier = TIP_CAR_480_A00(name=\"awesome tip carrier 96x5\")\n",
    "    plate_carrier = PLT_CAR_L5AC_A00(name = \"awesome plate carrier\")\n",
    "    tip_rack_names = [\n",
    "        \"1000_tips_0\",\n",
    "        \"1000_tips_1\",\n",
    "        \"300_tips_0\",\n",
    "        \"300_tips_1\",\n",
    "        \"10_tips_0\"\n",
    "    ]\n",
    "    tip_rack_instantiators = [\n",
    "        HTF,\n",
    "        HTF,\n",
    "        STF,\n",
    "        STF,\n",
    "        LTF\n",
    "    ]\n",
    "    plate_names = [\n",
    "        \"reservoir_0\",\n",
    "        \"12_plate_0\",\n",
    "        \"96_plate_0\",\n",
    "        \"96_plate_1\",\n",
    "        \"384_plate_0\"\n",
    "    ]\n",
    "    plate_instantiators = [\n",
    "        nest_1_reservoir_195ml,\n",
    "        corning_12_wellplate_6point9ml_flat,\n",
    "        corning_96_wellplate_360ul_flat,\n",
    "        corning_96_wellplate_360ul_flat,\n",
    "        corning_384_wellplate_112ul_flat\n",
    "    ]\n",
    "    for i, (name, tip_rack) in enumerate(zip(tip_rack_names, tip_rack_instantiators)):\n",
    "        tip_carrier[i] = tip_rack(name = name)\n",
    "    for i, (name, plate) in enumerate(zip(plate_names, plate_instantiators)):\n",
    "        plate_carrier[i] = plate(name = name)\n",
    "\n",
    "    deck.assign_child_resource(plate_carrier, rails = 5)\n",
    "    deck.assign_child_resource(tip_carrier, rails = 11)\n",
    "    return deck"
   ]
  },
  {
   "cell_type": "markdown",
   "id": "97363706",
   "metadata": {},
   "source": [
    "Call the functions to set up the deck"
   ]
  },
  {
   "cell_type": "code",
   "execution_count": null,
   "id": "1e0fbed8",
   "metadata": {},
   "outputs": [],
   "source": [
    "deck = await make_liquid_handling_deck()\n",
    "lh = await visualize_deck(deck, LiquidHandlerChatterboxBackend())"
   ]
  },
  {
   "cell_type": "markdown",
   "id": "66b19ac2",
   "metadata": {},
   "source": [
    "Let's print a summary of our deck so far."
   ]
  },
  {
   "cell_type": "code",
   "execution_count": null,
   "id": "69de1cb8",
   "metadata": {},
   "outputs": [],
   "source": [
    "print(lh.deck.summary())"
   ]
  },
  {
   "cell_type": "markdown",
   "id": "f411fc1e",
   "metadata": {},
   "source": [
    "#### Setting Liquid Volumes\n",
    "In order to manually set liquid volumes, there are a couple of methods we can use. Since we are going to be adding liquids to the plates/reservoirs, let's go ahead and get the 12-well and 96-well plate using `get_resource` with their names."
   ]
  },
  {
   "cell_type": "code",
   "execution_count": null,
   "id": "0a9fb28e",
   "metadata": {},
   "outputs": [],
   "source": [
    "plate_96 = lh.deck.get_resource(\"96_plate_0\")\n",
    "plate_12 = lh.deck.get_resource(\"12_plate_0\")"
   ]
  },
  {
   "cell_type": "markdown",
   "id": "4d3f8a9f",
   "metadata": {},
   "source": [
    "The easiest way we can fill a specific level of liquid in a specific well is to access it by index.\n",
    "\n",
    "Remember that a plate has wells as it's children, and we can access these by identifier using the `get_well` method. This method expects an identifier, which can be either an index (0 - 95) representing the well index, or it can be the actual letter-integer coordinate of the well (e.g. A1, B2, etc.)\n",
    "\n",
    "We show both indexing methods below"
   ]
  },
  {
   "cell_type": "code",
   "execution_count": null,
   "id": "1025bfb2",
   "metadata": {},
   "outputs": [],
   "source": [
    "well_1 = plate_96.get_well(0)\n",
    "well_2 = plate_96.get_well(\"A1\")\n",
    "well_3 = plate_96.get_item(\"A1\")\n",
    "well_4 = plate_96.get_item(0)\n",
    "\n",
    "print(well_1 == well_2 == well_3 == well_4) # this should evaluate to True, meaning these are all equivalent methods."
   ]
  },
  {
   "cell_type": "markdown",
   "id": "aa7f9780",
   "metadata": {},
   "source": [
    "To fill this well with liquid, we need to access its `tracker` attribute and specifically use the `set_liquids` method. This method expects a **tuple**, where the first index is the name or class of liquid and the second index is the volume, in uL, for example:\n",
    "- **(None, 180)** - Unknown liquid - 180 uL volume\n",
    "- **(\"Red Dye\", 2000)** - Custom liquid named \"Red Dye\" - 2000 uL volume\n",
    "- **(Liquid.OCTANOL, 360)** - Official PLR Liquid class for Octanol - 360 uL volume.\n",
    "\n",
    "Let's go ahead and demonstrate some of these below"
   ]
  },
  {
   "cell_type": "markdown",
   "id": "4b6d473c",
   "metadata": {},
   "source": [
    "First import the Liquid class."
   ]
  },
  {
   "cell_type": "code",
   "execution_count": null,
   "id": "1df2a0f2",
   "metadata": {},
   "outputs": [],
   "source": [
    "from pylabrobot.resources import Liquid # import for liquid class"
   ]
  },
  {
   "cell_type": "markdown",
   "id": "f1059522",
   "metadata": {},
   "source": [
    "Then define the liquids as tuples"
   ]
  },
  {
   "cell_type": "code",
   "execution_count": null,
   "id": "b13199e9",
   "metadata": {},
   "outputs": [],
   "source": [
    "# get wells of interest\n",
    "unknown_liquid = (None, 180)\n",
    "red_dye = (\"Red Dye\", 2000)\n",
    "octanol = (Liquid.OCTANOL, 360)"
   ]
  },
  {
   "cell_type": "markdown",
   "id": "f356cca8",
   "metadata": {},
   "source": [
    "Now assign the liquids to the relevant plates"
   ]
  },
  {
   "cell_type": "code",
   "execution_count": null,
   "id": "507e690b",
   "metadata": {},
   "outputs": [],
   "source": [
    "plate_96.get_well(\"A1\").tracker.set_liquids([unknown_liquid])\n",
    "plate_96.get_well(\"B1\").tracker.set_liquids([octanol])\n",
    "plate_12.get_well(\"A1\").tracker.set_liquids([red_dye])"
   ]
  },
  {
   "cell_type": "markdown",
   "id": "114df011",
   "metadata": {},
   "source": [
    "Great! Now go look at the visualizer. You should see something like this:\n",
    "\n",
    "<div>\n",
    "<img src=\"../figs/filled_wells.png\" width=\"250\"/>\n",
    "</div>\n",
    "\n",
    "The visualizer will actually shade the liquid volume by the amount in a well, relative to that well's maximum volume! So you can see, well B1 is filled to capacity (360 uL / 360 uL), so it has the deepest red color, while well A1 only has 180 uL, so it is filled to half capacity. Finally, well A1 of the 12-well plate is filled the least (percentage-wise) so it has the lightest color.\n",
    "\n",
    "Currently, only red is supported as the color of solvent, so you'll haave to use your imagination here if mixing liquids. We can also use the `add_liquid` and `remove_liquid` functions to achieve similar functionality as the `set_liquids` function. These should **not** be used in lieu of pipetting operations, but rather are meant to be used to represent manual operations outside the liquid handler.\n",
    "\n",
    "**Note-** The `add_liquid` function expects the liquid identifier as the first argument and the amount as the second argument, so just unpack the tuple. The `remove_liquid` doesn't require a liquid identifier, just the amount ot remove. The `remove_liquid` function will lso return a List of Tuples of liquids and volume removed if you call the function, which may be useful to store as a variable, for example, if you have to manually move an entire well contents somewhere else manually during a protocol."
   ]
  },
  {
   "cell_type": "code",
   "execution_count": null,
   "id": "f70145ad",
   "metadata": {},
   "outputs": [],
   "source": [
    "plate_96.get_well(\"A1\").tracker.add_liquid(*unknown_liquid)\n",
    "plate_12.get_well(\"A1\").tracker.remove_liquid(volume = 2000)"
   ]
  },
  {
   "cell_type": "markdown",
   "id": "91ab7bd9",
   "metadata": {},
   "source": [
    "Great! You should now have something that looks like this\n",
    "\n",
    "<div>\n",
    "<img src=\"../figs/add_and_remove_liquid.png\" width=\"250\"/>\n",
    "</div>\n",
    "\n",
    "Note, since we doubled the liquid in well A1, it is now also full! We have also removed all the liquids in well A1 of the 12-well plate.\n",
    "\n",
    "Certainly, you could manually assign liquids to each well, but this would get cumbersome with a lot of wells you are trying to fill!\n",
    "\n",
    "There are several options for traversing over wells using iterators. Let's see some examples below"
   ]
  },
  {
   "cell_type": "markdown",
   "id": "07f5850d",
   "metadata": {},
   "source": [
    "#### Traversal of Labware\n",
    "There are several ways to iterate over a given piece of labware, including **manual loops** and **traversal functions**. This section will review both methods; you should implement the one you are most comfortable with using in the Python code (i.e. there is not a definite solution on how to traverse over labware but we are outlining several options)\n",
    "\n",
    "##### Manual Looping\n",
    "Since we know how many wells are preseent on a given piece of labware, we can utilize that information to manually loop through all spots on a given plate using a **for loop** in Python and the `get_well()` method.\n"
   ]
  },
  {
   "cell_type": "markdown",
   "id": "ae1bc7d3",
   "metadata": {},
   "source": [
    "First we are going to make a helper function to reset the liquids on a given plate."
   ]
  },
  {
   "cell_type": "code",
   "execution_count": null,
   "id": "e811fcd4",
   "metadata": {},
   "outputs": [],
   "source": [
    "# define function to reset liquids on a plate\n",
    "def reset_liquids(plate, plate_num_items: int = 96):\n",
    "    liquids = [[(None, 0)]] * plate_num_items\n",
    "    plate.set_well_liquids(liquids)"
   ]
  },
  {
   "cell_type": "markdown",
   "id": "5a51a13f",
   "metadata": {},
   "source": [
    "Let's go ahead and reset the entire deck and get the relevant plates again."
   ]
  },
  {
   "cell_type": "code",
   "execution_count": null,
   "id": "daff53ba",
   "metadata": {},
   "outputs": [],
   "source": [
    "# reset deck\n",
    "deck = await make_liquid_handling_deck()\n",
    "lh = await visualize_deck(deck, LiquidHandlerChatterboxBackend())\n",
    "\n",
    "# get the plates of interest\n",
    "plate_96_0 = lh.deck.get_resource(\"96_plate_0\")\n",
    "plate_96_1 = lh.deck.get_resource(\"96_plate_1\")\n",
    "plate_12 = lh.deck.get_resource(\"12_plate_0\")"
   ]
  },
  {
   "cell_type": "markdown",
   "id": "81dc377f",
   "metadata": {},
   "source": [
    "Let's add 150 uL to every well on the first 96 well plate"
   ]
  },
  {
   "cell_type": "code",
   "execution_count": null,
   "id": "b9d6d9fb",
   "metadata": {},
   "outputs": [],
   "source": [
    "for i in range(96):\n",
    "    plate_96_0.get_well(i).tracker.set_liquids([red_dye])"
   ]
  },
  {
   "cell_type": "markdown",
   "id": "a8dffe98",
   "metadata": {},
   "source": [
    "Now let's add 150 uL but only to **every other column** in the second 96 well plate"
   ]
  },
  {
   "cell_type": "code",
   "execution_count": null,
   "id": "dbc60c13",
   "metadata": {},
   "outputs": [],
   "source": [
    "for i in range(96):\n",
    "    if i % 16 <= 7: # modulo operator get's the remainder of each item\n",
    "        plate_96_1.get_well(i).tracker.set_liquids([red_dye])"
   ]
  },
  {
   "cell_type": "markdown",
   "id": "8460c27f",
   "metadata": {},
   "source": [
    "Great! You should see something like this!\n",
    "\n",
    "<div>\n",
    "<img src=\"../figs/col_pipette.png\" width=\"250\"/>\n",
    "</div>"
   ]
  },
  {
   "cell_type": "markdown",
   "id": "a1e8150f",
   "metadata": {},
   "source": [
    "We can also index by the **letter-integer combination**.\n",
    "\n",
    "Let's fill in the **second and fourth row** of the second plate.\n",
    "\n",
    "In python, an f-string is denoted by `f\"<str_contents>\"` where you can fill in variables inside the quotes with their value. for example `print(f\"Number: {i}\")` will print \"Number 1, Number 2...\""
   ]
  },
  {
   "cell_type": "code",
   "execution_count": null,
   "id": "0f742355",
   "metadata": {},
   "outputs": [],
   "source": [
    "# 2nd row is B1 - B12\n",
    "# 4th row is D1 - D12\n",
    "reset_liquids(plate_96_1)\n",
    "for i in range(12):\n",
    "    plate_96_1.get_well(f\"B{i + 1}\").tracker.set_liquids([red_dye])\n",
    "    plate_96_1.get_well(f\"D{i + 1}\").tracker.set_liquids([red_dye])"
   ]
  },
  {
   "cell_type": "markdown",
   "id": "897a045c",
   "metadata": {},
   "source": [
    "Great! You should see something like this!\n",
    "\n",
    "<div>\n",
    "<img src=\"../figs/two_rows.png\" width=\"250\"/>\n",
    "</div>"
   ]
  },
  {
   "cell_type": "markdown",
   "id": "71885aea",
   "metadata": {},
   "source": [
    "Now let's fill in the **second and fourth columns** of the second plate.\n",
    "\n",
    "We can do this by defining a capital letter alphabet that ranges from A - H"
   ]
  },
  {
   "cell_type": "code",
   "execution_count": null,
   "id": "24331d78",
   "metadata": {},
   "outputs": [],
   "source": [
    "# 2nd column is A2 - H2\n",
    "# 4th column is A4 - H4\n",
    "reset_liquids(plate_96_1)\n",
    "alphabet = [chr(i) for i in range(65, 73)]\n",
    "print(f\"{alphabet=}\") # prints alphabet=['A', 'B', 'C', 'D', 'E', 'F', 'G', 'H']\n",
    "\n",
    "for i in range(8):\n",
    "    plate_96_1.get_well(f\"{alphabet[i]}2\").tracker.set_liquids([red_dye])\n",
    "    plate_96_1.get_well(f\"{alphabet[i]}4\").tracker.set_liquids([red_dye])"
   ]
  },
  {
   "cell_type": "markdown",
   "id": "70c546c3",
   "metadata": {},
   "source": [
    "Great! You should see something like this!\n",
    "\n",
    "<div>\n",
    "<img src=\"../figs/two_cols.png\" width=\"250\"/>\n",
    "</div>"
   ]
  },
  {
   "cell_type": "markdown",
   "id": "e7f830ae",
   "metadata": {},
   "source": [
    "Yet another way to index into a plate is to actually check **how many items, rows, or columns** it has via the `num_items` property"
   ]
  },
  {
   "cell_type": "code",
   "execution_count": null,
   "id": "ccfbda29",
   "metadata": {},
   "outputs": [],
   "source": [
    "# if you don't know the number of items in a given plate, you can check\n",
    "print(f\"X-axis items (96 well plate): {plate_96_1.num_items_x}\")\n",
    "print(f\"Y-axis items (96 well plate): {plate_96_1.num_items_y}\")\n",
    "print(f\"All items (96 well plate): {plate_96_1.num_items}\")"
   ]
  },
  {
   "cell_type": "markdown",
   "id": "7e31754e",
   "metadata": {},
   "source": [
    "We can also do this for the 12-well plate as well."
   ]
  },
  {
   "cell_type": "code",
   "execution_count": null,
   "id": "eb74b4d5",
   "metadata": {},
   "outputs": [],
   "source": [
    "print(f\"X-axis items (12 well plate): {plate_12.num_items_x}\")\n",
    "print(f\"Y-axis items (12 well plate): {plate_12.num_items_y}\")\n",
    "print(f\"All items (12 well plate): {plate_12.num_items}\")"
   ]
  },
  {
   "cell_type": "markdown",
   "id": "d8ad0981",
   "metadata": {},
   "source": [
    "We can also use this method to fill in **every other row** on a given plate, which may be more intuitive to use.\n",
    "\n",
    "Generally though, you should know the **number of items** in a given plate for your protocol, rather than relying on PLR to tell you."
   ]
  },
  {
   "cell_type": "code",
   "execution_count": null,
   "id": "7cf822d5",
   "metadata": {},
   "outputs": [],
   "source": [
    "reset_liquids(plate_96_1)\n",
    "\n",
    "# get the number of rows and cols\n",
    "num_rows = plate_96_1.num_items_y\n",
    "num_cols = plate_96_1.num_items_x\n",
    "\n",
    "# for each row, if it is an even numbered row, fill it\n",
    "for row in range(num_rows):\n",
    "    if row % 2 == 0:\n",
    "        for well in plate_96_1.row(row):\n",
    "            well.tracker.set_liquids([red_dye])"
   ]
  },
  {
   "cell_type": "markdown",
   "id": "e9ebfd12",
   "metadata": {},
   "source": [
    "Great! You should see something like this!\n",
    "\n",
    "<div>\n",
    "<img src=\"../figs/every_other_row.png\" width=\"250\"/>\n",
    "</div>"
   ]
  },
  {
   "cell_type": "markdown",
   "id": "9a8d2417",
   "metadata": {},
   "source": [
    "#### Traversal Functions\n",
    "To iterate over locations on labware, we can also use the `traverse()` function. This produces a [generator](https://wiki.python.org/moin/Generators) object that we can iterate over to yield our desired wells.\n",
    "\n",
    "`traverse()` takes in three arguments:\n",
    "\n",
    "* **batch_size** is the amount of wells to return\n",
    "\n",
    "* **start** is where to start\n",
    "\n",
    "* **direction** is how to iterate over the wells.\n",
    "\n",
    "**More info on direction:**\n",
    "\n",
    "- starting location can be one of \"top_left\", \"bottom_left\", \"top_right\", \"bottom_right\"\n",
    "\n",
    "- direction can be one of \"up\", \"down\", \"right\", \"left\", \"snake_up\", \"snake_down\",\"snake_left\", \"snake_right\",\n",
    "\n",
    "The snake directions alternate between going in the given direction and going in the opposite direction. For example, \"snake_down\" will go from **A1** to **H1**, then **H2** to **A2**, then **A3** to **H3**, etc.\n",
    "\n",
    "The **benefit** of using the `traverse()` function over a simple manual iteration is it can enable complex traversals while **maintaining minimal clean code**. "
   ]
  },
  {
   "cell_type": "markdown",
   "id": "c8a8cdb2",
   "metadata": {},
   "source": [
    "We recommend running the function below to experiment with different iterator settings.\n",
    "\n",
    "The iterator will also throw an **error** if an illegal setup is defined. For example, try setting:\n",
    "\n",
    "- `start=\"bottom_right\"`\n",
    "- `direction=\"down\"`\n",
    "\n",
    "You should get an **error** like this:\n",
    "\n",
    "<div>\n",
    "<img src=\"../figs/traverse_error.png\" width=\"750\"/>\n",
    "</div>"
   ]
  },
  {
   "cell_type": "code",
   "execution_count": null,
   "id": "5bf06ed6",
   "metadata": {},
   "outputs": [],
   "source": [
    "plate = plate_96_0\n",
    "\n",
    "# EXPERIMENT HERE - CHANGE THESE SETTINGS AND SEE WHAT HAPPENS\n",
    "wells = plate.traverse(start=\"top_left\", batch_size = 4, direction='down')\n",
    "\n",
    "# this function will help print the wells being iterated over in each batch.\n",
    "# it is recommended to try different combinations of batch_size, direction, and starting point to visualize\n",
    "# how this affects the well traversal.\n",
    "def print_well_batches(well_batch_iterator):\n",
    "    for i, well_batch in enumerate(well_batch_iterator):\n",
    "        start_well = well_batch[0].name.split(\"_\")[-1]\n",
    "        end_well = well_batch[-1].name.split(\"_\")[-1]\n",
    "        print(f\"Batch {i}:\\tStart Well: {start_well}\\tEnd Well: {end_well}\")\n",
    "\n",
    "print_well_batches(wells)"
   ]
  },
  {
   "cell_type": "markdown",
   "id": "e478a747",
   "metadata": {},
   "source": [
    "To further help you **visualize** the effect of different settings on the `traverse()` function, the following helper script will **fill every other batch** provided by the `traverse()` function.\n",
    "\n",
    "Please explore different combinations of parameters in the `traverse()` function to visualize how you can iterate over wells in a plate."
   ]
  },
  {
   "cell_type": "code",
   "execution_count": null,
   "id": "e74c65b9",
   "metadata": {},
   "outputs": [],
   "source": [
    "plate = plate_96_0\n",
    "\n",
    "# EXPERIMENT HERE - CHANGE THESE SETTINGS AND SEE WHAT HAPPENS\n",
    "wells = plate.traverse(start=\"bottom_left\", batch_size = 3, direction='down')\n",
    "\n",
    "# this function will enable trying differnet traversal methods and filling every other batch with\n",
    "# red liquid on the visualizer to see how the traversal method changes things\n",
    "def fill_every_other_batch(well_batch_iterator, plate):\n",
    "    reset_liquids(plate)\n",
    "    for i, well_batch in enumerate(well_batch_iterator):\n",
    "        if i % 2 == 0:\n",
    "            for well in well_batch:\n",
    "                well.tracker.set_liquids([red_dye])\n",
    "fill_every_other_batch(wells, plate)"
   ]
  },
  {
   "cell_type": "markdown",
   "id": "f6b3720f",
   "metadata": {},
   "source": [
    "### Tip racks\n",
    "Tip racks are similar to a plate with wells or any other iterable resource; however, instead of caring about **what liquids** and **how much** are in each well, we now simply ask the question whether or not a **tip spot** contains an **unused tip**.\n",
    "\n",
    "Generally, most liquid handlind movements will necessarily have the following steps at some point:\n",
    "\n",
    "1. Pick up $N$ unused tips (or alternatively, re-use tips if they will not lead to cross-contamination...more on this later).\n",
    "\n",
    "2. Aspirate $V$ volume of liquid into the $N$ channels holding $N$ tips.\n",
    "\n",
    "3. Move pipetting head to a separate plate or target destination.\n",
    "\n",
    "4. Dispense $V$ volume of liquid into $N$ target wells with $N$ channels.\n",
    "\n",
    "5. Discard or return the used tips\n",
    "\n",
    "Let's examine our tip racks and some utilities when using them."
   ]
  },
  {
   "cell_type": "markdown",
   "id": "cde678ce",
   "metadata": {},
   "source": [
    "#### Setting Initial Tip States\n",
    "\n",
    "First, let's go ahead and set up a deck for liquid handling. The following cells are meant to be run **sequentially**. Sometimes, re-running a cell (such as trying to pick up a tip twice) will throw an **error**. If you run into any errors in the following section, you can restart running these cells from this checkpoint."
   ]
  },
  {
   "cell_type": "markdown",
   "id": "6ebc79af",
   "metadata": {},
   "source": [
    "First set up the deck and get the tip racks of interest"
   ]
  },
  {
   "cell_type": "code",
   "execution_count": null,
   "id": "a1e0bc9a",
   "metadata": {},
   "outputs": [],
   "source": [
    "deck = await make_liquid_handling_deck()\n",
    "lh = await visualize_deck(deck, LiquidHandlerChatterboxBackend())\n",
    "print(deck.summary())\n",
    "\n",
    "# get the tip racks of interest\n",
    "tips_1000_uL_0 = lh.deck.get_resource(\"1000_tips_0\")\n",
    "tips_1000_uL_1 = lh.deck.get_resource(\"1000_tips_1\")\n",
    "tips_300_uL = lh.deck.get_resource(\"300_tips_1\")"
   ]
  },
  {
   "cell_type": "markdown",
   "id": "d6fb7131",
   "metadata": {},
   "source": [
    "Let's add a utility function to reset the deck and tip boxes"
   ]
  },
  {
   "cell_type": "code",
   "execution_count": null,
   "id": "c5a37b4d",
   "metadata": {},
   "outputs": [],
   "source": [
    "# utility function for resetting tip box.\n",
    "async def reset_tip_box_and_pipette_head(lh, tip_rack, mode: str = \"default\"):\n",
    "    if mode == \"default\":\n",
    "        try:\n",
    "            print(\"Resetting tip rack...\")\n",
    "            tip_rack.fill()\n",
    "            await lh.discard_tips()\n",
    "        except:\n",
    "            tip_rack.fill()\n",
    "    elif mode == \"96\":\n",
    "        try:\n",
    "            print(\"Resetting tip rack...\")\n",
    "            tip_rack.fill()\n",
    "            await lh.discard_tips96()\n",
    "        except:\n",
    "            tip_rack.fill()"
   ]
  },
  {
   "cell_type": "markdown",
   "id": "38956da8",
   "metadata": {},
   "source": [
    "By default, when a tip rack is placed on a deck setup, it is fully-filled.\n",
    "\n",
    "To “empty” a tip rack after initialization, use the `empty()` method."
   ]
  },
  {
   "cell_type": "code",
   "execution_count": null,
   "id": "55d9c80b",
   "metadata": {},
   "outputs": [],
   "source": [
    "tips_1000_uL_0.empty()\n",
    "tips_300_uL.empty()\n",
    "\n",
    "# now switch to the visualizer and see what happened."
   ]
  },
  {
   "cell_type": "markdown",
   "id": "d2e32ba8",
   "metadata": {},
   "source": [
    "To \"fill\" a tip rack if it is empty (representing a manual tip refill), you can call the `fill()` method."
   ]
  },
  {
   "cell_type": "code",
   "execution_count": null,
   "id": "80704006",
   "metadata": {},
   "outputs": [],
   "source": [
    "tips_1000_uL_0.fill()\n",
    "tips_300_uL.fill()\n",
    "\n",
    "# now switch to the visualizer and see what happened."
   ]
  },
  {
   "cell_type": "markdown",
   "id": "3d2a135b",
   "metadata": {},
   "source": [
    "In the PLR visualizer, the tips are represented as green/white spots.\n",
    "\n",
    "- Green = Tip present\n",
    "\n",
    "- White = Tip absent\n",
    "\n",
    "<div>\n",
    "<img src=\"../figs/tip_diff.png\" width=\"100\"/>\n",
    "</div>"
   ]
  },
  {
   "cell_type": "markdown",
   "id": "1573ffe7",
   "metadata": {},
   "source": [
    "#### A Simple Tip Operation"
   ]
  },
  {
   "cell_type": "markdown",
   "id": "68768245",
   "metadata": {},
   "source": [
    "You can have the liquid handler pick up a tip by calling `lh.pick_up_tips()`, and passing in the `TipSpot`s of the tips you want to retrieve. \n",
    "\n",
    "`TipSpot`s are indexed the same way that wells are.\n",
    "\n",
    "Let's try it"
   ]
  },
  {
   "cell_type": "code",
   "execution_count": null,
   "id": "ac60d416",
   "metadata": {},
   "outputs": [],
   "source": [
    "# pick up a tip from spot A1 on the tip rack, using the first channel\n",
    "await lh.pick_up_tips(tip_spots = tips_1000_uL_0[\"A1\"],\n",
    "                use_channels = [0])"
   ]
  },
  {
   "cell_type": "markdown",
   "id": "7e9fe725",
   "metadata": {},
   "source": [
    "IF you see an output like the one below, the liquid hanlder has picked up a tip!\n",
    "\n",
    "```txt\n",
    "Picking up tips:\n",
    "pip#  resource             offset           tip type     max volume (µL)  fitting depth (mm)   tip length (mm)  filter    \n",
    "  p0: 1000_tips_0_tipspot_0_0 0,0,0            HamiltonTip  1065             8                    95.1             Yes       \n",
    "```\n",
    "\n",
    "You should also see **spot A1** on the visualizer is now missing a tip. Let's go ahead and tell the liquid handler to return the tip."
   ]
  },
  {
   "cell_type": "code",
   "execution_count": null,
   "id": "04e68f86",
   "metadata": {},
   "outputs": [],
   "source": [
    "# return tips to their original locations\n",
    "await lh.return_tips()"
   ]
  },
  {
   "cell_type": "markdown",
   "id": "ce71ab0d",
   "metadata": {},
   "source": [
    "IF you see an output like the one below, the liquid hanlder has returned the tip.\n",
    "\n",
    "```txt\n",
    "Dropping tips:\n",
    "pip#  resource             offset           tip type     max volume (µL)  fitting depth (mm)   tip length (mm)  filter    \n",
    "  p0: 1000_tips_0_tipspot_0_0 0,0,0            HamiltonTip  1065             8                    95.1             Yes       \n",
    "```\n",
    "\n",
    "You can also **explicitly** tell the liquid handler where to drop tips, if a differnet location than where they were picked up from."
   ]
  },
  {
   "cell_type": "code",
   "execution_count": null,
   "id": "b4c3da26",
   "metadata": {},
   "outputs": [],
   "source": [
    "# same pick up tips operation as before.\n",
    "await lh.pick_up_tips(tip_spots = tips_1000_uL_0[\"A1\"],\n",
    "                use_channels = [0])\n",
    "\n",
    "# explicitly tell liquid handler where to move tips to (useful if moving form one tip rack to another.)\n",
    "await lh.drop_tips(tip_spots = tips_1000_uL_0[\"A1\"],\n",
    "                use_channels = [0])"
   ]
  },
  {
   "cell_type": "markdown",
   "id": "ccdb574b",
   "metadata": {},
   "source": [
    "This is a simple example of how to pick up, then return a tip. Let's investigate several different ways we can pick up tips."
   ]
  },
  {
   "cell_type": "markdown",
   "id": "a430a53d",
   "metadata": {},
   "source": [
    "#### Getting Information on Tip Status\n",
    "\n",
    "PyLabRobot can  track whether or not the liquid handler has a tip, based on the history of executed steps on the liquid handler.\n",
    "\n",
    "Let's check to see if the liquid handler has a tip on channel 0."
   ]
  },
  {
   "cell_type": "code",
   "execution_count": null,
   "id": "4b497aaa",
   "metadata": {},
   "outputs": [],
   "source": [
    "# lh tip state\n",
    "print(lh.head[0].has_tip)"
   ]
  },
  {
   "cell_type": "markdown",
   "id": "069ccd2a",
   "metadata": {},
   "source": [
    "`False` indicates that channel 0 does not have a tip. Let's pick one up and run the code again"
   ]
  },
  {
   "cell_type": "code",
   "execution_count": null,
   "id": "bbe01598",
   "metadata": {},
   "outputs": [],
   "source": [
    "await lh.pick_up_tips(tip_spots = tips_1000_uL_0[\"A1\"],\n",
    "                use_channels = [0])\n",
    "print(lh.head[0].has_tip)"
   ]
  },
  {
   "cell_type": "markdown",
   "id": "ad874961",
   "metadata": {},
   "source": [
    "Now it indicates `True`, indicating a tip is present. This can be useful for preventing operations when a tip isn't present.\n",
    "\n",
    "We used the `[0]` syntax because we are asking if a the first channel has a tip on it on the given liquid handler. To see the full status of the head of the liquid handler, we can print `lh.head`"
   ]
  },
  {
   "cell_type": "code",
   "execution_count": null,
   "id": "475b9748",
   "metadata": {},
   "outputs": [],
   "source": [
    "print(lh.head)"
   ]
  },
  {
   "cell_type": "markdown",
   "id": "caa37530",
   "metadata": {},
   "source": [
    "This is a bit hard to read, let's write a function to print the liquid handller status neatly."
   ]
  },
  {
   "cell_type": "code",
   "execution_count": null,
   "id": "319567a1",
   "metadata": {},
   "outputs": [],
   "source": [
    "def print_channels_tip_origin(lh):\n",
    "\n",
    "    # Prints the origin location of all tips currently on the robot\n",
    "    cur_pipetter = lh.head\n",
    "    print(\"\\nChannel Status...\\n\\n\")\n",
    "\n",
    "    for channel in cur_pipetter:\n",
    "        print(f\"Channel {channel}:\")\n",
    "        tip_tracker = lh.head[channel]\n",
    "        if tip_tracker.has_tip == True:\n",
    "            print(f\"Tip: {tip_tracker.get_tip()}\")\n",
    "            print(f\"Origin: {tip_tracker.get_tip_origin()}\")\n",
    "        else:\n",
    "            print(\"No tip present.\")\n",
    "        print()\n",
    "\n",
    "print_channels_tip_origin(lh)"
   ]
  },
  {
   "cell_type": "markdown",
   "id": "76807a73",
   "metadata": {},
   "source": [
    "Great! Now what you should notice is that channel 0 now contains both:\n",
    "\n",
    "- A tip: `HamiltonTip(HIGH_VOLUME, has_filter=True, maximal_volume=1065, fitting_depth=8, total_tip_length=95.1, pickup_method=OUT_OF_RACK)`\n",
    "\n",
    "- The tip's origin: `TipSpot(name=1000_tips_0_tipspot_0_0, location=Coordinate(007.200, 068.300, -83.500), size_x=9.0, size_y=9.0, size_z=0, category=tip_spot)`\n",
    "\n",
    "This can be useful to gauge the status of the liquid handler head at any point in time"
   ]
  },
  {
   "cell_type": "markdown",
   "id": "66b967fc",
   "metadata": {},
   "source": [
    "#### Picking Up, Returning, and Discarding Tips\n",
    "\n",
    "So far, we have only shown how to get one tip at a time. For robots with only **one channel**, this is all you are limited to, and pipetting operations must be singleton (i.e. meaning, you would have to iterate over wells for pipetting with a **for loop**)\n",
    "\n",
    "For coding purposes, this won't make much of a difference, since **for loops** can execute as fast as your machine can process the Pythonic code. However, if your particular liquid handler can grab **multiple tips** at the same time, then the number of **physical operations** (movement of the robotic arm) decreases signficantly, which can not only speed up your protocol, but also had other benefits such as energy cost savings and reduced wear-and-tear on the physical system.\n",
    "\n",
    "The `use_channels` argument is very useful here, where you want to pass in a list of **channel indices** that you'd like to use to pick up the tips.\n",
    "\n",
    "Let's see what happens when we use **two channels**"
   ]
  },
  {
   "cell_type": "code",
   "execution_count": null,
   "id": "e9ab64ae",
   "metadata": {},
   "outputs": [],
   "source": [
    "# pick up tips with 2 channels\n",
    "await reset_tip_box_and_pipette_head(lh, tips_1000_uL_0)\n",
    "await lh.pick_up_tips(tip_spots = tips_1000_uL_0[\"A1\", \"A2\"],\n",
    "                use_channels = [0, 1])\n",
    "print_channels_tip_origin(lh)"
   ]
  },
  {
   "cell_type": "markdown",
   "id": "025d1991",
   "metadata": {},
   "source": [
    "Great As we can see, we have picked up **two tips**, with one on each channel.\n",
    "\n",
    "Let's try again with **all 8 channels**"
   ]
  },
  {
   "cell_type": "code",
   "execution_count": null,
   "id": "a106f276",
   "metadata": {},
   "outputs": [],
   "source": [
    "# using all 8 channels\n",
    "await reset_tip_box_and_pipette_head(lh, tips_1000_uL_0)\n",
    "tip_spots = [f\"A{i + 1}\" for i in range(8)] # this time, we enumerate all the tip spots\n",
    "channels = [i for i in range(8)]\n",
    "await lh.pick_up_tips(tip_spots = tips_1000_uL_0[tip_spots],\n",
    "                use_channels = channels)\n",
    "print_channels_tip_origin(lh)"
   ]
  },
  {
   "cell_type": "markdown",
   "id": "b9725d00",
   "metadata": {},
   "source": [
    "Notice how we had to list out all the tip spots? This can get cumbersome.\n",
    "\n",
    "Instead, we can provide a list of format `[Start_Well:End_Well]`\n",
    "\n",
    "Let's pick up **8 tips again** using this method"
   ]
  },
  {
   "cell_type": "code",
   "execution_count": null,
   "id": "7e4eb365",
   "metadata": {},
   "outputs": [],
   "source": [
    "# using all 8 channels\n",
    "await reset_tip_box_and_pipette_head(lh, tips_1000_uL_0)\n",
    "channels = [i for i in range(8)]\n",
    "await lh.pick_up_tips(tip_spots = tips_1000_uL_0[\"A1:A8\"],\n",
    "                use_channels = channels)\n",
    "print_channels_tip_origin(lh)"
   ]
  },
  {
   "cell_type": "markdown",
   "id": "3065b168",
   "metadata": {},
   "source": [
    "You can also use the same `traverse()` function to iterate over the spots in a tip rack as well.\n",
    "\n",
    "**Experiment** with the function below and use the visualizer to see the result of the tip rack after iterating through the **tip spots**, picking up the tips, then discarding them in the trash.\n",
    "\n",
    "The function is written so that it uses the exact number of channels for the tips in a batch. See what happens if you increase the **batch size** to 8."
   ]
  },
  {
   "cell_type": "code",
   "execution_count": null,
   "id": "04b8a91f",
   "metadata": {},
   "outputs": [],
   "source": [
    "tip_rack = tips_1000_uL_0\n",
    "\n",
    "# EXPERIMENT HERE - MAKE CHANGES TO THE PARAMETERS AND SEE WHAT HAPPENS\n",
    "tip_spots = tip_rack.traverse(start=\"top_left\", batch_size = 4, direction='down')\n",
    "\n",
    "async def print_tip_batches(tip_spot_iterator):\n",
    "    await reset_tip_box_and_pipette_head(lh, tips_1000_uL_0)\n",
    "    for i, tip_spots in enumerate(tip_spot_iterator):\n",
    "        channels = [j for j in range(len(tip_spots))]\n",
    "        if i % 2 == 0:\n",
    "            await lh.pick_up_tips(tip_spots = tip_spots,\n",
    "                        use_channels = channels)\n",
    "            await lh.discard_tips()\n",
    "\n",
    "await print_tip_batches(tip_spots)"
   ]
  },
  {
   "cell_type": "markdown",
   "id": "d8b3e5b1",
   "metadata": {},
   "source": [
    "Note that some liquid handlers have more than **8 channels**. Some even have a 96-channel head, which can pick up entire plats of wells at one time.\n",
    "\n",
    "Using this requires special functions shown below. Let's first pick up 96 tips.\n",
    "\n",
    "Since you are picking up the entire tip box, there is **no need to specify tip spots**"
   ]
  },
  {
   "cell_type": "code",
   "execution_count": null,
   "id": "1c2b9559",
   "metadata": {},
   "outputs": [],
   "source": [
    "await reset_tip_box_and_pipette_head(lh, tips_1000_uL_0, mode = \"96\")\n",
    "await lh.pick_up_tips96(tips_1000_uL_0)\n",
    "\n",
    "# now switch to the visualizer and see what happened"
   ]
  },
  {
   "cell_type": "markdown",
   "id": "91293f21",
   "metadata": {},
   "source": [
    "Return the tips using `return_tips96()`"
   ]
  },
  {
   "cell_type": "code",
   "execution_count": null,
   "id": "8b263ef4",
   "metadata": {},
   "outputs": [],
   "source": [
    "await lh.return_tips96(tips_1000_uL_0)\n",
    "\n",
    "# now switch to the visualizer and see what happened"
   ]
  },
  {
   "cell_type": "markdown",
   "id": "2c4cd27d",
   "metadata": {},
   "source": [
    "PLR also has functionality to **iterate** over all possible tip boxes.\n",
    "\n",
    "Normally, if you run out of tips in a tip box, you will need to **tell PLR to proceed to the next tip box** but using the following iterators enable traversing and picking up tips across **several tip boxes** across the entire deck.\n",
    "\n",
    "Right now, there are two iterators:\n",
    "\n",
    "- A **random** iterator\n",
    "\n",
    "- A **linear** iterator\n",
    "\n",
    "These can be imported from the `pylabrobot.resources.functional` library."
   ]
  },
  {
   "cell_type": "code",
   "execution_count": null,
   "id": "e2765631",
   "metadata": {},
   "outputs": [],
   "source": [
    "import pylabrobot.resources.functional as F"
   ]
  },
  {
   "cell_type": "markdown",
   "id": "4954d4c0",
   "metadata": {},
   "source": [
    "Now, add **all the tip racks you care about** to one **list** for use in the iterator.\n",
    "\n",
    "You can also create separate generators for different tip sizes!"
   ]
  },
  {
   "cell_type": "code",
   "execution_count": null,
   "id": "7dbdc10f",
   "metadata": {},
   "outputs": [],
   "source": [
    "tip_racks = [tips_1000_uL_0, tips_1000_uL_1]"
   ]
  },
  {
   "cell_type": "markdown",
   "id": "b16b96d0",
   "metadata": {},
   "source": [
    "Now, using `F.get_all_tip_spots()`, get an iterable list of tip spots"
   ]
  },
  {
   "cell_type": "code",
   "execution_count": null,
   "id": "d761f266",
   "metadata": {},
   "outputs": [],
   "source": [
    "tip_spots = F.get_all_tip_spots(tip_racks)"
   ]
  },
  {
   "cell_type": "markdown",
   "id": "38aef0ba",
   "metadata": {},
   "source": [
    "Create the generator"
   ]
  },
  {
   "cell_type": "code",
   "execution_count": null,
   "id": "3c37c47c",
   "metadata": {},
   "outputs": [],
   "source": [
    "linear_generator = F.linear_tip_spot_generator(\n",
    "  tip_spots=tip_spots,                      # the list of tip spots to use\n",
    "  repeat=False,                             # don't repeat the tip spots if they run out\n",
    ")"
   ]
  },
  {
   "cell_type": "markdown",
   "id": "90671e5c",
   "metadata": {},
   "source": [
    "Finally, we can iterate over the generator.\n",
    "\n",
    "Normally in python this is done with a `for` loop; however, these generators are **asynchronous**, meaning you need to iterate over them with the `async for` prefix or the `anext()` functions in Python.\n",
    "\n",
    "Let's show using a for loop to iterate 3 times."
   ]
  },
  {
   "cell_type": "code",
   "execution_count": null,
   "id": "647caec5",
   "metadata": {},
   "outputs": [],
   "source": [
    "i = 0\n",
    "async for tip in linear_generator:\n",
    "    if i > 2:\n",
    "        break\n",
    "    print(tip)\n",
    "    i += 1"
   ]
  },
  {
   "cell_type": "markdown",
   "id": "7507679e",
   "metadata": {},
   "source": [
    "The `anext` command is useful to get a list of items from an asynchornous generator"
   ]
  },
  {
   "cell_type": "code",
   "execution_count": null,
   "id": "04a2eea9",
   "metadata": {},
   "outputs": [],
   "source": [
    "tip_list = [await anext(linear_generator) for _ in range(3)]\n",
    "print(tip_list)"
   ]
  },
  {
   "cell_type": "markdown",
   "id": "48534ef7",
   "metadata": {},
   "source": [
    "You can also **randomly** iterate over tip spots using the random generator. Let's make one using the same tip spots."
   ]
  },
  {
   "cell_type": "code",
   "execution_count": null,
   "id": "260fef88",
   "metadata": {},
   "outputs": [],
   "source": [
    "random_generator = F.randomized_tip_spot_generator(\n",
    "  tip_spots=tip_spots,                      # the list of tip spots to use\n",
    "  K=192,                                     # don't sample tip spots that have been used in the last K samples.\n",
    ")\n",
    "\n",
    "# If K is less than the number of tip spots you are sampling, you can accidentally sample a tip spot that does not have a tip."
   ]
  },
  {
   "cell_type": "markdown",
   "id": "72e84840",
   "metadata": {},
   "source": [
    "Now, let's randomly iterate and pick up **40 tips** and see what it looks like on our visualizer.\n",
    "\n",
    "You should explore different parameter options to test here and visualize the effects!"
   ]
  },
  {
   "cell_type": "code",
   "execution_count": null,
   "id": "29996a98",
   "metadata": {},
   "outputs": [],
   "source": [
    "# reset both tip boxes since we are iterating over all of them.\n",
    "await reset_tip_box_and_pipette_head(lh, tips_1000_uL_0)\n",
    "await reset_tip_box_and_pipette_head(lh, tips_1000_uL_1)\n",
    "\n",
    "# initialize counters\n",
    "max_tips = 90 # CHANGE THIS TO SEE WHAT HAPPENS\n",
    "curr_tip = 0\n",
    "\n",
    "# sample tips randomly\n",
    "async for tip in random_generator:\n",
    "    await lh.pick_up_tips(tip_spots=[tip], use_channels=[0])\n",
    "    await lh.discard_tips()\n",
    "    curr_tip += 1\n",
    "    if curr_tip >= max_tips:\n",
    "        break"
   ]
  },
  {
   "cell_type": "markdown",
   "id": "501448ca",
   "metadata": {},
   "source": [
    "These are most of the ways to iterate over tips in PLR. With this knowledge you are ready to handle some liquids!"
   ]
  },
  {
   "cell_type": "markdown",
   "id": "aeb5dbaf",
   "metadata": {},
   "source": [
    "#### Tip-Related Errors\n",
    "\n",
    "There are several errors that can occur when picking up or dropping tips in PLR.\n",
    "\n",
    "Let's pick up a tip."
   ]
  },
  {
   "cell_type": "code",
   "execution_count": null,
   "id": "435d7d77",
   "metadata": {},
   "outputs": [],
   "source": [
    "# reset tip deck\n",
    "await reset_tip_box_and_pipette_head(lh, tips_1000_uL_0)\n",
    "await reset_tip_box_and_pipette_head(lh, tips_1000_uL_1)\n",
    "\n",
    "# error: return tips - explanation\n",
    "await lh.pick_up_tips(tip_spots=tips_1000_uL_0[\"A1\"], use_channels=[0])"
   ]
  },
  {
   "cell_type": "markdown",
   "id": "30ef36c9",
   "metadata": {},
   "source": [
    "What do you think will happen when we try to pick up a tip again?\n",
    "\n",
    "Let's try it."
   ]
  },
  {
   "cell_type": "code",
   "execution_count": null,
   "id": "5e109574",
   "metadata": {},
   "outputs": [],
   "source": [
    "# error: return tips - explanation\n",
    "await lh.pick_up_tips(tip_spots=tips_1000_uL_0[\"A2\"], use_channels=[0])"
   ]
  },
  {
   "cell_type": "markdown",
   "id": "958339d5",
   "metadata": {},
   "source": [
    "You should see an error that says:\n",
    "\n",
    " **HasTipError:** Channel has tip.\n",
    "\n",
    " This means the channel already has a tip on it, so let's go ahead and discard the tip first."
   ]
  },
  {
   "cell_type": "code",
   "execution_count": null,
   "id": "1829ea30",
   "metadata": {},
   "outputs": [],
   "source": [
    "await lh.discard_tips()"
   ]
  },
  {
   "cell_type": "markdown",
   "id": "2ca71b06",
   "metadata": {},
   "source": [
    "Now, let's see what happens when we try to pick up a tip from **well A1**, which is missing a tip since we just discarded it."
   ]
  },
  {
   "cell_type": "code",
   "execution_count": null,
   "id": "4c09fe9e",
   "metadata": {},
   "outputs": [],
   "source": [
    "await lh.pick_up_tips(tip_spots=tips_1000_uL_0[\"A1\"], use_channels=[0])"
   ]
  },
  {
   "cell_type": "markdown",
   "id": "a6d4a465",
   "metadata": {},
   "source": [
    "Now we get a different error:\n",
    "\n",
    "**NoTipError:** Tip spot does not have a tip.\n",
    "\n",
    "This makes sense since the tip spot does not have a tip available, so we should've grabbed one from **A2**"
   ]
  },
  {
   "cell_type": "code",
   "execution_count": null,
   "id": "c66551b1",
   "metadata": {},
   "outputs": [],
   "source": [
    "await lh.pick_up_tips(tip_spots=tips_1000_uL_0[\"A2\"], use_channels=[0])"
   ]
  },
  {
   "cell_type": "markdown",
   "id": "8763d4ea",
   "metadata": {},
   "source": [
    "Now discard it"
   ]
  },
  {
   "cell_type": "code",
   "execution_count": null,
   "id": "b06dc847",
   "metadata": {},
   "outputs": [],
   "source": [
    "await lh.discard_tips()"
   ]
  },
  {
   "cell_type": "markdown",
   "id": "3846e210",
   "metadata": {},
   "source": [
    "What if we try to discard the tip again?"
   ]
  },
  {
   "cell_type": "code",
   "execution_count": null,
   "id": "ee8f29a9",
   "metadata": {},
   "outputs": [],
   "source": [
    "await lh.discard_tips()"
   ]
  },
  {
   "cell_type": "markdown",
   "id": "e216aa3d",
   "metadata": {},
   "source": [
    "We get a **RuntimeError:** No tips have been picked up and no channels were specified.\n",
    "\n",
    "A similar error occurs if we attempt to return or drop tips with an empty liquid handler head."
   ]
  },
  {
   "cell_type": "code",
   "execution_count": null,
   "id": "d9060810",
   "metadata": {},
   "outputs": [],
   "source": [
    "await lh.return_tips()"
   ]
  },
  {
   "cell_type": "markdown",
   "id": "509b7802",
   "metadata": {},
   "source": [
    "These are the most likely errors you will encounter as you develop your protocol.\n",
    "\n",
    "By catching these errors **in silico** you can help **reduce** the number of criticial errors occuring when running the robot in a high-stake experiment!"
   ]
  },
  {
   "cell_type": "markdown",
   "id": "72fcea33",
   "metadata": {},
   "source": [
    "### Liquid Handling - Aspiration and Dispensing\n",
    "Now that you have learned the basics of traversing lab equipment and moving tips, we can cover the basics of moving liquids.\n",
    "\n",
    "Moving a liquid consists of two steps:\n",
    "\n",
    "- **Aspiration:** or drawing up liquid into the tips on the liquid handler.\n",
    "\n",
    "- **Dispensing:** or ejecting the liquid into a destination.\n",
    "\n",
    "Both these steps are **almost identical** to the utilities for picking up and moving tips. \n",
    "\n",
    "First, we will show you a basic transfer using one tip from one well to another.\n",
    "\n",
    "Then we will show you a few other transfer methods, using multiple-channels and a 96-channel head\n",
    "\n",
    "Finally, we will cover some of the unique errors you can encounter, including PLR's ability to track cross-contamination"
   ]
  },
  {
   "cell_type": "markdown",
   "id": "613fe48f",
   "metadata": {},
   "source": [
    "#### Simple Liquid Transfer Example\n",
    "\n",
    "First, let's set up the deck"
   ]
  },
  {
   "cell_type": "code",
   "execution_count": null,
   "id": "1fbd939a",
   "metadata": {},
   "outputs": [],
   "source": [
    "async def setup_liquid_transfer_deck():\n",
    "    deck = await make_liquid_handling_deck()\n",
    "    lh = await visualize_deck(deck, LiquidHandlerChatterboxBackend())\n",
    "\n",
    "    # get tip boxes of interest\n",
    "    tips_1000_uL = lh.deck.get_resource(\"1000_tips_1\")\n",
    "    tips_300_uL = lh.deck.get_resource(\"300_tips_1\")\n",
    "\n",
    "    # get plates of interest\n",
    "    plate_0 = lh.deck.get_resource(\"12_plate_0\")\n",
    "    plate_1 = lh.deck.get_resource(\"96_plate_0\")\n",
    "    plate_2 = lh.deck.get_resource(\"96_plate_1\")\n",
    "    return deck, lh, tips_1000_uL, tips_300_uL, plate_0, plate_1, plate_2"
   ]
  },
  {
   "cell_type": "markdown",
   "id": "b2fcc39f",
   "metadata": {},
   "source": [
    "Get the resources of interest\n"
   ]
  },
  {
   "cell_type": "code",
   "execution_count": null,
   "id": "bb84756b",
   "metadata": {},
   "outputs": [],
   "source": [
    "# get tip boxes of interest\n",
    "deck, lh, tips_1000_uL, tips_300_uL, plate_0, plate_1, plate_2 = await setup_liquid_transfer_deck()"
   ]
  },
  {
   "cell_type": "markdown",
   "id": "275a7f86",
   "metadata": {},
   "source": [
    "Go ahead and set the intial liquids."
   ]
  },
  {
   "cell_type": "code",
   "execution_count": null,
   "id": "04b58b8f",
   "metadata": {},
   "outputs": [],
   "source": [
    "# let's go ahead and create a liquid called red dye and octanol\n",
    "# let's go ahead and start with 6000 uL = 6 platesmL of each liquid\n",
    "# let's simulate us starting with this liquid in plate 0 (12-well plate)\n",
    "def set_starting_liquids():\n",
    "    red_dye = (\"Red Dye\", 6000)\n",
    "    octanol = (Liquid.OCTANOL, 6000)\n",
    "    # assign red dye to well A1\n",
    "    plate_0.get_well(\"A1\").tracker.set_liquids([red_dye])\n",
    "    # assign octanol to well A2\n",
    "    plate_0.get_well(\"A2\").tracker.set_liquids([octanol])"
   ]
  },
  {
   "cell_type": "markdown",
   "id": "3f90ef03",
   "metadata": {},
   "source": [
    "Now, let's go ahead and move 200 uL of red dye to well A1 of plate_1"
   ]
  },
  {
   "cell_type": "code",
   "execution_count": null,
   "id": "887baa56",
   "metadata": {},
   "outputs": [],
   "source": [
    "# reset deck\n",
    "await reset_tip_box_and_pipette_head(lh, tips_300_uL)\n",
    "set_starting_liquids()\n",
    "\n",
    "# first pick up one 300 uL tip\n",
    "await lh.pick_up_tips(tip_spots = tips_300_uL[\"A1\"], use_channels=[0])\n",
    "\n",
    "# next, aspirate 200 uL of red dye from well A1 on plate_0\n",
    "await lh.aspirate(plate_0[\"A1\"], vols = [200])\n",
    "\n",
    "# then, move the robot to plate_1 and dispense the liquid\n",
    "await lh.dispense(plate_1[\"A1\"], vols = [200])\n",
    "\n",
    "# finally, discard the tips on the liquid handler\n",
    "await lh.discard_tips()"
   ]
  },
  {
   "cell_type": "markdown",
   "id": "4fbcb9fa",
   "metadata": {},
   "source": [
    "#### Other Liquid Handling Examples"
   ]
  },
  {
   "cell_type": "markdown",
   "id": "a40e2abf",
   "metadata": {},
   "source": [
    "We can, of course, transfer liquid one well at at time in a for loop.\n",
    "\n",
    "Let's go ahead and pipette **200 uL** into the **first column** of **plate 1**"
   ]
  },
  {
   "cell_type": "code",
   "execution_count": null,
   "id": "70a84334",
   "metadata": {},
   "outputs": [],
   "source": [
    "# reset deck\n",
    "await reset_tip_box_and_pipette_head(lh, tips_300_uL)\n",
    "reset_liquids(plate_1)\n",
    "set_starting_liquids()\n",
    "\n",
    "# char alphabet\n",
    "alphabet = [chr(i) for i in range(65, 73)]\n",
    "\n",
    "# for each well in first column\n",
    "for i in range(8):\n",
    "    await lh.pick_up_tips(tip_spots = tips_300_uL[f\"{alphabet[i]}1\"], use_channels=[0])\n",
    "\n",
    "    # next, aspirate 200 uL of red dye from well A1 on plate_0\n",
    "    await lh.aspirate(plate_0[\"A1\"], vols = [200])\n",
    "\n",
    "    # then, move the robot to plate_1 and dispense the liquid\n",
    "    await lh.dispense(plate_1[f\"{alphabet[i]}1\"], vols = [200])\n",
    "\n",
    "    # finally, discard the tips on the liquid handler\n",
    "    await lh.discard_tips()"
   ]
  },
  {
   "cell_type": "markdown",
   "id": "2c7060bf",
   "metadata": {},
   "source": [
    "This is a bit clunky though. Let's make use of our **8 channel** pipette head and some more compact notation!\n",
    "\n",
    "Let's go ahead and pipette **200 uL** from the **first column** of **plate 1** to the **second column** of **plate 1**"
   ]
  },
  {
   "cell_type": "code",
   "execution_count": null,
   "id": "c33dc86f",
   "metadata": {},
   "outputs": [],
   "source": [
    "# set channels to use\n",
    "channels_to_use = [i for i in range(8)]\n",
    "\n",
    "# pick up tips from second column since we already used the first column\n",
    "await lh.pick_up_tips(tip_spots = tips_300_uL[\"A2:H2\"], use_channels=channels_to_use)\n",
    "\n",
    "# aspirate first column of liquid\n",
    "await lh.aspirate(plate_1[\"A1:H1\"], vols = [200] * 8)\n",
    "\n",
    "# dispense first column of liquid to second column\n",
    "await lh.dispense(plate_1[\"A2:H2\"], vols = [200] * 8)\n",
    "\n",
    "# discard tips\n",
    "await lh.discard_tips()"
   ]
  },
  {
   "cell_type": "markdown",
   "id": "2c534c07",
   "metadata": {},
   "source": [
    "This still seems a bit cumbersome. Let's take advantage of Python **functions** to write a function which will take a column to pipette from, a column to pipette to, a volume, and a tip rack and will **automaticallly pipette a column from one location to another**"
   ]
  },
  {
   "cell_type": "code",
   "execution_count": null,
   "id": "cd78d479",
   "metadata": {},
   "outputs": [],
   "source": [
    "from pylabrobot.resources import TipRack, Plate\n",
    "\n",
    "async def pipette_col(input_col: int,\n",
    "                      input_plate: Plate,\n",
    "                      target_col: int,\n",
    "                      target_plate: Plate,\n",
    "                      tip_rack_resource: TipRack,\n",
    "                      volumes: list[float]):\n",
    "    \n",
    "    alphabet = [chr(i) for i in range(65, 73)]\n",
    "\n",
    "    # get number of channels to use based on length of volumes\n",
    "    n = len(volumes)\n",
    "    channels_to_use = [i for i in range(n)]\n",
    "    col_input_idx = f\"A{input_col}:{alphabet[n - 1]}{input_col}\"\n",
    "    col_tgt_idx = f\"A{target_col}:{alphabet[n - 1]}{target_col}\"\n",
    "\n",
    "    # pick up tips from second column since we already used the first column\n",
    "    await lh.pick_up_tips(tip_spots = tip_rack_resource[col_tgt_idx], use_channels=channels_to_use)\n",
    "\n",
    "    # aspirate first column of liquid\n",
    "    await lh.aspirate(input_plate[col_input_idx], vols = volumes)\n",
    "\n",
    "    # dispense first column of liquid to second column\n",
    "    await lh.dispense(target_plate[col_tgt_idx], vols = volumes)\n",
    "\n",
    "    # discard tips\n",
    "    await lh.discard_tips()"
   ]
  },
  {
   "cell_type": "markdown",
   "id": "ec7f00dc",
   "metadata": {},
   "source": [
    "Now let's use this function to move the **2nd column** to the **3rd column**"
   ]
  },
  {
   "cell_type": "code",
   "execution_count": null,
   "id": "f4ffcae1",
   "metadata": {},
   "outputs": [],
   "source": [
    "await pipette_col(input_col = 2,\n",
    "                  input_plate = plate_1,\n",
    "                  target_col = 3,\n",
    "                  target_plate = plate_1,\n",
    "                  tip_rack_resource = tips_300_uL,\n",
    "                  volumes = [200] * 8)"
   ]
  },
  {
   "cell_type": "markdown",
   "id": "a3c13dc9",
   "metadata": {},
   "source": [
    "With functions, we can **drastically reduce** the amount of code we use!\n",
    "\n",
    "Now, let's use our function above to pipette a **gradient of liquid amounts** from **column 3** to **column 4**.\n",
    "\n",
    "Instead of using a list of constant volume amounts `[200] * 8`, we instead use a `range()` of 25 uL increments from 0 to 175 uL as follows: `[i for i in range(0, 200, 25)]`"
   ]
  },
  {
   "cell_type": "code",
   "execution_count": null,
   "id": "22f580e1",
   "metadata": {},
   "outputs": [],
   "source": [
    "await pipette_col(input_col = 3,\n",
    "                  input_plate = plate_1,\n",
    "                  target_col = 4,\n",
    "                  target_plate = plate_1,\n",
    "                  tip_rack_resource = tips_300_uL,\n",
    "                  volumes = [i for i in range(0, 200, 25)])"
   ]
  },
  {
   "cell_type": "markdown",
   "id": "63effb46",
   "metadata": {},
   "source": [
    "Now go look at the visualizer and see the color gradients we created!\n",
    "\n",
    "Implementing this with a for loop would've taken **a lot more code**. This shows the power of **functionalizing your code**"
   ]
  },
  {
   "cell_type": "markdown",
   "id": "c15c73eb",
   "metadata": {},
   "source": [
    "#### Liquid Handling Errors\n",
    "\n",
    "Trackers in PyLabRobot are objects that keep track of the state of the deck throughout a protocol. Three types of trackers currently exist:\n",
    "\n",
    "- **tip trackers** - tracks the presence of tips in tip racks and on the pipetting channels\n",
    "- **volume trackers** - tracks the volume in pipetting tips and wells/reservoirs\n",
    "- **cross contamination** - tracks whether a given action would result in two liquids mixing unintentionally, thus introducing contamination in a sample or tip.\n",
    "\n",
    "To **enable these**, you must explicitly call\n",
    "\n",
    "```python\n",
    "# enable tracking of tip status and volumes\n",
    "set_volume_tracking(enabled=True)\n",
    "set_tip_tracking(enabled=True)\n",
    "```\n",
    "\n",
    "We have already seen the errors that the **tip tracker** can throw. But now let's go ahead and explore various errors you could run into when performing liquid handling exercises. First, let's reset the deck."
   ]
  },
  {
   "cell_type": "code",
   "execution_count": null,
   "id": "7c9091d1",
   "metadata": {},
   "outputs": [],
   "source": [
    "await reset_tip_box_and_pipette_head(lh, tips_300_uL)\n",
    "reset_liquids(plate_1)\n",
    "set_starting_liquids()"
   ]
  },
  {
   "cell_type": "markdown",
   "id": "d3a84efb",
   "metadata": {},
   "source": [
    "The first error you can get is when you attempt to dispense **more liquid** than currently held in the liquid handler head.\n",
    "\n",
    "This results in a `TooLittleLiquidError`"
   ]
  },
  {
   "cell_type": "code",
   "execution_count": null,
   "id": "d31b06bd",
   "metadata": {},
   "outputs": [],
   "source": [
    "from pylabrobot.resources.volume_tracker import TooLittleLiquidError, TooLittleVolumeError\n",
    "\n",
    "try:\n",
    "  await lh.pick_up_tips(tip_spots = tips_300_uL[\"A1\"])\n",
    "  await lh.dispense(plate_1[\"A1\"], vols=[100]) # this is less liquid than is currently in the tip\n",
    "except TooLittleLiquidError as e:\n",
    "  print(\"As expected:\", e)"
   ]
  },
  {
   "cell_type": "markdown",
   "id": "2a56a942",
   "metadata": {},
   "source": [
    "If you try to aspirate from a container that does not have enough of the requested volume, you can run into a `TooLittleVolumeError`\n",
    "\n",
    "Let's demmonstrate this now"
   ]
  },
  {
   "cell_type": "code",
   "execution_count": null,
   "id": "88a04e23",
   "metadata": {},
   "outputs": [],
   "source": [
    "# reset head\n",
    "lh.clear_head_state()\n",
    "reset_liquids(plate_1)\n",
    "\n",
    "# fill the first two columns of the plate with 200 uL water\n",
    "for i in range(16):\n",
    "  plate_1.get_item(i).tracker.set_liquids([(Liquid.WATER, 200)])\n",
    "\n",
    "try:\n",
    "  for i in range(16):\n",
    "    await lh.aspirate(plate_1[i], vols=[200])\n",
    "except TooLittleVolumeError as e:\n",
    "  print(\"As expected:\", e)"
   ]
  },
  {
   "cell_type": "markdown",
   "id": "4e1e4b65",
   "metadata": {},
   "source": [
    "Similarly, we could also get an error if we try to **aspirate too much volume** from a given well.\n",
    "\n",
    "For example, let's see what happens if we try to aspirate **360 uL** from a well with only **200 uL**"
   ]
  },
  {
   "cell_type": "code",
   "execution_count": null,
   "id": "1e515567",
   "metadata": {},
   "outputs": [],
   "source": [
    "# reset head\n",
    "lh.clear_head_state()\n",
    "\n",
    "# fill the first two columns of the plate with 200 uL water\n",
    "for i in range(16):\n",
    "  plate_1.get_item(i).tracker.set_liquids([(Liquid.WATER, 200)])\n",
    "try:\n",
    "  await lh.aspirate(plate_1[\"A1\"], vols=[360]) # the second aspiration will attempt to grab 200 uL, but the tip can only hold 360 uL volume total!\n",
    "except TooLittleLiquidError as e:\n",
    "  print(\"As expected:\", e)"
   ]
  },
  {
   "cell_type": "markdown",
   "id": "8b1801da",
   "metadata": {},
   "source": [
    "Finallly, we could also try to **dispense too much volume** into a given well.\n",
    "\n",
    "Let's see what happens if we try to aspirate **1 mL** of Octanol and dispense all of it into a **360 uL** well of a plate."
   ]
  },
  {
   "cell_type": "code",
   "execution_count": null,
   "id": "fc274c54",
   "metadata": {},
   "outputs": [],
   "source": [
    "# reset head\n",
    "lh.clear_head_state()\n",
    "await reset_tip_box_and_pipette_head(lh, tips_1000_uL)\n",
    "reset_liquids(plate_1)\n",
    "\n",
    "try:\n",
    "  await lh.pick_up_tips(tips_1000_uL[\"A1\"])\n",
    "  await lh.aspirate(plate_0[\"A1\"], vols=[1000])\n",
    "  await lh.dispense(plate_1[\"A1\"], vols=[1000])\n",
    "except TooLittleVolumeError as e:\n",
    "  print(\"As expected:\", e)"
   ]
  },
  {
   "cell_type": "markdown",
   "id": "e6a89e32",
   "metadata": {},
   "source": [
    "#### Cross Contamination\n",
    "\n",
    "Uniquely, PLR can also track cross-contamination.\n",
    "\n",
    "Cross contamination can be defined as the unintentional transfer of contaminants (like substances, microorganisms, or foreign particles) from one source to another, compromising the integrity of a sample or experiment.\n",
    "\n",
    "In code, this simply tracks the liquids in a given tip"
   ]
  },
  {
   "cell_type": "code",
   "execution_count": null,
   "id": "02700a83",
   "metadata": {},
   "outputs": [],
   "source": [
    "import time\n",
    "\n",
    "# enable cross contamination tracking\n",
    "from pylabrobot.resources import (\n",
    "    set_cross_contamination_tracking\n",
    ")\n",
    "set_cross_contamination_tracking(enabled=True)\n",
    "\n",
    "# fully reset deck\n",
    "deck, lh, tips_1000_uL, tips_300_uL, plate_0, plate_1, plate_2 = await setup_liquid_transfer_deck()\n",
    "set_starting_liquids()\n",
    "\n",
    "# aspirate 200 uL of dye from well A1 on plate 0\n",
    "await lh.pick_up_tips(tips_300_uL[\"A1\"])\n",
    "time.sleep(1)\n",
    "await lh.aspirate(plate_0[\"A1\"], vols=[200])\n",
    "time.sleep(1)\n",
    "await lh.dispense(plate_1[\"A1\"], vols=[200])\n",
    "time.sleep(1)\n",
    "\n",
    "# instead of discarding, let's return the tips to re-use\n",
    "await lh.return_tips()\n",
    "\n",
    "# now let's use the same tip and aspirate 200 uL of octanol from well B1 on plate 0\n",
    "await lh.pick_up_tips(tips_300_uL[\"A1\"])\n",
    "time.sleep(1)\n",
    "await lh.aspirate(plate_0[\"A2\"], vols=[200])\n",
    "time.sleep(1)\n",
    "await lh.dispense(plate_1[\"A2\"], vols=[200])\n",
    "time.sleep(1)"
   ]
  },
  {
   "cell_type": "markdown",
   "id": "092944c9",
   "metadata": {},
   "source": [
    "You should have gotten an error showing that you **are trying to aspirate Octanol with a tip contaminated with **Red Dye**\n",
    "\n",
    "```txt\n",
    "CrossContaminationError: Attempting to aspirate Liquid.OCTANOL with a tip contaminated with {'Red Dye'}.\n",
    "```\n",
    "\n",
    "If needed, you can also disable the cross contamination check with the `no_cross_contamination_tracking` context manager. Let's show the same exact code. This time, no error will be thrown because we have overriden the cross contamination tracking."
   ]
  },
  {
   "cell_type": "code",
   "execution_count": null,
   "id": "9983f053",
   "metadata": {},
   "outputs": [],
   "source": [
    "from pylabrobot.resources import (\n",
    "    no_cross_contamination_tracking\n",
    ")\n",
    "\n",
    "# fully reset deck\n",
    "deck, lh, tips_1000_uL, tips_300_uL, plate_0, plate_1, plate_2 = await setup_liquid_transfer_deck()\n",
    "set_starting_liquids()\n",
    "\n",
    "# aspirate 100 uL of dye from well A1 on plate 0\n",
    "await lh.pick_up_tips(tips_300_uL[\"A1\"])\n",
    "time.sleep(1)\n",
    "await lh.aspirate(plate_0[\"A1\"], vols=[100])\n",
    "time.sleep(1)\n",
    "await lh.dispense(plate_1[\"A1\"], vols=[100])\n",
    "time.sleep(1)\n",
    "await lh.return_tips()\n",
    "\n",
    "# by using the context manager, we can override the cross contamination tracking, but this should be\n",
    "# used VERY CAREFULLY.\n",
    "with no_cross_contamination_tracking():\n",
    "    await lh.pick_up_tips(tips_300_uL[\"A1\"])\n",
    "    time.sleep(1)\n",
    "    await lh.aspirate(plate_0[\"A2\"], vols=[100])\n",
    "    time.sleep(1)\n",
    "    await lh.dispense(plate_1[\"A1\"], vols=[100])\n"
   ]
  },
  {
   "cell_type": "markdown",
   "id": "5cdff095",
   "metadata": {},
   "source": [
    "The basic way cross contamination check works is as follows:\n",
    "\n",
    "Assume we have a set of liquids that have been present in a given tip, denoted as $\\{T_i\\}$\n",
    "\n",
    "Assume we also have a set of liquids that have been present in a given well, denoted as $\\{W_i\\}$\n",
    "\n",
    "The cross contamination check is simply checking if the **tip history** is a **subset** of the **well history**. If it is not, then cross contamination will occur.\n",
    "\n",
    "This is defined as $\\text{CC} = \\{T_i\\} \\not\\subset \\{W_i\\}$"
   ]
  },
  {
   "cell_type": "markdown",
   "id": "dfe83264",
   "metadata": {},
   "source": [
    "### Exercises\n",
    "\n",
    "---\n",
    "\n",
    "**TO-DO:** For each of the following exercises, set up the deck within the `deck_exercise_N()` block of code and set up the liquid handling protocol within the `run_protocol_exercise_N()` block of code.\n",
    "\n",
    "Some exercises below will ask you to define your own **functions**. We will provide the **function name** and **input argument names** for you, but in gneeral, the body of the functions is up to you.\n",
    "\n",
    "You should include `time.sleep(x)` calls between every pipetting step so you have time to visualize the protocol as it runs. At a minimum, `x = 0.1` for 0.1 s delay. Experiment with this value for one that works for you.\n",
    "\n",
    "Once you get your protocol working as intended for each problem, you will need to **record a GIF** of your protocol running for each exercise.\n",
    "\n",
    "In the Workshop 2 Canvas assignment, submit for each exercise the following:\n",
    "\n",
    "1. `deck_layout_exercise_N.gif` - a GIF recording of your protocol in action\n",
    "\n",
    "2. `exercise_N.txt` text file containing the code that runs the protocol\n",
    "\n",
    "\n",
    "**IMPORTANT** - You should be judiciously commenting your code to explain its function. We will grade every problem by **quality of code**. Excessively long code or lack of comments will be subject to **point deduction**\n",
    "\n",
    "---\n",
    "\n",
    "**Some Helpful Tips**\n",
    "\n",
    "- Use consistent naming for deck items in your deck setup functions. You should **retrieve relevant items** using `get_item` in the **protocol functions**.\n",
    "\n",
    "- Almost everything you will be asked to do has been covered in code above.\n",
    "\n",
    "- When writing your functions, set up a test deck by creating a new code cell and running the function on a simple test case before trying to run the entire protocol.\n",
    "\n",
    "- Include a `time.sleep()` call between every pipette step to help visualize the operations.\n",
    "\n",
    "- Include a longer `time.sleep()` call between the setup deck function and protocol function. Switch to the visualizer in this time and start recording your GIF to visualize the protocol.\n",
    "\n",
    "\n",
    "As always, if you find yourself needing assistance, reach out on the \\#Ed-Discuss channel on slack.\n",
    "\n",
    "---"
   ]
  },
  {
   "cell_type": "markdown",
   "id": "a911eee9",
   "metadata": {},
   "source": [
    "1. Basic Liquid Handling (**20 pts**)\n",
    "\n",
    "    - Set up a Hamilton STAR Deck with\n",
    "\n",
    "        - 1x 12x15 mL Reservoir\n",
    "\n",
    "        - 1x 96-well 2 mL deep plate\n",
    "\n",
    "        - 1x box 300 uL tips\n",
    "        \n",
    "        - 1x box 1000 uL tips\n",
    "\n",
    "    - Add 2 mL each of 4 dyes called \"Dye_N\" to the 12 x 15 mL reservoir:\n",
    "\n",
    "        - 2 mL of Dye 1 to well A1\n",
    "\n",
    "        - 2 mL of Dye 2 to well A2\n",
    "        \n",
    "        - 2 mL of Dye 3 to well A3\n",
    "\n",
    "        - 2 mL of Dye 4 to well A4\n",
    "\n",
    "    - Write a liquid handling protocol that executes the steps below in order:\n",
    "\n",
    "        - Add 100 uL of Dye_1 to well A1.\n",
    "\n",
    "        - Add 200 uL of Dye_2 to well B7.\n",
    "\n",
    "        - Add 50 uL of Dye_1 and 50 uL of Dye_3 to well C9.\n",
    "\n",
    "        - Add 25 uL of Dye 1, 25 uL of Dye 2, 25 uL of Dye 3, and 25 uL of Dye 4 to well D12.\n",
    "\n",
    "        - Add 50 uL of Dye 1 and 50 uL of the solution in D12 to well A3.\n",
    "\n",
    "        - Add 1800 uL of Dye 1 to well F12. (**hint**: add all remaining volume from your reservoir + somewhere else on the plate)"
   ]
  },
  {
   "cell_type": "code",
   "execution_count": null,
   "id": "c8667047",
   "metadata": {},
   "outputs": [],
   "source": [
    "from pylabrobot.resources import (\n",
    "    # YOUR CODE HERE\n",
    ")\n",
    "\n",
    "async def deck_exercise_1():\n",
    "    deck = ... # YOUR CODE HERE\n",
    "    return deck\n",
    "\n",
    "async def run_protocol_exercise_1(deck, lh):\n",
    "    ... # YOUR CODE HERE\n",
    "\n",
    "deck = await deck_exercise_1()\n",
    "lh = await visualize_deck(deck, LiquidHandlerChatterboxBackend())\n",
    "\n",
    "# delay 3 seconds to give time to switch to visualizer\n",
    "time.sleep(3)\n",
    "\n",
    "await run_protocol_exercise_1(deck, lh)"
   ]
  },
  {
   "cell_type": "markdown",
   "id": "16ec39e0",
   "metadata": {},
   "source": [
    "2. Mixing Colors (**40 pts**)\n",
    "\n",
    "    - We will be making a color rainbow on a 96-well plate\n",
    "\n",
    "    - Remember a rainbow is considered as R-O-Y-G-B-V in our case:\n",
    "\n",
    "        - R - Red\n",
    "\n",
    "        - O - Orange = (equal parts Red + Yellow)\n",
    "\n",
    "        - Y - Yellow\n",
    "\n",
    "        - G - Green = (equal parts Yellow + Blue)\n",
    "\n",
    "        - B - Blue\n",
    "\n",
    "        - V - Violet = (equal parts Blue + Red)\n",
    "\n",
    "    - Set up a Hamilton STAR Deck with\n",
    "\n",
    "        - 1x 12x15 mL Reservoir\n",
    "\n",
    "        - 1x 96-well 360 uL plate\n",
    "\n",
    "        - 1x box 300 uL tips\n",
    "\n",
    "    - Add 10 mL of dyes to the reservoir:\n",
    "\n",
    "        - 10 mL of \"Red Dye\" to well A1\n",
    "\n",
    "        - 10 mL of \"Yellow Dye\" to well A2\n",
    "\n",
    "        - 10 mL of \"Blue Dye\" to well A3\n",
    "\n",
    "    - Write a liquid handling protocol that:\n",
    "\n",
    "        - Pipettes 300 uL of each color dye to the column it should go in the rainbow using **one channel**\n",
    "\n",
    "            - Red -> Column 1\n",
    "\n",
    "            - Yellow -> Column 3\n",
    "\n",
    "            - Blue -> Column 5\n",
    "\n",
    "        - Uses a function `pipette_col_exercise_2` to pipette 100 uL of color A from column X and 100 uL of color B from column Y into column Z using **all 8 channels**\n",
    "\n",
    "            - Orange -> Column 2\n",
    "\n",
    "            - Green -> Column 4\n",
    "\n",
    "            - Purple -> Column 6\n",
    "\n",
    "        - Uses a function `mix_col_exercise_2` to mix the colors together in each column by aspirating up and down\n",
    "\n",
    "---\n",
    "\n",
    "**Function Hints**\n",
    "\n",
    "- `pipette_col_exercise_2`\n",
    "    - You should first **aspirate** using **8 channels** from **column a** on the **plate**\n",
    "\n",
    "    - You should then **dispense** into **column c** and **discard tips**\n",
    "\n",
    "    - You should then **aspirate** using **8 channels** from **column b** on the **plate**\n",
    "\n",
    "    - You should then **dispense** into **column c** and **mix** the contents and then **discard tips**\n",
    "\n",
    "        - This will involve invoking the `mix_col_exercise_2` function\n",
    "\n",
    "    - The `index` should be an **integer** representing the column to aspirate from (1 = first column)\n",
    "\n",
    "    - The `vols` argument should be a **list of floats** that contain the volumns you are pipetting from each row (this should be constant)\n",
    "\n",
    "- `mix_col_exercise_2`\n",
    "\n",
    "    - Assume you have tips already on the liquid handler head.\n",
    "\n",
    "    - You should then **aspirate** using **8 channels** from **wells** on the **plate**\n",
    "\n",
    "    - You should then implement a **0.5s delay**\n",
    "\n",
    "    - You should then **dispense** using **8 channels** into **wells** on the **plate**\n",
    "\n",
    "    - You should repeat this mixing `n_mixes` number of times\n",
    "\n",
    "    - You should **discard tips** outside of this function (i.e. in `pipette_col_exercise_2`)\n",
    "\n",
    "---"
   ]
  },
  {
   "cell_type": "code",
   "execution_count": null,
   "id": "ea97655e",
   "metadata": {},
   "outputs": [],
   "source": [
    "from pylabrobot.resources import (\n",
    "    # YOUR CODE HERE\n",
    ")\n",
    "\n",
    "async def deck_exercise_2():\n",
    "    deck = ... # YOUR CODE HERE\n",
    "    return deck\n",
    "\n",
    "async def mix_col_exercise_2(\n",
    "        lh, # the liquid handler pointer\n",
    "        plate, # plate to mix on\n",
    "        wells, # wells on the plate to mix in\n",
    "        n_mixes, # number of mixes\n",
    "        vols # volume to mix. should be ~0.8x the total volume in the plate wells\n",
    "):\n",
    "    ... # YOUR CODE HERE\n",
    "\n",
    "async def pipette_col_exercise_2(\n",
    "        lh, # the liquid handler pointer\n",
    "        plate, # the plate to pipette on\n",
    "        tip_rack, # the tip rack to use\n",
    "        tip_rack_indexes, # the tip spots to use\n",
    "        col_a_index, # character \"A\", \"B\", etc. representing the column to pipette first dye from\n",
    "        col_b_index, # character \"A\", \"B\", etc. representing the column to pipette second dye from\n",
    "        mix_col_index, # character \"A\", \"B\", etc. representing the column to mix dyes in to make new color\n",
    "        vols # volume to pipette\n",
    "):\n",
    "    assert len(tip_rack_indexes) == 2, f\"tip_rack indexes must only be two columns in total. Got {tip_rack_indexes}\"\n",
    "    ... # YOUR CODE HERE\n",
    "\n",
    "\n",
    "    # example of calling the mix call script\n",
    "    # await mix_col_exercise_2(lh = lh,\n",
    "    #                          plate = plate,\n",
    "    #                          wells = col_mix_indexes,\n",
    "    #                          n_mixes = 5,\n",
    "    #                          vols = vols)\n",
    "    # await lh.discard_tips()\n",
    "\n",
    "async def run_protocol_exercise_2(deck, lh):\n",
    "\n",
    "\n",
    "    ... # YOUR CODE HERE\n",
    "    # example of calling the pipette col script\n",
    "    # for ... in ...\n",
    "    #     await pipette_col_exercise_2(\n",
    "    #         lh = lh,\n",
    "    #         plate = ...,\n",
    "    #         tip_rack = ...,\n",
    "    #         tip_rack_indexes = ...,\n",
    "    #         col_a_index = ...,\n",
    "    #         col_b_index = ...,\n",
    "    #         mix_col_index = ...,\n",
    "    #         vols = [100] * 8\n",
    "    #     )\n",
    "\n",
    "deck = await deck_exercise_2()\n",
    "lh = await visualize_deck(deck, LiquidHandlerChatterboxBackend())\n",
    "\n",
    "# delay 3 seconds to give time to switch to visualizer\n",
    "time.sleep(3)\n",
    "\n",
    "await run_protocol_exercise_2(deck, lh)"
   ]
  },
  {
   "cell_type": "markdown",
   "id": "1f4aceb8",
   "metadata": {},
   "source": [
    "\n",
    "3. Serial Dilutions (**40 pts**)\n",
    "\n",
    "    - Remember the deck you setup from **workshop 1?** You will be setting up a similar deck this time but actually doing the serial dilutions.\n",
    "\n",
    "    - You will start with stock solutions of 100 mL each of 1M red, blue, and yellow dye.\n",
    "\n",
    "    - You will be doing 12 serial dilutions (11 total dilutions + 1 stock concentration = 12 total concentrations) of each color, in triplicate.\n",
    "\n",
    "        - These dilutions will be 1:7, meaning you should:\n",
    "\n",
    "            - Pipette **420 uL** of stock solution (1 M) into each of 3 starting wells on a plate you choose\n",
    "\n",
    "                - Use 3x1000 uL tips for this (triplicate)\n",
    "\n",
    "            - Pipette **60 uL** of the previous concentration (in this case, 1M \"starting wells\") to the next set of 3 wells.\n",
    "\n",
    "                - Use 3x300 uL tips for this (triplicate)\n",
    "\n",
    "            - Pipette **420 uL uL** of **diluent** (water) into the wells with **50 uL** and **mix**\n",
    "\n",
    "                - Use 3x1000 uL tips for this (triplicate)\n",
    "\n",
    "            - Repeat the latter two steps for each concentration until you get 12 different concentrations in total.\n",
    "\n",
    "        - Becuase you are doing serial dilutions in triplicate, you should use **3 channels** on the pipette head during operation.\n",
    "\n",
    "        - You should have your **red dye** dilutions in the top 3 A, B, C rows of the **first plate**\n",
    "\n",
    "        - You should have your **blue dye** dilutions in the  E, F, G rows of the **first plate**\n",
    "\n",
    "        - You should have your **yellow dye** dilutions in the top 3 rows A, B, C of the **first plate**\n",
    "\n",
    "        - You should complete all **helper functions** as outlined below, for pipetting\n",
    "\n",
    "        - You should also use a **linear tip generator** to iterate over available tips on your deck. Create these in the relevant **function**\n",
    "\n",
    "        - You should implement the logic to **print** the concentration of each well and also add it as a **comment** in the code below.\n",
    "\n",
    "        - You should calculate and add **1.2x** the diluent you need for the entire experiment and add to the initial diluent reservoir.\n",
    "\n",
    "\n",
    "    - Set up an OpenTrons (OT2) Deck with\n",
    "\n",
    "        - 4x mL Reservoir with capacity for 100 mL\n",
    "\n",
    "        - 2x 96-deep-well plates\n",
    "\n",
    "        - 2x box 1000 uL tips\n",
    "\n",
    "        - 2x box 300 uL tips\n",
    "\n",
    "        - They should be arranged from most -> least sterile\n",
    "\n",
    "    - Add 100 mL of dyes to the reservoir:\n",
    "\n",
    "        - 100 mL of \"Red Dye\" to reservoir 1\n",
    "\n",
    "        - 100 mL of \"Yellow Dye\" to reservoir 2\n",
    "\n",
    "        - 100 mL of \"Blue Dye\" to reservoir 3\n",
    "\n",
    "    - Calculate how much **diluent you need** and add **1.2x** that amount. We will check the correctness of this value. Add this as a comment ot your code\n",
    "\n",
    "    - Write a liquid handling protocol that achieves the serial dilution by:\n",
    "\n",
    "        - Pipetting **480 uL** of each dye to the corresponding first 3 rows for each serial dilution.\n",
    "\n",
    "            - You should call `initial_col_pipette_exercise_3` for each dye and target plate\n",
    "\n",
    "        - Create a iterator using the `F.linear_tip_spot_generator`to iterate over the available tips in batches of 3.\n",
    "\n",
    "            - Implement this in the `prepare_generators_exercise_3` function and call in the main protocol\n",
    "\n",
    "            - Remember you will need **separate tips** for pipetting from the prior concentration and pipetting from the diluent. This menans you may need **at least two separate generators (up to four depending on how you approach it)**.\n",
    "\n",
    "        - Using the `pipette_triplicate_dilutions_exercise_3` function to input the corresponding row identifiers and perform a serial dilution in triplicate.\n",
    "\n",
    "            - This should call the  `mix_col_exercise_3` function within it to mix.\n",
    "\n",
    "    - In a **comment** in youc code, list the final concentrations of each of the serial diliutions\n",
    "\n",
    "        - The formula $C_1 V_1 = C_2 V_2$ may be helpful for calculating this\n",
    "\n",
    "        - This should be computed in the `pipette_triplicate_dilutions_exercise_3` function.\n",
    "\n",
    "---\n",
    "\n",
    "**Function Hints**\n",
    "\n",
    "- `pipette_triplicate_dilutions_exercise_3`\n",
    "\n",
    "    - Should be called **once per color**\n",
    "\n",
    "    - Should iterate over a **for loop** for number of dilutions\n",
    "\n",
    "    - Should pipette **column-wise** in **triplicate**\n",
    "\n",
    "    - At each **dilution**\n",
    "\n",
    "        - Get the **tip spots next in the generator for both tip types**\n",
    "\n",
    "            - These are **asynchronous generators**, so to get N items from a generator named `gen`, this code may be useful:\n",
    "\n",
    "                ```python\n",
    "                    items_selected = [await anext(gen) for _ in range(N)]\n",
    "                ```\n",
    "\n",
    "        - Pick up appropriate tips, aspirate from the prior column to the new column the **transfer_vol**\n",
    "\n",
    "        - Discard tips\n",
    "\n",
    "        - Pick up appropriate tips, aspirate **dilution volume*** from the diluent reservoir, and dispense to the same column.\n",
    "\n",
    "        - Call the `mix_col_exercise_3` function to mix the dilution.\n",
    "\n",
    "        - Discard tips\n",
    "\n",
    "        - Using the **starting_conc**, calculate the **new concentration** using the volume variables and append to the `conc_report` to print the concentrations in **each well**\n",
    "\n",
    "- `initial_col_pipette_exercise_3`\n",
    "\n",
    "    - Should be called **once per dye**\n",
    "\n",
    "    - Should pick up tips **from the bottom right side of the tip box to not disrupt the generators**\n",
    "\n",
    "    - Should pipette the **starting volume of dye** from the **relevant dye container** and dispense in the relevant **first column** of the **relevant plate**\n",
    "\n",
    "    - Should discard tips afterwards. \n",
    "\n",
    "    - May use either **1 tip** or **3 tips** with **1 channel** or **3 channels** (both are acceptable)\n",
    "\n",
    "- `prepare_generators_exercise_3`\n",
    "\n",
    "    - Should input a **list of tip racks** for both the **1000 uL tip racks** and **300 uL tip racks**\n",
    "\n",
    "    - Should get **all tip spots** twice (once for 1000 uL and once for 300 uL)\n",
    "\n",
    "    - Should create a **linear generator** for **each tip size** by taking the **tip spots**\n",
    "\n",
    "    - Should return the **generator objects**\n",
    "\n",
    "- `mix_col_exercise_3`\n",
    "\n",
    "    - Should be identical to **exercise 2** except this time mix for **3 times** and **0.75 seconds each**\n",
    "\n",
    "---"
   ]
  },
  {
   "cell_type": "code",
   "execution_count": null,
   "id": "363c3adc",
   "metadata": {},
   "outputs": [],
   "source": [
    "from pylabrobot.resources.opentrons import ... # need to import new OpenTrons Deck Layout\n",
    "from pylabrobot.resources import (\n",
    "    ... # YOUR CODE HERE\n",
    ")\n",
    "\n",
    "async def deck_exercise_3():\n",
    "    deck = ... # YOUR CODE HERE\n",
    "    return deck\n",
    "\n",
    "async def pipette_triplicate_dilutions_exercise_3(\n",
    "        lh,\n",
    "        plate,\n",
    "        diluent_reservoir,\n",
    "        row_start_idx,\n",
    "        row_end_idx,\n",
    "        transfer_vol,\n",
    "        dilution_vol,\n",
    "        tip_generator_300,\n",
    "        tip_generator_1000,\n",
    "        num_dilutions,\n",
    "        starting_conc = 1.0\n",
    "):\n",
    "\n",
    "    # list to append concentration reports\n",
    "    conc_report = []\n",
    "\n",
    "    # for each dilution\n",
    "    for i in range(num_dilutions):\n",
    "    \n",
    "        # example code to get tip spots\n",
    "        tips_300_spots = [await anext(...) ...] # YOUR CODE HERE\n",
    "        tips_1000_spots = [await anext(...) ...]\n",
    "\n",
    "        ... # YOUR CODE HERE\n",
    "        # example of calling mix script\n",
    "        # await mix_col_exercise_2(...)\n",
    "        # await lh.discard_tips()\n",
    "\n",
    "        # concentration calculation code\n",
    "        new_conc = ... # YOUR CODE HERE\n",
    "        start_text = f\"Dilution {i + 1}: Start Conc: {starting_conc} M\"\n",
    "        end_text = f\"End Conc: {new_conc} M\"\n",
    "        conc_report.append(f\"{start_text:<55}{end_text}\")\n",
    "        starting_conc = new_conc\n",
    "    return conc_report\n",
    "\n",
    "async def initial_col_pipette_exercise_3(\n",
    "                            reservoir,\n",
    "                            target_plate_wells,\n",
    "                            volume,\n",
    "                            tip_spots):\n",
    "    ... # YOUR CODE HERE\n",
    "\n",
    "def prepare_generators_exercise_3(\n",
    "        tip_racks_300,\n",
    "        tip_racks_1000\n",
    "):\n",
    "    ... # YOUR CODE HERE\n",
    "    linear_generator_300 = ... # YOUR CODE HERE\n",
    "    linear_generator_1000 = ... # YOUR CODE HERE\n",
    "    return linear_generator_300, linear_generator_1000\n",
    "\n",
    "async def mix_col_exercise_3(\n",
    "        lh,\n",
    "        plate,\n",
    "        wells,\n",
    "        n_mixes,\n",
    "        vols\n",
    "):\n",
    "    ... # YOUR CODE HERE\n",
    "\n",
    "async def run_protocol_exercise_3(deck, lh):\n",
    "\n",
    "    \n",
    "    ... # YOUR CODE HERE\n",
    "\n",
    "    await initial_col_pipette_exercise_3(\n",
    "        reservoir = red_reservoir,\n",
    "        ... # YOUR CODE HERE\n",
    "    )\n",
    "    await initial_col_pipette_exercise_3(\n",
    "        reservoir = blue_reservoir,\n",
    "        ... # YOUR CODE HERE\n",
    "    )\n",
    "    await initial_col_pipette_exercise_3(\n",
    "        reservoir = yellow_reservoir,\n",
    "        ... # YOUR CODE HERE\n",
    "    )\n",
    "    linear_generator_300, linear_generator_1000 = prepare_generators_exercise_3(\n",
    "        ... # YOUR CODE HERE\n",
    "    )\n",
    "\n",
    "    conc_report = await pipette_triplicate_dilutions_exercise_3(\n",
    "        ... # YOUR CODE HERE\n",
    "    )\n",
    "    for s in conc_report:\n",
    "        print(s)\n",
    "        # copy output of this to the comment below\n",
    "\n",
    "deck = await deck_exercise_3()\n",
    "lh = await visualize_deck(deck, LiquidHandlerChatterboxBackend())\n",
    "\n",
    "# delay 3 seconds to give time to switch to visualizer\n",
    "time.sleep(3)\n",
    "await run_protocol_exercise_3(deck, lh)\n",
    "\n",
    "# --- Concentration Informations ---\n",
    "# copy output here below and add comment prefix \"#\" to each line"
   ]
  },
  {
   "cell_type": "markdown",
   "id": "3c757b14",
   "metadata": {},
   "source": [
    "---\n",
    "\n",
    "#### Conclusion\n",
    "\n",
    "That's all for workshop 2! Double check that you have submitted a `.gif` file and `.txt` file for each exercise **1-3** (6 files total)\n",
    "\n",
    "If you are still feeling unsure on deck setup, please **reach out to the teaching team**, contact info for whom can be found in the .`README.md` file on the [class GitHub](https://github.com/chory-lab/bme590-fall-2025)\n",
    "\n",
    "---"
   ]
  }
 ],
 "metadata": {
  "kernelspec": {
   "display_name": "lab-automation",
   "language": "python",
   "name": "python3"
  },
  "language_info": {
   "codemirror_mode": {
    "name": "ipython",
    "version": 3
   },
   "file_extension": ".py",
   "mimetype": "text/x-python",
   "name": "python",
   "nbconvert_exporter": "python",
   "pygments_lexer": "ipython3",
   "version": "3.11.13"
  }
 },
 "nbformat": 4,
 "nbformat_minor": 5
}
