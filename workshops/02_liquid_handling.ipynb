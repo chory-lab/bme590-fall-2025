{
 "cells": [
  {
   "cell_type": "markdown",
   "id": "ff012ab2",
   "metadata": {},
   "source": [
    "# BME 590 - Workshop 2 - Liquid Handling\n",
    "**Professor:** Emma Chory, Ph.D.\n",
    "\n",
    "**Authors:** \n",
    "Rick Wierenga, Joe Laforet, Stefan Golas, Ben Perry\n",
    "\n",
    "---"
   ]
  },
  {
   "cell_type": "markdown",
   "id": "1389bdaf",
   "metadata": {},
   "source": [
    "## Liquid Handling Basics\n",
    "Now that you have gotten an introduction to setting up a deck in PyLabRobot, this second lesson is going to cover everything liquids! From setting their inintial levels to moving them around to managing tips and cross-contamination!\n",
    "\n",
    "\n",
    "### Adding Liquids to Lab Objects\n",
    "Usually when you start an automated protocol, you will have reservoirs of liquid somewhere on the deck. In fancier setups, this liquid can be moved to the deck from a pump system or a robotic arm carrying a reservoir from temperature control. For these exercises we will assume the liquid was placed manually by the user (such as manual preparation of reagents or usage of a kit, as is common in many experiments)\n",
    "\n",
    "Therefore, to begin, we will need to **set the state** of liquids in a starting set of wells or a reservoir.\n",
    "\n",
    "To start, let's go ahead and set up a basic HamiltonSTAR deck with:\n",
    "\n",
    "- 1 reservoir\n",
    "- 1 12 tube rack\n",
    "- 2 96 well plates\n",
    "- 1 384 well plate\n",
    "- 1 1000 uL tip rack\n",
    "- 1 300 uL tip rack\n",
    "- 1 10 uL tip rack\n",
    "\n",
    "We will start with a function that will set up this deck for us. Run the code below and you should get a deck that looks like this!\n",
    "\n",
    "<div>\n",
    "<img src=\"../figs/liquid_deck.png\" width=\"850\"/>\n",
    "</div>"
   ]
  },
  {
   "cell_type": "code",
   "execution_count": 100,
   "id": "e4936dab",
   "metadata": {},
   "outputs": [
    {
     "name": "stdout",
     "output_type": "stream",
     "text": [
      "Setting up the liquid handler.\n",
      "Resource deck was assigned to the liquid handler.\n",
      "Resource trash was assigned to the liquid handler.\n",
      "Resource trash_core96 was assigned to the liquid handler.\n",
      "Resource waste_block was assigned to the liquid handler.\n",
      "Resource awesome plate carrier was assigned to the liquid handler.\n",
      "Resource awesome tip carrier 96x5 was assigned to the liquid handler.\n",
      "Websocket server started at http://127.0.0.1:2140\n",
      "File server started at http://127.0.0.1:1356 . Open this URL in your browser.\n"
     ]
    }
   ],
   "source": [
    "from pylabrobot.resources import Deck\n",
    "from pylabrobot.liquid_handling.backends.backend import LiquidHandlerBackend\n",
    "from pylabrobot.liquid_handling import LiquidHandler\n",
    "from pylabrobot.liquid_handling.backends import LiquidHandlerChatterboxBackend\n",
    "from pylabrobot.resources.hamilton import STARDeck\n",
    "from pylabrobot.visualizer.visualizer import Visualizer\n",
    "\n",
    "from pylabrobot.resources import (\n",
    "    set_tip_tracking,\n",
    "    set_volume_tracking,\n",
    "    TIP_CAR_480_A00,\n",
    "    PLT_CAR_L5AC_A00,\n",
    "    corning_96_wellplate_360ul_flat,\n",
    "    corning_384_wellplate_112ul_flat,\n",
    "    nest_1_reservoir_195ml,\n",
    "    corning_12_wellplate_6point9ml_flat,\n",
    "    HTF,\n",
    "    LTF,\n",
    "    STF\n",
    ")\n",
    "set_volume_tracking(enabled=True)\n",
    "set_tip_tracking(enabled=True)\n",
    "\n",
    "async def visualize_deck(deck: Deck,\n",
    "                         backend: LiquidHandlerBackend):\n",
    "    try:\n",
    "        lh = LiquidHandler(backend=backend, deck=deck)\n",
    "        vis = Visualizer(resource = lh)\n",
    "        await lh.setup()\n",
    "        await vis.setup()\n",
    "        return lh\n",
    "    except Exception as e:\n",
    "        print(f\"Error! Got excpetion: {e}\")\n",
    "\n",
    "async def make_liquid_handling_deck():\n",
    "    deck = STARDeck()\n",
    "    tip_carrier = TIP_CAR_480_A00(name=\"awesome tip carrier 96x5\")\n",
    "    plate_carrier = PLT_CAR_L5AC_A00(name = \"awesome plate carrier\")\n",
    "    tip_rack_names = [\n",
    "        \"1000_tips_0\",\n",
    "        \"1000_tips_1\",\n",
    "        \"300_tips_0\",\n",
    "        \"300_tips_1\",\n",
    "        \"10_tips_0\"\n",
    "    ]\n",
    "    tip_rack_instantiators = [\n",
    "        HTF,\n",
    "        HTF,\n",
    "        STF,\n",
    "        STF,\n",
    "        LTF\n",
    "    ]\n",
    "    plate_names = [\n",
    "        \"reservoir_0\",\n",
    "        \"12_plate_0\",\n",
    "        \"96_plate_0\",\n",
    "        \"96_plate_1\",\n",
    "        \"384_plate_0\"\n",
    "    ]\n",
    "    plate_instantiators = [\n",
    "        nest_1_reservoir_195ml,\n",
    "        corning_12_wellplate_6point9ml_flat,\n",
    "        corning_96_wellplate_360ul_flat,\n",
    "        corning_96_wellplate_360ul_flat,\n",
    "        corning_384_wellplate_112ul_flat\n",
    "    ]\n",
    "    for i, (name, tip_rack) in enumerate(zip(tip_rack_names, tip_rack_instantiators)):\n",
    "        tip_carrier[i] = tip_rack(name = name)\n",
    "    for i, (name, plate) in enumerate(zip(plate_names, plate_instantiators)):\n",
    "        plate_carrier[i] = plate(name = name)\n",
    "\n",
    "    deck.assign_child_resource(plate_carrier, rails = 5)\n",
    "    deck.assign_child_resource(tip_carrier, rails = 11)\n",
    "    return deck\n",
    "\n",
    "deck = await make_liquid_handling_deck()\n",
    "lh = await visualize_deck(deck, LiquidHandlerChatterboxBackend())"
   ]
  },
  {
   "cell_type": "markdown",
   "id": "66b19ac2",
   "metadata": {},
   "source": [
    "Let's print a summary of our deck so far."
   ]
  },
  {
   "cell_type": "code",
   "execution_count": 2,
   "id": "69de1cb8",
   "metadata": {},
   "outputs": [
    {
     "name": "stdout",
     "output_type": "stream",
     "text": [
      "Rail  Resource                         Type           Coordinates (mm)\n",
      "====================================================================================\n",
      "(-6)  ├── trash_core96                 Trash          (-58.200, 106.000, 229.000)\n",
      "      │\n",
      "(5)   ├── awesome plate carrier        PlateCarrier   (190.000, 063.000, 100.000)\n",
      "      │   ├── reservoir_0              Plate          (194.000, 071.500, 181.600)\n",
      "      │   ├── 12_plate_0               Plate          (194.000, 167.500, 183.660)\n",
      "      │   ├── 96_plate_0               Plate          (194.000, 263.500, 182.600)\n",
      "      │   ├── 96_plate_1               Plate          (194.000, 359.500, 182.600)\n",
      "      │   ├── 384_plate_0              Plate          (194.000, 455.500, 183.360)\n",
      "      │\n",
      "(11)  ├── awesome tip carrier 96x5     TipCarrier     (325.000, 063.000, 100.000)\n",
      "      │   ├── 1000_tips_0              TipRack        (331.200, 073.000, 214.950)\n",
      "      │   ├── 1000_tips_1300_tips_0    TipRack        (331.200, 169.000, 214.950)\n",
      "      │   ├── 300_tips_1               TipRack        (331.200, 265.000, 214.950)\n",
      "      │   ├── 10_tips_0                TipRack        (331.200, 361.000, 214.950)\n",
      "      │   ├── <empty>\n",
      "      │\n",
      "(55)  ├── waste_block                  Resource       (1315.000, 115.000, 100.000)\n",
      "      │   ├── teaching_tip_rack        TipRack        (1320.900, 461.100, 100.000)\n",
      "      │\n",
      "(56)  ├── trash                        Trash          (1340.000, 190.600, 137.100)\n",
      "\n"
     ]
    }
   ],
   "source": [
    "print(lh.deck.summary())"
   ]
  },
  {
   "cell_type": "markdown",
   "id": "f411fc1e",
   "metadata": {},
   "source": [
    "#### Setting Liquid Volumes\n",
    "In order to manually set liquid volumes, there are a couple of methods we can use. Since we are going to be adding liquids to the plates/reservoirs, let's go ahead and get the 12-well and 96-well plate using `get_resource` with their names."
   ]
  },
  {
   "cell_type": "code",
   "execution_count": 3,
   "id": "0a9fb28e",
   "metadata": {},
   "outputs": [],
   "source": [
    "plate_96 = lh.deck.get_resource(\"96_plate_0\")\n",
    "plate_12 = lh.deck.get_resource(\"12_plate_0\")"
   ]
  },
  {
   "cell_type": "markdown",
   "id": "4d3f8a9f",
   "metadata": {},
   "source": [
    "The easiest way we can fill a specific level of liquid in a specific well is to access it by index.\n",
    "\n",
    "Remember that a plate has wells as it's children, and we can access these by identifier using the `get_well` method. This method expects an identifier, which can be either an index (0 - 95) representing the well index, or it can be the actual letter-integer coordinate of the well (e.g. A1, B2, etc.)\n",
    "\n",
    "We show both indexing methods below"
   ]
  },
  {
   "cell_type": "code",
   "execution_count": 10,
   "id": "1025bfb2",
   "metadata": {},
   "outputs": [
    {
     "name": "stdout",
     "output_type": "stream",
     "text": [
      "True\n"
     ]
    }
   ],
   "source": [
    "well_1 = plate_96.get_well(0)\n",
    "well_2 = plate_96.get_well(\"A1\")\n",
    "well_3 = plate_96.get_item(\"A1\")\n",
    "well_4 = plate_96.get_item(0)\n",
    "\n",
    "print(well_1 == well_2 == well_3 == well_4) # this should evaluate to True, meaning these are all equivalent methods."
   ]
  },
  {
   "cell_type": "markdown",
   "id": "aa7f9780",
   "metadata": {},
   "source": [
    "To fill this well with liquid, we need to access its `tracker` attribute and specifically use the `set_liquids` method. This method expects a **tuple**, where the first index is the name or class of liquid and the second index is the volume, in uL, for example:\n",
    "- **(None, 180)** - Unknown liquid - 180 uL volume\n",
    "- **(\"Red Dye\", 2000)** - Custom liquid named \"Red Dye\" - 2000 uL volume\n",
    "- **(Liquid.OCTANOL, 360)** - Official PLR Liquid class for Octanol - 360 uL volume.\n",
    "\n",
    "Let's go ahead and demonstrate some of these below"
   ]
  },
  {
   "cell_type": "code",
   "execution_count": 7,
   "id": "1df2a0f2",
   "metadata": {},
   "outputs": [],
   "source": [
    "from pylabrobot.resources import Liquid # import for liquid class\n",
    "\n",
    "# get wells of interest\n",
    "unknown_liquid = (None, 180)\n",
    "red_dye = (\"Red Dye\", 2000)\n",
    "octanol = (Liquid.OCTANOL, 360)\n",
    "\n",
    "plate_96.get_well(\"A1\").tracker.set_liquids([unknown_liquid])\n",
    "plate_96.get_well(\"B1\").tracker.set_liquids([octanol])\n",
    "plate_12.get_well(\"A1\").tracker.set_liquids([red_dye])"
   ]
  },
  {
   "cell_type": "markdown",
   "id": "114df011",
   "metadata": {},
   "source": [
    "Great! Now go look at the visualizer. You should see something like this:\n",
    "\n",
    "<div>\n",
    "<img src=\"../figs/filled_wells.png\" width=\"250\"/>\n",
    "</div>\n",
    "\n",
    "The visualizer will actually shade the liquid volume by the amount in a well, relative to that well's maximum volume! So you can see, well B1 is filled to capacity (360 uL / 360 uL), so it has the deepest red color, while well A1 only has 180 uL, so it is filled to half capacity. Finally, well A1 of the 12-well plate is filled the least (percentage-wise) so it has the lightest color.\n",
    "\n",
    "Currently, only red is supported as the color of solvent, so you'll haave to use your imagination here if mixing liquids. We can also use the `add_liquid` and `remove_liquid` functions to achieve similar functionality as the `set_liquids` function. These should **not** be used in lieu of pipetting operations, but rather are meant to be used to represent manual operations outside the liquid handler.\n",
    "\n",
    "**Note-** The `add_liquid` function expects the liquid identifier as the first argument and the amount as the second argument, so just unpack the tuple. The `remove_liquid` doesn't require a liquid identifier, just the amount ot remove. The `remove_liquid` function will lso return a List of Tuples of liquids and volume removed if you call the function, which may be useful to store as a variable, for example, if you have to manually move an entire well contents somewhere else manually during a protocol."
   ]
  },
  {
   "cell_type": "code",
   "execution_count": 8,
   "id": "f70145ad",
   "metadata": {},
   "outputs": [
    {
     "data": {
      "text/plain": [
       "[('Red Dye', 2000)]"
      ]
     },
     "execution_count": 8,
     "metadata": {},
     "output_type": "execute_result"
    }
   ],
   "source": [
    "plate_96.get_well(\"A1\").tracker.add_liquid(*unknown_liquid)\n",
    "plate_12.get_well(\"A1\").tracker.remove_liquid(volume = 2000)"
   ]
  },
  {
   "cell_type": "markdown",
   "id": "91ab7bd9",
   "metadata": {},
   "source": [
    "Great! You should now have something that looks like this\n",
    "\n",
    "<div>\n",
    "<img src=\"../figs/add_and_remove_liquid.png\" width=\"250\"/>\n",
    "</div>\n",
    "\n",
    "Note, since we doubled the liquid in well A1, it is now also full! We have also removed all the liquids in well A1 of the 12-well plate.\n",
    "\n",
    "Certainly, you could manually assign liquids to each well, but this would get cumbersome with a lot of wells you are trying to fill!\n",
    "\n",
    "There are several options for traversing over wells using iterators. Let's see some examples below"
   ]
  },
  {
   "cell_type": "markdown",
   "id": "07f5850d",
   "metadata": {},
   "source": [
    "#### Traversal of Labware\n",
    "There are several ways to iterate over a given piece of labware, including **manual loops**, **labware-specific methods**, and **generators**. This section will review all three methods; you should implement the one you are most comfortable with using in the Python code (i.e. there is not a definite solution on how to traverse over labware.)\n",
    "\n",
    "##### Manual Looping\n",
    "Since we know how many wells are preseent on a given piece of labware, we can utilize that information to manually loop through all spots on a given plate using a **for loop** in Python and the `get_well()` method.\n"
   ]
  },
  {
   "cell_type": "code",
   "execution_count": 22,
   "id": "e811fcd4",
   "metadata": {},
   "outputs": [],
   "source": [
    "# define function to reset liquids on a plate\n",
    "def reset_liquids(plate, plate_num_items: int = 96):\n",
    "    liquids = [[(None, None)]] * plate_num_items\n",
    "    plate.set_well_liquids(liquids)"
   ]
  },
  {
   "cell_type": "code",
   "execution_count": 65,
   "id": "daff53ba",
   "metadata": {},
   "outputs": [
    {
     "name": "stdout",
     "output_type": "stream",
     "text": [
      "Setting up the liquid handler.\n",
      "Resource deck was assigned to the liquid handler.\n",
      "Resource trash was assigned to the liquid handler.\n",
      "Resource trash_core96 was assigned to the liquid handler.\n",
      "Resource waste_block was assigned to the liquid handler.\n",
      "Resource awesome plate carrier was assigned to the liquid handler.\n",
      "Resource awesome tip carrier 96x5 was assigned to the liquid handler.\n",
      "Websocket server started at http://127.0.0.1:2134\n",
      "File server started at http://127.0.0.1:1350 . Open this URL in your browser.\n"
     ]
    }
   ],
   "source": [
    "# reset deck\n",
    "deck = await make_liquid_handling_deck()\n",
    "lh = await visualize_deck(deck, LiquidHandlerChatterboxBackend())\n",
    "\n",
    "# get the plates of interest\n",
    "plate_96_0 = lh.deck.get_resource(\"96_plate_0\")\n",
    "plate_96_1 = lh.deck.get_resource(\"96_plate_1\")\n",
    "plate_12 = lh.deck.get_resource(\"12_plate_0\")\n",
    "\n",
    "# lets add 150 uL to every well on the 96 well plate\n",
    "for i in range(96):\n",
    "    plate_96_0.get_well(i).tracker.set_liquids([red_dye])"
   ]
  },
  {
   "cell_type": "code",
   "execution_count": 24,
   "id": "dbc60c13",
   "metadata": {},
   "outputs": [],
   "source": [
    "# lets add 150 uL but only to every other column on the second 96 well plate\n",
    "for i in range(96):\n",
    "    if i % 16 <= 7: # modulo operator get's the remainder of each item\n",
    "        plate_96_1.get_well(i).tracker.set_liquids([red_dye])"
   ]
  },
  {
   "cell_type": "code",
   "execution_count": 25,
   "id": "0f742355",
   "metadata": {},
   "outputs": [],
   "source": [
    "# we can also index by the letter-integer combination. let's fill in the second row of the second plate\n",
    "# in python, an f-string is denoted by f\"<str_contents>\" where you can fill in variables inside the quotes\n",
    "# with their value. for example print(f\"Number: {i}\") will print \"Number 1, Number 2...\"\n",
    "\n",
    "# 2nd row is B1 - B12\n",
    "# 4th row is D1 - D12\n",
    "reset_liquids(plate_96_1)\n",
    "for i in range(12):\n",
    "    plate_96_1.get_well(f\"B{i + 1}\").tracker.set_liquids([red_dye])\n",
    "    plate_96_1.get_well(f\"D{i + 1}\").tracker.set_liquids([red_dye])"
   ]
  },
  {
   "cell_type": "code",
   "execution_count": null,
   "id": "24331d78",
   "metadata": {},
   "outputs": [
    {
     "name": "stdout",
     "output_type": "stream",
     "text": [
      "alphabet=['A', 'B', 'C', 'D', 'E', 'F', 'G', 'H']\n"
     ]
    }
   ],
   "source": [
    "# now let's fill in the second and 4th columns\n",
    "# we can do this by defining a capital letter alphabet that ranges from A - H\n",
    "# 2nd column is A2 - H2\n",
    "# 4th column is A4 - H4\n",
    "reset_liquids(plate_96_1)\n",
    "alphabet = [chr(i) for i in range(65, 73)]\n",
    "print(f\"{alphabet=}\") # prints alphabet=['A', 'B', 'C', 'D', 'E', 'F', 'G', 'H']\n",
    "for i in range(8):\n",
    "    plate_96_1.get_well(f\"{alphabet[i]}2\").tracker.set_liquids([red_dye])\n",
    "    plate_96_1.get_well(f\"{alphabet[i]}4\").tracker.set_liquids([red_dye])"
   ]
  },
  {
   "cell_type": "code",
   "execution_count": 43,
   "id": "ccfbda29",
   "metadata": {},
   "outputs": [
    {
     "name": "stdout",
     "output_type": "stream",
     "text": [
      "X-axis items (96 well plate): 12\n",
      "Y-axis items (96 well plate): 8\n",
      "All items (96 well plate): 96\n",
      "X-axis items (12 well plate): 4\n",
      "Y-axis items (12 well plate): 3\n",
      "All items (12 well plate): 12\n"
     ]
    }
   ],
   "source": [
    "# if you don't know the number of items in a given plate, you can check\n",
    "print(f\"X-axis items (96 well plate): {plate_96_1.num_items_x}\")\n",
    "print(f\"Y-axis items (96 well plate): {plate_96_1.num_items_y}\")\n",
    "print(f\"All items (96 well plate): {plate_96_1.num_items}\")\n",
    "\n",
    "print(f\"X-axis items (12 well plate): {plate_12.num_items_x}\")\n",
    "print(f\"Y-axis items (12 well plate): {plate_12.num_items_y}\")\n",
    "print(f\"All items (12 well plate): {plate_12.num_items}\")\n",
    "\n",
    "# you can also access plates by row or column as well\n",
    "# generally, you shouldn't use the num_items methods because you should know how many\n",
    "# rows and columns are in your experimental setup a priori.\n",
    "reset_liquids(plate_96_1)\n",
    "num_rows = plate_96_1.num_items_y\n",
    "num_cols = plate_96_1.num_items_x\n",
    "for row in range(num_rows):\n",
    "    if row % 2 == 0:\n",
    "        for well in plate_96_1.row(row):\n",
    "            well.tracker.set_liquids([red_dye])"
   ]
  },
  {
   "cell_type": "markdown",
   "id": "9a8d2417",
   "metadata": {},
   "source": [
    "#### Traversal Functions\n",
    "To iterate over locations on labware, we can also use the `traverse()` function. This produces a [generator](https://wiki.python.org/moin/Generators) object that we can iterate over to yield our desired wells.\n",
    "\n",
    "`traverse()` takes in three arguments:\n",
    "* **batch_size** is the amount of wells to return\n",
    "* **start** is where to start\n",
    "* **direction** is how to iterate over the wells.\n",
    "\n",
    "**More info on direction:**\n",
    "- starting location can be one of \"top_left\", \"bottom_left\", \"top_right\", \"bottom_right\"\n",
    "- direction can be one of \"up\", \"down\", \"right\", \"left\", \"snake_up\", \"snake_down\",\"snake_left\", \"snake_right\",\n",
    "\n",
    "The snake directions alternate between going in the given direction and going in the opposite direction. For example, \"snake_down\" will go from **A1** to **H1**, then **H2** to **A2**, then **A3** to **H3**, etc.\n",
    "\n",
    "Enables complex traversal methods without too much troublesome python code."
   ]
  },
  {
   "cell_type": "code",
   "execution_count": 146,
   "id": "5bf06ed6",
   "metadata": {},
   "outputs": [
    {
     "ename": "ValueError",
     "evalue": "Cannot start from bottom_right and go down.",
     "output_type": "error",
     "traceback": [
      "\u001b[31m---------------------------------------------------------------------------\u001b[39m",
      "\u001b[31mValueError\u001b[39m                                Traceback (most recent call last)",
      "\u001b[36mCell\u001b[39m\u001b[36m \u001b[39m\u001b[32mIn[146]\u001b[39m\u001b[32m, line 2\u001b[39m\n\u001b[32m      1\u001b[39m plate = plate_96_0\n\u001b[32m----> \u001b[39m\u001b[32m2\u001b[39m wells = \u001b[43mplate\u001b[49m\u001b[43m.\u001b[49m\u001b[43mtraverse\u001b[49m\u001b[43m(\u001b[49m\u001b[43mstart\u001b[49m\u001b[43m=\u001b[49m\u001b[33;43m\"\u001b[39;49m\u001b[33;43mbottom_right\u001b[39;49m\u001b[33;43m\"\u001b[39;49m\u001b[43m,\u001b[49m\u001b[43m \u001b[49m\u001b[43mbatch_size\u001b[49m\u001b[43m \u001b[49m\u001b[43m=\u001b[49m\u001b[43m \u001b[49m\u001b[32;43m4\u001b[39;49m\u001b[43m,\u001b[49m\u001b[43m \u001b[49m\u001b[43mdirection\u001b[49m\u001b[43m=\u001b[49m\u001b[33;43m'\u001b[39;49m\u001b[33;43mdown\u001b[39;49m\u001b[33;43m'\u001b[39;49m\u001b[43m)\u001b[49m\n\u001b[32m      4\u001b[39m \u001b[38;5;66;03m# this function will help print the wells being iterated over in each batch.\u001b[39;00m\n\u001b[32m      5\u001b[39m \u001b[38;5;66;03m# it is recommended to try different combinations of batch_size, direction, and starting point to visualize\u001b[39;00m\n\u001b[32m      6\u001b[39m \u001b[38;5;66;03m# how this affects the well traversal.\u001b[39;00m\n\u001b[32m      7\u001b[39m \u001b[38;5;28;01mdef\u001b[39;00m\u001b[38;5;250m \u001b[39m\u001b[34mprint_well_batches\u001b[39m(well_batch_iterator):\n",
      "\u001b[36mFile \u001b[39m\u001b[32m~/Documents/duke/ta/emma_590/bme590-fall-2025/pylabrobot/pylabrobot/resources/itemized_resource.py:326\u001b[39m, in \u001b[36mItemizedResource.traverse\u001b[39m\u001b[34m(self, batch_size, start, direction, repeat)\u001b[39m\n\u001b[32m    324\u001b[39m \u001b[38;5;28;01mif\u001b[39;00m \u001b[33m\"\u001b[39m\u001b[33mbottom\u001b[39m\u001b[33m\"\u001b[39m \u001b[38;5;129;01min\u001b[39;00m start:\n\u001b[32m    325\u001b[39m   \u001b[38;5;28;01mif\u001b[39;00m \u001b[33m\"\u001b[39m\u001b[33mdown\u001b[39m\u001b[33m\"\u001b[39m \u001b[38;5;129;01min\u001b[39;00m direction:\n\u001b[32m--> \u001b[39m\u001b[32m326\u001b[39m     \u001b[38;5;28;01mraise\u001b[39;00m \u001b[38;5;167;01mValueError\u001b[39;00m(\u001b[33mf\u001b[39m\u001b[33m\"\u001b[39m\u001b[33mCannot start from \u001b[39m\u001b[38;5;132;01m{\u001b[39;00mstart\u001b[38;5;132;01m}\u001b[39;00m\u001b[33m and go \u001b[39m\u001b[38;5;132;01m{\u001b[39;00mdirection\u001b[38;5;132;01m}\u001b[39;00m\u001b[33m.\u001b[39m\u001b[33m\"\u001b[39m)\n\u001b[32m    327\u001b[39m   rows.reverse()\n\u001b[32m    329\u001b[39m \u001b[38;5;28;01mif\u001b[39;00m \u001b[33m\"\u001b[39m\u001b[33mright\u001b[39m\u001b[33m\"\u001b[39m \u001b[38;5;129;01min\u001b[39;00m start:\n",
      "\u001b[31mValueError\u001b[39m: Cannot start from bottom_right and go down."
     ]
    }
   ],
   "source": [
    "plate = plate_96_0\n",
    "wells = plate.traverse(start=\"bottom_right\", batch_size = 4, direction='down')\n",
    "\n",
    "# this function will help print the wells being iterated over in each batch.\n",
    "# it is recommended to try different combinations of batch_size, direction, and starting point to visualize\n",
    "# how this affects the well traversal.\n",
    "def print_well_batches(well_batch_iterator):\n",
    "    for i, well_batch in enumerate(well_batch_iterator):\n",
    "        start_well = well_batch[0].name.split(\"_\")[-1]\n",
    "        end_well = well_batch[-1].name.split(\"_\")[-1]\n",
    "        print(f\"Batch {i}:\\tStart Well: {start_well}\\tEnd Well: {end_well}\")\n",
    "\n",
    "print_well_batches(wells)"
   ]
  },
  {
   "cell_type": "code",
   "execution_count": 145,
   "id": "e74c65b9",
   "metadata": {},
   "outputs": [],
   "source": [
    "plate = plate_96_0\n",
    "wells = plate.traverse(start=\"top_left\", batch_size = 4, direction='down')\n",
    "\n",
    "# this function will enable trying differnet traversal methods and filling every other batch with\n",
    "# red liquid on the visualizer to see how the traversal method changes things\n",
    "def fill_every_other_batch(well_batch_iterator, plate):\n",
    "    reset_liquids(plate)\n",
    "    for i, well_batch in enumerate(well_batch_iterator):\n",
    "        if i % 2 == 0:\n",
    "            for well in well_batch:\n",
    "                well.tracker.set_liquids([red_dye])\n",
    "fill_every_other_batch(wells, plate)"
   ]
  },
  {
   "cell_type": "markdown",
   "id": "f6b3720f",
   "metadata": {},
   "source": [
    "#### Tip racks\n",
    "Tip racks are similar to a plate with wells or any other iterable resource; however, instead of caring about **what liquids** and **how much** are in each well, we now simply ask the question whether or not a **tip spot** contains an **unused tip**.\n",
    "\n",
    "Generally, most liquid handlind movements will necessarily have the following steps at some point:\n",
    "\n",
    "1. Pick up $N$ unused tips (or alternatively, re-use tips if they will not lead to cross-contamination...more on this later).\n",
    "\n",
    "2. Aspirate $V$ volume of liquid into the $N$ channels holding $N$ tips.\n",
    "\n",
    "3. Move pipetting head to a separate plate or target destination.\n",
    "\n",
    "4. Dispense $V$ volume of liquid into $N$ target wells with $N$ channels.\n",
    "\n",
    "5. Discard the used tips in the trash container on your machine.\n",
    "\n",
    "Let's examine our tip racks and some utilities when using them."
   ]
  },
  {
   "cell_type": "code",
   "execution_count": 101,
   "id": "a1e0bc9a",
   "metadata": {},
   "outputs": [
    {
     "name": "stdout",
     "output_type": "stream",
     "text": [
      "Setting up the liquid handler.\n",
      "Resource deck was assigned to the liquid handler.\n",
      "Resource trash was assigned to the liquid handler.\n",
      "Resource trash_core96 was assigned to the liquid handler.\n",
      "Resource waste_block was assigned to the liquid handler.\n",
      "Resource awesome plate carrier was assigned to the liquid handler.\n",
      "Resource awesome tip carrier 96x5 was assigned to the liquid handler.\n",
      "Websocket server started at http://127.0.0.1:2141\n",
      "File server started at http://127.0.0.1:1357 . Open this URL in your browser.\n",
      "<bound method HamiltonDeck.summary of HamiltonSTARDeck(name=deck, location=Coordinate(000.000, 000.000, 000.000), size_x=1900, size_y=653.5, size_z=900, category=deck)>\n"
     ]
    }
   ],
   "source": [
    "deck = await make_liquid_handling_deck()\n",
    "lh = await visualize_deck(deck, LiquidHandlerChatterboxBackend())\n",
    "print(deck.summary)\n",
    "\n",
    "# get the plates of interest\n",
    "tips_1000_uL_0 = lh.deck.get_resource(\"1000_tips_0\")\n",
    "tips_1000_uL_1 = lh.deck.get_resource(\"1000_tips_1\")\n",
    "tips_300_uL = lh.deck.get_resource(\"300_tips_1\")"
   ]
  },
  {
   "cell_type": "markdown",
   "id": "38956da8",
   "metadata": {},
   "source": [
    "To “empty” a tip rack after initialization, use the `empty()` method. To “fill” a tip rack after initialization, use the `fill()` method."
   ]
  },
  {
   "cell_type": "code",
   "execution_count": 81,
   "id": "55d9c80b",
   "metadata": {},
   "outputs": [],
   "source": [
    "tips_1000_uL_0.empty()\n",
    "tips_300_uL.empty()"
   ]
  },
  {
   "cell_type": "code",
   "execution_count": 82,
   "id": "80704006",
   "metadata": {},
   "outputs": [],
   "source": [
    "tips_1000_uL_0.fill()\n",
    "tips_300_uL.fill()"
   ]
  },
  {
   "cell_type": "markdown",
   "id": "68768245",
   "metadata": {},
   "source": [
    "You can have the liquid handler pick up a tip by calling `lh.pick_up_tips()`, and passing in the `TipSpot`s of the tips you want to retrieve. `TipSpot`s are indexed the same way that wells are.\n",
    "\n",
    "Let's try it"
   ]
  },
  {
   "cell_type": "code",
   "execution_count": 102,
   "id": "89db1e2c",
   "metadata": {},
   "outputs": [
    {
     "name": "stdout",
     "output_type": "stream",
     "text": [
      "Picking up tips:\n",
      "pip#  resource             offset           tip type     max volume (µL)  fitting depth (mm)   tip length (mm)  filter    \n",
      "  p0: 1000_tips_0_tipspot_0_0 0,0,0            HamiltonTip  1065             8                    95.1             Yes       \n"
     ]
    }
   ],
   "source": [
    "await lh.pick_up_tips(tip_spots = tips_1000_uL_0[\"A1\"],\n",
    "                use_channels = [0])"
   ]
  },
  {
   "cell_type": "markdown",
   "id": "6106eb88",
   "metadata": {},
   "source": [
    "Returning tips is useful when:\n",
    "\n",
    "1.  The tips are clean and are being put back where they were retrieved from\n",
    "\n",
    "2.  The tips are not clean but can be **re-used** with the same liquid.\n",
    "\n",
    "Simply call `lh.return_tips()` to return the tips back to their starting point."
   ]
  },
  {
   "cell_type": "code",
   "execution_count": 104,
   "id": "9de3e07b",
   "metadata": {},
   "outputs": [
    {
     "ename": "RuntimeError",
     "evalue": "No tips have been picked up.",
     "output_type": "error",
     "traceback": [
      "\u001b[31m---------------------------------------------------------------------------\u001b[39m",
      "\u001b[31mRuntimeError\u001b[39m                              Traceback (most recent call last)",
      "\u001b[36mCell\u001b[39m\u001b[36m \u001b[39m\u001b[32mIn[104]\u001b[39m\u001b[32m, line 2\u001b[39m\n\u001b[32m      1\u001b[39m \u001b[38;5;66;03m# return tips\u001b[39;00m\n\u001b[32m----> \u001b[39m\u001b[32m2\u001b[39m \u001b[38;5;28;01mawait\u001b[39;00m lh.return_tips()\n",
      "\u001b[36mFile \u001b[39m\u001b[32m~/Documents/duke/ta/emma_590/bme590-fall-2025/pylabrobot/pylabrobot/liquid_handling/liquid_handler.py:672\u001b[39m, in \u001b[36mLiquidHandler.return_tips\u001b[39m\u001b[34m(self, use_channels, allow_nonzero_volume, **backend_kwargs)\u001b[39m\n\u001b[32m    669\u001b[39m     channels.append(channel)\n\u001b[32m    671\u001b[39m \u001b[38;5;28;01mif\u001b[39;00m \u001b[38;5;28mlen\u001b[39m(tip_spots) == \u001b[32m0\u001b[39m:\n\u001b[32m--> \u001b[39m\u001b[32m672\u001b[39m   \u001b[38;5;28;01mraise\u001b[39;00m \u001b[38;5;167;01mRuntimeError\u001b[39;00m(\u001b[33m\"\u001b[39m\u001b[33mNo tips have been picked up.\u001b[39m\u001b[33m\"\u001b[39m)\n\u001b[32m    674\u001b[39m \u001b[38;5;28;01mreturn\u001b[39;00m \u001b[38;5;28;01mawait\u001b[39;00m \u001b[38;5;28mself\u001b[39m.drop_tips(\n\u001b[32m    675\u001b[39m   tip_spots=tip_spots,\n\u001b[32m    676\u001b[39m   use_channels=channels,\n\u001b[32m    677\u001b[39m   allow_nonzero_volume=allow_nonzero_volume,\n\u001b[32m    678\u001b[39m   **backend_kwargs,\n\u001b[32m    679\u001b[39m )\n",
      "\u001b[31mRuntimeError\u001b[39m: No tips have been picked up."
     ]
    }
   ],
   "source": [
    "# return tips\n",
    "await lh.return_tips()"
   ]
  },
  {
   "cell_type": "markdown",
   "id": "aeb5dbaf",
   "metadata": {},
   "source": [
    "What happens if we call `lh.return_tips()` again? We should run into a **RuntimeError** telling us that no tips have been picked up, so it makes no sense to try to return tips if there are no tips to return.\n",
    "\n",
    "PyLabRobot has several very useful errors like this that will help you plan a protocol (more on this later)\n",
    "\n",
    "Try it out below. Call `lh.return_tips()`"
   ]
  },
  {
   "cell_type": "code",
   "execution_count": 106,
   "id": "435d7d77",
   "metadata": {},
   "outputs": [
    {
     "ename": "RuntimeError",
     "evalue": "No tips have been picked up.",
     "output_type": "error",
     "traceback": [
      "\u001b[31m---------------------------------------------------------------------------\u001b[39m",
      "\u001b[31mRuntimeError\u001b[39m                              Traceback (most recent call last)",
      "\u001b[36mCell\u001b[39m\u001b[36m \u001b[39m\u001b[32mIn[106]\u001b[39m\u001b[32m, line 2\u001b[39m\n\u001b[32m      1\u001b[39m \u001b[38;5;66;03m# error: return tips - explanation\u001b[39;00m\n\u001b[32m----> \u001b[39m\u001b[32m2\u001b[39m \u001b[38;5;28;01mawait\u001b[39;00m lh.return_tips()\n",
      "\u001b[36mFile \u001b[39m\u001b[32m~/Documents/duke/ta/emma_590/bme590-fall-2025/pylabrobot/pylabrobot/liquid_handling/liquid_handler.py:672\u001b[39m, in \u001b[36mLiquidHandler.return_tips\u001b[39m\u001b[34m(self, use_channels, allow_nonzero_volume, **backend_kwargs)\u001b[39m\n\u001b[32m    669\u001b[39m     channels.append(channel)\n\u001b[32m    671\u001b[39m \u001b[38;5;28;01mif\u001b[39;00m \u001b[38;5;28mlen\u001b[39m(tip_spots) == \u001b[32m0\u001b[39m:\n\u001b[32m--> \u001b[39m\u001b[32m672\u001b[39m   \u001b[38;5;28;01mraise\u001b[39;00m \u001b[38;5;167;01mRuntimeError\u001b[39;00m(\u001b[33m\"\u001b[39m\u001b[33mNo tips have been picked up.\u001b[39m\u001b[33m\"\u001b[39m)\n\u001b[32m    674\u001b[39m \u001b[38;5;28;01mreturn\u001b[39;00m \u001b[38;5;28;01mawait\u001b[39;00m \u001b[38;5;28mself\u001b[39m.drop_tips(\n\u001b[32m    675\u001b[39m   tip_spots=tip_spots,\n\u001b[32m    676\u001b[39m   use_channels=channels,\n\u001b[32m    677\u001b[39m   allow_nonzero_volume=allow_nonzero_volume,\n\u001b[32m    678\u001b[39m   **backend_kwargs,\n\u001b[32m    679\u001b[39m )\n",
      "\u001b[31mRuntimeError\u001b[39m: No tips have been picked up."
     ]
    }
   ],
   "source": [
    "# error: return tips - explanation\n",
    "await lh.return_tips()"
   ]
  },
  {
   "cell_type": "markdown",
   "id": "2927bcda",
   "metadata": {},
   "source": [
    "PyLabRobot can also track whether or not the liquid handler has a tip, based on the history of executed steps on the liquid handler."
   ]
  },
  {
   "cell_type": "code",
   "execution_count": null,
   "id": "a613b69c",
   "metadata": {},
   "outputs": [
    {
     "name": "stdout",
     "output_type": "stream",
     "text": [
      "False\n"
     ]
    }
   ],
   "source": [
    "# lh tip state\n",
    "print(lh.head[0].has_tip)"
   ]
  },
  {
   "cell_type": "markdown",
   "id": "f9bbaf96",
   "metadata": {},
   "source": [
    "We used the `[0]` syntax because we are asking if a the first channel has a tip on it on the given liquid handler. To see the full status of the head of the liquid handler, we can print `lh.head`"
   ]
  },
  {
   "cell_type": "code",
   "execution_count": 133,
   "id": "d8a10106",
   "metadata": {},
   "outputs": [
    {
     "name": "stdout",
     "output_type": "stream",
     "text": [
      "{0: TipTracker(Channel 0, is_disabled=False, has_tip=True tip=HamiltonTip(HIGH_VOLUME, has_filter=True, maximal_volume=1065, fitting_depth=8, total_tip_length=95.1, pickup_method=OUT_OF_RACK), pending_tip=HamiltonTip(HIGH_VOLUME, has_filter=True, maximal_volume=1065, fitting_depth=8, total_tip_length=95.1, pickup_method=OUT_OF_RACK)), 1: TipTracker(Channel 1, is_disabled=False, has_tip=False tip=None, pending_tip=None), 2: TipTracker(Channel 2, is_disabled=False, has_tip=False tip=None, pending_tip=None), 3: TipTracker(Channel 3, is_disabled=False, has_tip=False tip=None, pending_tip=None), 4: TipTracker(Channel 4, is_disabled=False, has_tip=False tip=None, pending_tip=None), 5: TipTracker(Channel 5, is_disabled=False, has_tip=False tip=None, pending_tip=None), 6: TipTracker(Channel 6, is_disabled=False, has_tip=False tip=None, pending_tip=None), 7: TipTracker(Channel 7, is_disabled=False, has_tip=False tip=None, pending_tip=None)}\n"
     ]
    }
   ],
   "source": [
    "print(lh.head)"
   ]
  },
  {
   "cell_type": "markdown",
   "id": "38672e45",
   "metadata": {},
   "source": [
    "This is hard to read, let's write a function to print out this information is a more user-friendly way."
   ]
  },
  {
   "cell_type": "code",
   "execution_count": 138,
   "id": "568a6387",
   "metadata": {},
   "outputs": [
    {
     "name": "stdout",
     "output_type": "stream",
     "text": [
      "\n",
      "Channel Status...\n",
      "\n",
      "\n",
      "Channel 0:\n",
      "Tip: HamiltonTip(HIGH_VOLUME, has_filter=True, maximal_volume=1065, fitting_depth=8, total_tip_length=95.1, pickup_method=OUT_OF_RACK)\n",
      "Origin: TipSpot(name=1000_tips_0_tipspot_0_0, location=Coordinate(007.200, 068.300, -83.500), size_x=9.0, size_y=9.0, size_z=0, category=tip_spot)\n",
      "\n",
      "Channel 1:\n",
      "No tip present.\n",
      "\n",
      "Channel 2:\n",
      "No tip present.\n",
      "\n",
      "Channel 3:\n",
      "No tip present.\n",
      "\n",
      "Channel 4:\n",
      "No tip present.\n",
      "\n",
      "Channel 5:\n",
      "No tip present.\n",
      "\n",
      "Channel 6:\n",
      "No tip present.\n",
      "\n",
      "Channel 7:\n",
      "No tip present.\n",
      "\n"
     ]
    }
   ],
   "source": [
    "def print_channels_tip_origin(lh):\n",
    "\n",
    "    # Prints the origin location of all tips currently on the robot\n",
    "    cur_pipetter = lh.head\n",
    "    print(\"\\nChannel Status...\\n\\n\")\n",
    "\n",
    "    for channel in cur_pipetter:\n",
    "        print(f\"Channel {channel}:\")\n",
    "        tip_tracker = lh.head[channel]\n",
    "        if tip_tracker.has_tip == True:\n",
    "            print(f\"Tip: {tip_tracker.get_tip()}\")\n",
    "            print(f\"Origin: {tip_tracker.get_tip_origin()}\")\n",
    "        else:\n",
    "            print(\"No tip present.\")\n",
    "        print()\n",
    "\n",
    "print_channels_tip_origin(lh)"
   ]
  },
  {
   "cell_type": "code",
   "execution_count": 129,
   "id": "a30fa466",
   "metadata": {},
   "outputs": [],
   "source": [
    "async def reset_tip_box_and_pipette_head(lh, tip_rack):\n",
    "    print(\"Resetting tip rack...\")\n",
    "    tip_rack.fill()\n",
    "    await lh.discard_tips()"
   ]
  },
  {
   "cell_type": "markdown",
   "id": "a9acf34d",
   "metadata": {},
   "source": [
    "Great, now we can see, of the **8 channels** on our pipeeter, that none of them contain a tip. Let's pick up a tip and then try again."
   ]
  },
  {
   "cell_type": "code",
   "execution_count": 139,
   "id": "c37100ad",
   "metadata": {},
   "outputs": [
    {
     "name": "stdout",
     "output_type": "stream",
     "text": [
      "Resetting tip rack...\n",
      "Dropping tips:\n",
      "pip#  resource             offset           tip type     max volume (µL)  fitting depth (mm)   tip length (mm)  filter    \n",
      "  p0: trash                0,0.0,0          HamiltonTip  1065             8                    95.1             Yes       \n",
      "Picking up tips:\n",
      "pip#  resource             offset           tip type     max volume (µL)  fitting depth (mm)   tip length (mm)  filter    \n",
      "  p0: 1000_tips_0_tipspot_0_0 0,0,0            HamiltonTip  1065             8                    95.1             Yes       \n",
      "\n",
      "Channel Status...\n",
      "\n",
      "\n",
      "Channel 0:\n",
      "Tip: HamiltonTip(HIGH_VOLUME, has_filter=True, maximal_volume=1065, fitting_depth=8, total_tip_length=95.1, pickup_method=OUT_OF_RACK)\n",
      "Origin: TipSpot(name=1000_tips_0_tipspot_0_0, location=Coordinate(007.200, 068.300, -83.500), size_x=9.0, size_y=9.0, size_z=0, category=tip_spot)\n",
      "\n",
      "Channel 1:\n",
      "No tip present.\n",
      "\n",
      "Channel 2:\n",
      "No tip present.\n",
      "\n",
      "Channel 3:\n",
      "No tip present.\n",
      "\n",
      "Channel 4:\n",
      "No tip present.\n",
      "\n",
      "Channel 5:\n",
      "No tip present.\n",
      "\n",
      "Channel 6:\n",
      "No tip present.\n",
      "\n",
      "Channel 7:\n",
      "No tip present.\n",
      "\n"
     ]
    }
   ],
   "source": [
    "await reset_tip_box_and_pipette_head(lh, tips_1000_uL_0)\n",
    "await lh.pick_up_tips(tip_spots = tips_1000_uL_0[\"A1\"],\n",
    "                use_channels = [0])\n",
    "print_channels_tip_origin(lh)\n"
   ]
  },
  {
   "cell_type": "markdown",
   "id": "5bc50ca1",
   "metadata": {},
   "source": [
    "Great! Now what you should notice is that channel 0 now contains both:\n",
    "\n",
    "- A tip: `HamiltonTip(HIGH_VOLUME, has_filter=True, maximal_volume=1065, fitting_depth=8, total_tip_length=95.1, pickup_method=OUT_OF_RACK)`\n",
    "\n",
    "- The tip's origin: `TipSpot(name=1000_tips_0_tipspot_0_0, location=Coordinate(007.200, 068.300, -83.500), size_x=9.0, size_y=9.0, size_z=0, category=tip_spot)`\n",
    "\n",
    "So far, we have only shown how to get one tip at a time. For robots with only **one channel**, this is all you are limited to, and pipetting operations must be singleton (i.e. meaning, you would have to iterate over wells for pipetting with a **for loop**)\n",
    "\n",
    "For coding purposes, this won't make much of a difference, since **for loops** can execute as fast as your machine can process the Pythonic code. However, if your particular liquid handler can grab **multiple tips** at the same time, then the number of **physical operations** (movement of the robotic arm) decreases signficantly, which can not only speed up your protocol, but also had other benefits such as energy cost savings and reduced wear-and-tear on the physical system.\n",
    "\n",
    "The `use_channels` argument is very useful here, where you want to pass in a list of **channel indices** that you'd like to use to pick up the tips."
   ]
  },
  {
   "cell_type": "code",
   "execution_count": 141,
   "id": "70a5303e",
   "metadata": {},
   "outputs": [
    {
     "name": "stdout",
     "output_type": "stream",
     "text": [
      "Resetting tip rack...\n",
      "Dropping tips:\n",
      "pip#  resource             offset           tip type     max volume (µL)  fitting depth (mm)   tip length (mm)  filter    \n",
      "  p0: trash                0,4.5,0          HamiltonTip  1065             8                    95.1             Yes       \n",
      "  p1: trash                0,-4.5,0         HamiltonTip  1065             8                    95.1             Yes       \n",
      "Picking up tips:\n",
      "pip#  resource             offset           tip type     max volume (µL)  fitting depth (mm)   tip length (mm)  filter    \n",
      "  p0: 1000_tips_0_tipspot_0_0 0,0,0            HamiltonTip  1065             8                    95.1             Yes       \n",
      "  p1: 1000_tips_0_tipspot_1_0 0,0,0            HamiltonTip  1065             8                    95.1             Yes       \n",
      "\n",
      "Channel Status...\n",
      "\n",
      "\n",
      "Channel 0:\n",
      "Tip: HamiltonTip(HIGH_VOLUME, has_filter=True, maximal_volume=1065, fitting_depth=8, total_tip_length=95.1, pickup_method=OUT_OF_RACK)\n",
      "Origin: TipSpot(name=1000_tips_0_tipspot_0_0, location=Coordinate(007.200, 068.300, -83.500), size_x=9.0, size_y=9.0, size_z=0, category=tip_spot)\n",
      "\n",
      "Channel 1:\n",
      "Tip: HamiltonTip(HIGH_VOLUME, has_filter=True, maximal_volume=1065, fitting_depth=8, total_tip_length=95.1, pickup_method=OUT_OF_RACK)\n",
      "Origin: TipSpot(name=1000_tips_0_tipspot_1_0, location=Coordinate(016.200, 068.300, -83.500), size_x=9.0, size_y=9.0, size_z=0, category=tip_spot)\n",
      "\n",
      "Channel 2:\n",
      "No tip present.\n",
      "\n",
      "Channel 3:\n",
      "No tip present.\n",
      "\n",
      "Channel 4:\n",
      "No tip present.\n",
      "\n",
      "Channel 5:\n",
      "No tip present.\n",
      "\n",
      "Channel 6:\n",
      "No tip present.\n",
      "\n",
      "Channel 7:\n",
      "No tip present.\n",
      "\n"
     ]
    }
   ],
   "source": [
    "# pick up tips with 2 channels\n",
    "await reset_tip_box_and_pipette_head(lh, tips_1000_uL_0)\n",
    "await lh.pick_up_tips(tip_spots = tips_1000_uL_0[\"A1\", \"A2\"],\n",
    "                use_channels = [0, 1])\n",
    "print_channels_tip_origin(lh)"
   ]
  },
  {
   "cell_type": "code",
   "execution_count": 143,
   "id": "7f899ff7",
   "metadata": {},
   "outputs": [
    {
     "name": "stdout",
     "output_type": "stream",
     "text": [
      "Resetting tip rack...\n"
     ]
    },
    {
     "ename": "RuntimeError",
     "evalue": "No tips have been picked up and no channels were specified.",
     "output_type": "error",
     "traceback": [
      "\u001b[31m---------------------------------------------------------------------------\u001b[39m",
      "\u001b[31mRuntimeError\u001b[39m                              Traceback (most recent call last)",
      "\u001b[36mCell\u001b[39m\u001b[36m \u001b[39m\u001b[32mIn[143]\u001b[39m\u001b[32m, line 2\u001b[39m\n\u001b[32m      1\u001b[39m \u001b[38;5;66;03m# using all 8 channels\u001b[39;00m\n\u001b[32m----> \u001b[39m\u001b[32m2\u001b[39m \u001b[38;5;28;01mawait\u001b[39;00m reset_tip_box_and_pipette_head(lh, tips_1000_uL_0)\n\u001b[32m      3\u001b[39m tip_spots = [\u001b[33mf\u001b[39m\u001b[33m\"\u001b[39m\u001b[33mA\u001b[39m\u001b[38;5;132;01m{\u001b[39;00mi\u001b[38;5;250m \u001b[39m+\u001b[38;5;250m \u001b[39m\u001b[32m1\u001b[39m\u001b[38;5;132;01m}\u001b[39;00m\u001b[33m\"\u001b[39m \u001b[38;5;28;01mfor\u001b[39;00m i \u001b[38;5;129;01min\u001b[39;00m \u001b[38;5;28mrange\u001b[39m(\u001b[32m8\u001b[39m)]\n\u001b[32m      4\u001b[39m channels = [i \u001b[38;5;28;01mfor\u001b[39;00m i \u001b[38;5;129;01min\u001b[39;00m \u001b[38;5;28mrange\u001b[39m(\u001b[32m8\u001b[39m)]\n",
      "\u001b[36mCell\u001b[39m\u001b[36m \u001b[39m\u001b[32mIn[129]\u001b[39m\u001b[32m, line 4\u001b[39m, in \u001b[36mreset_tip_box_and_pipette_head\u001b[39m\u001b[34m(lh, tip_rack)\u001b[39m\n\u001b[32m      2\u001b[39m \u001b[38;5;28mprint\u001b[39m(\u001b[33m\"\u001b[39m\u001b[33mResetting tip rack...\u001b[39m\u001b[33m\"\u001b[39m)\n\u001b[32m      3\u001b[39m tip_rack.fill()\n\u001b[32m----> \u001b[39m\u001b[32m4\u001b[39m \u001b[38;5;28;01mawait\u001b[39;00m lh.discard_tips()\n",
      "\u001b[36mFile \u001b[39m\u001b[32m~/Documents/duke/ta/emma_590/bme590-fall-2025/pylabrobot/pylabrobot/liquid_handling/liquid_handler.py:720\u001b[39m, in \u001b[36mLiquidHandler.discard_tips\u001b[39m\u001b[34m(self, use_channels, allow_nonzero_volume, offsets, **backend_kwargs)\u001b[39m\n\u001b[32m    717\u001b[39m n = \u001b[38;5;28mlen\u001b[39m(use_channels)\n\u001b[32m    719\u001b[39m \u001b[38;5;28;01mif\u001b[39;00m n == \u001b[32m0\u001b[39m:\n\u001b[32m--> \u001b[39m\u001b[32m720\u001b[39m   \u001b[38;5;28;01mraise\u001b[39;00m \u001b[38;5;167;01mRuntimeError\u001b[39;00m(\u001b[33m\"\u001b[39m\u001b[33mNo tips have been picked up and no channels were specified.\u001b[39m\u001b[33m\"\u001b[39m)\n\u001b[32m    722\u001b[39m trash = \u001b[38;5;28mself\u001b[39m.deck.get_trash_area()\n\u001b[32m    723\u001b[39m trash_offsets = get_tight_single_resource_liquid_op_offsets(\n\u001b[32m    724\u001b[39m   trash,\n\u001b[32m    725\u001b[39m   num_channels=n,\n\u001b[32m    726\u001b[39m )\n",
      "\u001b[31mRuntimeError\u001b[39m: No tips have been picked up and no channels were specified."
     ]
    }
   ],
   "source": [
    "# using all 8 channels\n",
    "await reset_tip_box_and_pipette_head(lh, tips_1000_uL_0)\n",
    "tip_spots = [f\"A{i + 1}\" for i in range(8)]\n",
    "channels = [i for i in range(8)]\n",
    "await lh.pick_up_tips(tip_spots = tips_1000_uL_0[tip_spots],\n",
    "                use_channels = channels)\n",
    "print_channels_tip_origin(lh)"
   ]
  },
  {
   "cell_type": "markdown",
   "id": "16af86cf",
   "metadata": {},
   "source": [
    "some devices even have a 96-tip head"
   ]
  },
  {
   "cell_type": "code",
   "execution_count": null,
   "id": "f582fab0",
   "metadata": {},
   "outputs": [],
   "source": [
    "# pick up 96"
   ]
  },
  {
   "cell_type": "markdown",
   "id": "b5a646b1",
   "metadata": {},
   "source": [
    "you can even use this for quadrant mode"
   ]
  },
  {
   "cell_type": "code",
   "execution_count": null,
   "id": "3cbbd5df",
   "metadata": {},
   "outputs": [],
   "source": [
    "# quadrant mode"
   ]
  },
  {
   "cell_type": "markdown",
   "id": "ddf14b5b",
   "metadata": {},
   "source": [
    "generators and iterators over tips"
   ]
  },
  {
   "cell_type": "code",
   "execution_count": null,
   "id": "9ee07fba",
   "metadata": {},
   "outputs": [],
   "source": [
    "# random selection"
   ]
  },
  {
   "cell_type": "code",
   "execution_count": null,
   "id": "36571fd3",
   "metadata": {},
   "outputs": [],
   "source": [
    "# iterator"
   ]
  },
  {
   "cell_type": "markdown",
   "id": "dc16f7ad",
   "metadata": {},
   "source": []
  },
  {
   "cell_type": "markdown",
   "id": "72fcea33",
   "metadata": {},
   "source": [
    "### Liquid Handling - Aspiration and Dispensing\n",
    "After you have picked up tips, you then need to use this step"
   ]
  },
  {
   "cell_type": "markdown",
   "id": "613fe48f",
   "metadata": {},
   "source": [
    "simple transfer"
   ]
  },
  {
   "cell_type": "code",
   "execution_count": null,
   "id": "887baa56",
   "metadata": {},
   "outputs": [],
   "source": [
    "# transfer from one well to another"
   ]
  },
  {
   "cell_type": "markdown",
   "id": "a40e2abf",
   "metadata": {},
   "source": [
    "simple transfer with for loop"
   ]
  },
  {
   "cell_type": "code",
   "execution_count": null,
   "id": "70a84334",
   "metadata": {},
   "outputs": [],
   "source": [
    "# example"
   ]
  },
  {
   "cell_type": "markdown",
   "id": "2c7060bf",
   "metadata": {},
   "source": [
    "simple transfer with channels"
   ]
  },
  {
   "cell_type": "code",
   "execution_count": null,
   "id": "c33dc86f",
   "metadata": {},
   "outputs": [],
   "source": [
    "# example"
   ]
  },
  {
   "cell_type": "markdown",
   "id": "85bf9484",
   "metadata": {},
   "source": [
    "transfer with 96 head"
   ]
  },
  {
   "cell_type": "markdown",
   "id": "e6a89e32",
   "metadata": {},
   "source": [
    "#### Setting Tip Locations\n",
    "##### Tip Fill/Removal\n",
    "\n",
    "\n",
    "#### Traversal of Labware Spots\n",
    "##### Universal Traversal\n",
    "\n",
    "#### Aspiration Operations\n",
    "\n",
    "#### Dispense Operations\n",
    "\n",
    "#### Tip Return & Discarding\n",
    "\n",
    "#### Trackers\n",
    "Trackers in PyLabRobot are objects that keep track of the state of the deck throughout a protocol. Three types of trackers currently exist:\n",
    "\n",
    "- **tip trackers** - tracks the presence of tips in tip racks and on the pipetting channels\n",
    "- **volume trackers** - tracks the volume in pipetting tips and wells/reservoirs\n",
    "- **cross contamination** - tracks whether a given action would result in two liquids mixing unintentionally, thus introducing contamination in a sample or tip.\n",
    "\n",
    "Why do we need trackers? \n",
    "#### Tracker Error Demonstration\n",
    "\n",
    "#### Other Errors "
   ]
  },
  {
   "cell_type": "markdown",
   "id": "97467cd3",
   "metadata": {},
   "source": [
    "#### Practice Time - Moving Liquids"
   ]
  },
  {
   "cell_type": "markdown",
   "id": "2bba441b",
   "metadata": {},
   "source": [
    "#### Exercises"
   ]
  },
  {
   "cell_type": "markdown",
   "id": "c310e8e5",
   "metadata": {},
   "source": []
  }
 ],
 "metadata": {
  "kernelspec": {
   "display_name": "lab-automation",
   "language": "python",
   "name": "python3"
  },
  "language_info": {
   "codemirror_mode": {
    "name": "ipython",
    "version": 3
   },
   "file_extension": ".py",
   "mimetype": "text/x-python",
   "name": "python",
   "nbconvert_exporter": "python",
   "pygments_lexer": "ipython3",
   "version": "3.13.5"
  }
 },
 "nbformat": 4,
 "nbformat_minor": 5
}
